{
 "cells": [
  {
   "cell_type": "markdown",
   "metadata": {},
   "source": [
    "# Batch Metadata Propogation and Data Upload"
   ]
  },
  {
   "cell_type": "markdown",
   "metadata": {
    "collapsed": true
   },
   "source": [
    "As part of the USGS's [Data at Risk(DaR)](https://www.fort.usgs.gov/ldi/data-at-risk-project) project, a data release was created with 80 sets of repeat photgraphs taken from the Kanab Creek portion of the USGS Southwest Biological Science Center's  Repeat Photography Collection.  \n",
    "\n",
    "Each set of photos is intended to be individually viewed or downloaded and thus needs a metadata record that matches it's contents.  This notebook shows how the core metadata manipulation functionality of the MetadataWizard can be used to produce a set of customized records.  Additionally, this script also automates the effort of uploading and organizing the files on the release platform ([USGS ScienceBase](https://www.sciencebase.gov/catalog/)). \n",
    "\n",
    "The resulting output of this script (a USGS Data Release) can be viewed at:\n",
    "https://www.sciencebase.gov/catalog/item/59a06998e4b038630d030600"
   ]
  },
  {
   "cell_type": "markdown",
   "metadata": {},
   "source": [
    "### Import the libraries we'll be using"
   ]
  },
  {
   "cell_type": "code",
   "execution_count": 1,
   "metadata": {
    "collapsed": true
   },
   "outputs": [],
   "source": [
    "import os\n",
    "import shutil\n",
    "\n",
    "import pandas as pd\n",
    "\n",
    "import pysb\n",
    "from pymdwizard.core.xml_utils import XMLRecord, XMLNode"
   ]
  },
  {
   "cell_type": "markdown",
   "metadata": {},
   "source": [
    "### The files we will be reading from, and the output folder we'll be writting to (Change these)"
   ]
  },
  {
   "cell_type": "code",
   "execution_count": 2,
   "metadata": {
    "collapsed": true
   },
   "outputs": [],
   "source": [
    "# This is a CSDGM record that we'll be using as the starting point for each of our output records.\n",
    "# We'll be doing string/xml manipulation to replace certain values, with the values for a particular site.\n",
    "template_xml_fname = r\"USGS-Southwest-Repeat-Photography-Collection_Kanab-Creek_1872-2010_Stake-694-Metadata.xml\"\n",
    "\n",
    "# This data frame contains a list of all the data packets we'll be updateing and uploading to ScienceBase \n",
    "excel_fname = r\"MetadataContents.xlsx\"\n",
    "\n",
    "# The local directory that contains the individual files we're creating metadata for and publishing\n",
    "input_data_dname = r\".\\Final Kanab Materials\"\n",
    "\n",
    "# This is a local directory we'll be outputing our final metadata into for QA/QC\n",
    "output_dname = r\".\\output\"\n",
    "\n",
    "# The ScienceBase identifyer of the parent item that the outputs will be uploaded to.\n",
    "parent_sb_id = '59a06998e4b038630d030600'\n",
    "\n",
    "# The sting variable with a format for our output file names\n",
    "empty_fname = \"USGS-Southwest-Repeat-Photography-Collection_Kanab-Creek_1872-2010_Stake-{}-Metadata.xml\""
   ]
  },
  {
   "cell_type": "markdown",
   "metadata": {},
   "source": [
    "####  Open our template metadata record"
   ]
  },
  {
   "cell_type": "code",
   "execution_count": 3,
   "metadata": {},
   "outputs": [],
   "source": [
    "template_md = XMLRecord(template_xml_fname)"
   ]
  },
  {
   "cell_type": "markdown",
   "metadata": {},
   "source": [
    "#### Extract the title and abstract contents and prepare them"
   ]
  },
  {
   "cell_type": "code",
   "execution_count": 4,
   "metadata": {},
   "outputs": [
    {
     "data": {
      "text/plain": [
       "'USGS Southwest Repeat Photography Collection: Kanab Creek, southern Utah and northern Arizona, 1872-2010: Stake 694'"
      ]
     },
     "execution_count": 4,
     "metadata": {},
     "output_type": "execute_result"
    }
   ],
   "source": [
    "template_md.metadata.idinfo.citation.citeinfo.title.text"
   ]
  },
  {
   "cell_type": "code",
   "execution_count": 5,
   "metadata": {},
   "outputs": [
    {
     "data": {
      "text/plain": [
       "'USGS Southwest Repeat Photography Collection: Kanab Creek, southern Utah and northern Arizona, 1872-2010: Stake {}'"
      ]
     },
     "execution_count": 5,
     "metadata": {},
     "output_type": "execute_result"
    }
   ],
   "source": [
    "empty_title = template_md.metadata.idinfo.citation.citeinfo.title.text.replace('694', '{}')\n",
    "empty_title"
   ]
  },
  {
   "cell_type": "code",
   "execution_count": 6,
   "metadata": {
    "collapsed": true
   },
   "outputs": [],
   "source": [
    "empty_abstract = template_md.metadata.idinfo.descript.abstract.text.replace('694', '{StakeNo}')\n",
    "empty_abstract = empty_abstract.replace('1872, 1972, and 1991', '{Repeat_Dates}')\n",
    "empty_abstract = empty_abstract.replace('36.39194', '{Lat}')\n",
    "empty_abstract = empty_abstract.replace('-112.62944', '{Long}')"
   ]
  },
  {
   "cell_type": "markdown",
   "metadata": {},
   "source": [
    "### Read in the list of values to propogate into each record"
   ]
  },
  {
   "cell_type": "code",
   "execution_count": 7,
   "metadata": {},
   "outputs": [
    {
     "data": {
      "text/html": [
       "<div>\n",
       "<style>\n",
       "    .dataframe thead tr:only-child th {\n",
       "        text-align: right;\n",
       "    }\n",
       "\n",
       "    .dataframe thead th {\n",
       "        text-align: left;\n",
       "    }\n",
       "\n",
       "    .dataframe tbody tr th {\n",
       "        vertical-align: top;\n",
       "    }\n",
       "</style>\n",
       "<table border=\"1\" class=\"dataframe\">\n",
       "  <thead>\n",
       "    <tr style=\"text-align: right;\">\n",
       "      <th></th>\n",
       "      <th>StakeNo</th>\n",
       "      <th>Lat</th>\n",
       "      <th>Long</th>\n",
       "      <th>Repeat_Dates</th>\n",
       "    </tr>\n",
       "  </thead>\n",
       "  <tbody>\n",
       "    <tr>\n",
       "      <th>0</th>\n",
       "      <td>1096</td>\n",
       "      <td>36.39583</td>\n",
       "      <td>-112.62389</td>\n",
       "      <td>1872, 1974, 1983, 1990 and 1991</td>\n",
       "    </tr>\n",
       "    <tr>\n",
       "      <th>1</th>\n",
       "      <td>1209</td>\n",
       "      <td>36.44944</td>\n",
       "      <td>-112.63750</td>\n",
       "      <td>1872 (no physical image), 1968 and 1990</td>\n",
       "    </tr>\n",
       "    <tr>\n",
       "      <th>2</th>\n",
       "      <td>1210</td>\n",
       "      <td>36.44317</td>\n",
       "      <td>-112.65206</td>\n",
       "      <td>1872 and 1990</td>\n",
       "    </tr>\n",
       "    <tr>\n",
       "      <th>3</th>\n",
       "      <td>1211</td>\n",
       "      <td>36.44317</td>\n",
       "      <td>-112.65206</td>\n",
       "      <td>1872 and 1990</td>\n",
       "    </tr>\n",
       "    <tr>\n",
       "      <th>4</th>\n",
       "      <td>1212</td>\n",
       "      <td>36.44611</td>\n",
       "      <td>-112.63722</td>\n",
       "      <td>1872, 1968 and 1990</td>\n",
       "    </tr>\n",
       "  </tbody>\n",
       "</table>\n",
       "</div>"
      ],
      "text/plain": [
       "  StakeNo       Lat       Long                             Repeat_Dates\n",
       "0    1096  36.39583 -112.62389          1872, 1974, 1983, 1990 and 1991\n",
       "1    1209  36.44944 -112.63750  1872 (no physical image), 1968 and 1990\n",
       "2    1210  36.44317 -112.65206                            1872 and 1990\n",
       "3    1211  36.44317 -112.65206                            1872 and 1990\n",
       "4    1212  36.44611 -112.63722                      1872, 1968 and 1990"
      ]
     },
     "execution_count": 7,
     "metadata": {},
     "output_type": "execute_result"
    }
   ],
   "source": [
    "df = pd.read_excel(excel_fname)\n",
    "df.head(5)"
   ]
  },
  {
   "cell_type": "markdown",
   "metadata": {},
   "source": [
    "### Log into ScienceBase"
   ]
  },
  {
   "cell_type": "code",
   "execution_count": 8,
   "metadata": {},
   "outputs": [
    {
     "name": "stdout",
     "output_type": "stream",
     "text": [
      "········\n",
      "You are now connected.\n"
     ]
    }
   ],
   "source": [
    "sb = pysb.SbSession()\n",
    "#PROMPT A USER FOR PASSWORD\n",
    "username = \"talbertc@usgs.gov\"\n",
    "sb.loginc(str(username))\n",
    "print(\"You are now connected.\")"
   ]
  },
  {
   "cell_type": "markdown",
   "metadata": {},
   "source": [
    "### Run through them all"
   ]
  },
  {
   "cell_type": "code",
   "execution_count": 9,
   "metadata": {},
   "outputs": [
    {
     "name": "stdout",
     "output_type": "stream",
     "text": [
      "1096\n",
      "\t finished upload\n",
      "1209\n",
      "\t finished upload\n",
      "1210\n",
      "\t finished upload\n",
      "1211\n",
      "\t finished upload\n",
      "1212\n",
      "\t finished upload\n",
      "1213\n",
      "\t finished upload\n",
      "1214\n",
      "\t finished upload\n",
      "1215\n",
      "\t finished upload\n",
      "1216\n",
      "\t finished upload\n",
      "1217\n",
      "\t finished upload\n",
      "1218\n",
      "\t finished upload\n",
      "1219\n",
      "\t finished upload\n",
      "1220\n",
      "\t finished upload\n",
      "1224\n",
      "\t finished upload\n",
      "1226\n",
      "\t finished upload\n",
      "1227\n",
      "\t finished upload\n",
      "1231\n",
      "\t finished upload\n",
      "1232\n",
      "\t finished upload\n",
      "1233\n",
      "\t finished upload\n",
      "1234\n",
      "\t finished upload\n",
      "1235\n",
      "\t finished upload\n",
      "1236\n",
      "\t finished upload\n",
      "1237\n",
      "\t finished upload\n",
      "1238\n",
      "\t finished upload\n",
      "1239\n",
      "\t finished upload\n",
      "1360\n",
      "\t finished upload\n",
      "1504a\n",
      "\t finished upload\n",
      "1504b\n",
      "\t finished upload\n",
      "1505\n",
      "\t finished upload\n",
      "1506\n",
      "\t finished upload\n",
      "1792\n",
      "\t finished upload\n",
      "1793\n",
      "\t finished upload\n",
      "2038\n",
      "\t finished upload\n",
      "2039\n",
      "\t finished upload\n",
      "2040\n",
      "\t finished upload\n",
      "2042ab\n",
      "\t finished upload\n",
      "2049\n",
      "\t finished upload\n",
      "2050\n",
      "\t finished upload\n",
      "2051\n",
      "\t finished upload\n",
      "2052\n",
      "\t finished upload\n",
      "2053\n",
      "\t finished upload\n",
      "2054\n",
      "\t finished upload\n",
      "2055\n",
      "\t finished upload\n",
      "2066\n",
      "\t finished upload\n",
      "2067\n",
      "\t finished upload\n",
      "2068\n",
      "\t finished upload\n",
      "2098\n",
      "\t finished upload\n",
      "2403\n",
      "\t finished upload\n",
      "2404\n",
      "\t finished upload\n",
      "2405\n",
      "\t finished upload\n",
      "2406\n",
      "\t finished upload\n",
      "2407\n",
      "\t finished upload\n",
      "2410\n",
      "\t finished upload\n",
      "2411\n",
      "\t finished upload\n",
      "2412\n",
      "\t finished upload\n",
      "2413\n",
      "\t finished upload\n",
      "2414\n",
      "\t finished upload\n",
      "2415\n",
      "\t finished upload\n",
      "2427\n",
      "\t finished upload\n",
      "2434\n",
      "\t finished upload\n",
      "2435\n",
      "\t finished upload\n",
      "2557\n",
      "\t finished upload\n",
      "2561\n",
      "\t finished upload\n",
      "2595\n",
      "\t finished upload\n",
      "2652\n",
      "\t finished upload\n",
      "2653\n",
      "\t finished upload\n",
      "2654\n",
      "\t finished upload\n",
      "2952\n",
      "\t finished upload\n",
      "2953ab\n",
      "\t finished upload\n",
      "2955\n",
      "\t finished upload\n",
      "2956\n",
      "\t finished upload\n",
      "2986\n",
      "\t finished upload\n",
      "2993\n",
      "\t finished upload\n",
      "3964\n",
      "\t finished upload\n",
      "3965\n",
      "\t finished upload\n",
      "3966\n",
      "\t finished upload\n",
      "694\n",
      "\t finished upload\n",
      "695\n",
      "\t finished upload\n",
      "696\n",
      "\t finished upload\n",
      "713\n",
      "\t finished upload\n"
     ]
    }
   ],
   "source": [
    "bounding_width = 0.01 # this is Decimal degrees of half the bounding box\n",
    "\n",
    "for index, row in df.iterrows():\n",
    "    print(row[\"StakeNo\"])\n",
    "    \n",
    "    # update the title and abstract to match this stake number\n",
    "    new_title = empty_title.format(row[\"StakeNo\"])\n",
    "    template_md.metadata.idinfo.citation.citeinfo.title.text = new_title\n",
    "    new_abs = empty_abstract.format(**row)\n",
    "    template_md.metadata.idinfo.descript.abstract.text = new_abs\n",
    "    \n",
    "    # update the bounding extent to be the stake location +- the bounding width in all directions \n",
    "    template_md.metadata.idinfo.spdom.bounding.northbc.text = row['Lat'] + bounding_width\n",
    "    template_md.metadata.idinfo.spdom.bounding.southbc.text = row['Lat'] - bounding_width\n",
    "    template_md.metadata.idinfo.spdom.bounding.westbc.text = row['Long'] + bounding_width\n",
    "    template_md.metadata.idinfo.spdom.bounding.eastbc.text = row['Long'] - bounding_width\n",
    "    \n",
    "    # save local copy of metadata file\n",
    "    output_fname = os.path.join(output_dname, empty_fname.format(row[\"StakeNo\"]))\n",
    "    template_md.save(output_fname)\n",
    "    \n",
    "    # make a zip of the files for this output\n",
    "    data_dname = os.path.join(input_data_dname, 's' + str(row[\"StakeNo\"]))\n",
    "    shutil.make_archive(data_dname, 'zip', input_data_dname)\n",
    "    zip_fname = data_dname + '.zip'\n",
    "    \n",
    "    # move the metadata and zip up to ScienceBase\n",
    "    child_item = sb.upload_file_and_create_item(parent_sb_id, output_fname)\n",
    "    child_item['citation'] = parent_citation\n",
    "    sb.update_item(child_item)\n",
    "    sb.upload_file_to_item(child_item, zip_fname)\n",
    "    \n",
    "    print('\\t finished upload')\n",
    "    "
   ]
  },
  {
   "cell_type": "code",
   "execution_count": null,
   "metadata": {
    "collapsed": true
   },
   "outputs": [],
   "source": []
  }
 ],
 "metadata": {
  "kernelspec": {
   "display_name": "Python 3",
   "language": "python",
   "name": "python3"
  },
  "language_info": {
   "codemirror_mode": {
    "name": "ipython",
    "version": 3
   },
   "file_extension": ".py",
   "mimetype": "text/x-python",
   "name": "python",
   "nbconvert_exporter": "python",
   "pygments_lexer": "ipython3",
   "version": "3.5.4"
  }
 },
 "nbformat": 4,
 "nbformat_minor": 2
}
