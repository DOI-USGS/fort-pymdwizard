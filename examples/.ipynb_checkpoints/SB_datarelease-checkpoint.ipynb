{
 "cells": [
  {
   "cell_type": "markdown",
   "metadata": {},
   "source": [
    "## A workflow for automating the creation of a ScienceBase Data Release from the content of a CSDGM metadata record\n",
    "\n",
    "#### Created by the Data Managment Team of the Fort Collins Science Center with help from the SB team"
   ]
  },
  {
   "cell_type": "code",
   "execution_count": 1,
   "metadata": {
    "collapsed": true
   },
   "outputs": [],
   "source": [
    "import requests\n",
    "import pysb\n",
    "import random\n",
    "import smtplib\n",
    "import json\n",
    "from bs4 import BeautifulSoup\n",
    "from email.mime.text import MIMEText\n",
    "from requests_ntlm import HttpNtlmAuth\n",
    "\n",
    "import getpass\n",
    "\n",
    "from pymdwizard.core.xml_utils import XMLRecord, XMLNode\n",
    "from pymdwizard.core import utils"
   ]
  },
  {
   "cell_type": "markdown",
   "metadata": {},
   "source": [
    "### identify the items we'll need for this process:\n",
    "\n",
    "#### The CSDGM metadata record,  A list of data files to include in the release,  the IPDS number"
   ]
  },
  {
   "cell_type": "code",
   "execution_count": 2,
   "metadata": {},
   "outputs": [],
   "source": [
    "md_fname = r\"Z:\\FORT_DataManagement\\Falk_2017_PythonBodyCondition\\FinalData\\Falk 2017 python body condition data.csv.xml\"\n",
    "data_files = [r\"Z:\\FORT_DataManagement\\Falk_2017_PythonBodyCondition\\FinalData\\Falk 2017 python body condition data.csv\", ]\n",
    "ipds_number = 'IP-087269'"
   ]
  },
  {
   "cell_type": "markdown",
   "metadata": {},
   "source": [
    "#### get the username and password we'll be using"
   ]
  },
  {
   "cell_type": "code",
   "execution_count": 3,
   "metadata": {},
   "outputs": [
    {
     "name": "stdout",
     "output_type": "stream",
     "text": [
      "········\n"
     ]
    }
   ],
   "source": [
    "username = \"talbertc@usgs.gov\"\n",
    "password = getpass.getpass()"
   ]
  },
  {
   "cell_type": "markdown",
   "metadata": {},
   "source": [
    "#### extract the information needed from the MD record"
   ]
  },
  {
   "cell_type": "code",
   "execution_count": 4,
   "metadata": {
    "collapsed": true
   },
   "outputs": [],
   "source": [
    "md = XMLRecord(md_fname)"
   ]
  },
  {
   "cell_type": "code",
   "execution_count": 5,
   "metadata": {},
   "outputs": [
    {
     "data": {
      "text/plain": [
       "'Sex, length, total mass, fat mass, and specimen condition data for 248 Burmese pythons (Python bivittatus) collected in the Florida Everglades'"
      ]
     },
     "execution_count": 5,
     "metadata": {},
     "output_type": "execute_result"
    }
   ],
   "source": [
    "title = md.metadata.idinfo.citation.citeinfo.title.text\n",
    "title"
   ]
  },
  {
   "cell_type": "code",
   "execution_count": 6,
   "metadata": {},
   "outputs": [
    {
     "data": {
      "text/plain": [
       "\"These data were collected from Burmese pythons removed from the Florida everglades as part of invasive-species management. After euthanasia, we sexed (male or female) and measured the snout-vent length (SVL; cm) and total body mass (g) for each python. We also measured total fat mass (g) by removing all visible fat bodies from the coelomic cavity and weighing this mass. For a subset of specimens, we recorded whether the pythons were put on ice after euthanasia and measured within 24 hours ('fresh') or whether the pythons were frozen after euthanasia, thawed, and then measured ('frozen'). These data were used to validate several body condition indices in Burmese pythons.\""
      ]
     },
     "execution_count": 6,
     "metadata": {},
     "output_type": "execute_result"
    }
   ],
   "source": [
    "abstract = md.metadata.idinfo.descript.abstract.text\n",
    "abstract"
   ]
  },
  {
   "cell_type": "code",
   "execution_count": 7,
   "metadata": {},
   "outputs": [
    {
     "data": {
      "text/plain": [
       "('2017', '2017')"
      ]
     },
     "execution_count": 7,
     "metadata": {},
     "output_type": "execute_result"
    }
   ],
   "source": [
    "pubdate = md.metadata.idinfo.citation.citeinfo.pubdate.text\n",
    "pubyear = pubdate[:4]\n",
    "pubdate, pubyear"
   ]
  },
  {
   "cell_type": "markdown",
   "metadata": {},
   "source": [
    "### Pull the authors and ORCID's from IPDS"
   ]
  },
  {
   "cell_type": "code",
   "execution_count": 8,
   "metadata": {
    "collapsed": true
   },
   "outputs": [],
   "source": [
    "ipds_session = requests.Session()\n",
    "#you will need to change this to your AD username. When prompted enter AD password\n",
    "ipds_session.auth = HttpNtlmAuth('GS\\\\{}'.format(username.split('@')[0]), password, ipds_session)"
   ]
  },
  {
   "cell_type": "code",
   "execution_count": 9,
   "metadata": {},
   "outputs": [
    {
     "data": {
      "text/plain": [
       "[{'ORCID': '0000-0002-9690-5626', 'author_name': 'Falk, Bryan G.'},\n",
       " {'ORCID': 'None', 'author_name': 'Snow, Ray W'},\n",
       " {'ORCID': '0000-0001-8349-6168', 'author_name': 'Reed, Robert'}]"
      ]
     },
     "execution_count": 9,
     "metadata": {},
     "output_type": "execute_result"
    }
   ],
   "source": [
    "authors_url = \"https://ipds.usgs.gov/_vti_bin/listdata.svc/IPDSAuthors()?$filter=IPNumber%20eq%20%27{}%27\".format(ipds_number)\n",
    "\n",
    "content = ipds_session.get(authors_url)\n",
    "soup = BeautifulSoup(content.text, \"lxml-xml\")\n",
    "author_list = []\n",
    "for entry in soup.find_all('entry'):\n",
    "    record = {}\n",
    "    record['author_name'] = entry.find('AuthorNameText').string\n",
    "    record['ORCID'] = str(entry.find('ORCID').string)\n",
    "    author_list.append(record)\n",
    "    \n",
    "author_list"
   ]
  },
  {
   "cell_type": "markdown",
   "metadata": {},
   "source": [
    "### Make the SB item from our metadata and upload our data to it"
   ]
  },
  {
   "cell_type": "code",
   "execution_count": 14,
   "metadata": {},
   "outputs": [
    {
     "data": {
      "text/plain": [
       "<pysb.SbSession.SbSession at 0xbddb978>"
      ]
     },
     "execution_count": 14,
     "metadata": {},
     "output_type": "execute_result"
    }
   ],
   "source": [
    "sb = pysb.SbSession()\n",
    "sb.login(username, password)"
   ]
  },
  {
   "cell_type": "code",
   "execution_count": 15,
   "metadata": {},
   "outputs": [],
   "source": [
    "root_release_id = '552d79bee4b0b22a157f59a3'\n",
    "root_release_id = '4ff5c8f9e4b03b1a74b5782d' #testing\n",
    "item_json = sb.upload_file_and_create_item(root_release_id, md_fname)"
   ]
  },
  {
   "cell_type": "code",
   "execution_count": 16,
   "metadata": {},
   "outputs": [
    {
     "data": {
      "text/plain": [
       "'594189dee4b0764e6c64a623'"
      ]
     },
     "execution_count": 16,
     "metadata": {},
     "output_type": "execute_result"
    }
   ],
   "source": [
    "item_id = item_json['id']\n",
    "item_id"
   ]
  },
  {
   "cell_type": "code",
   "execution_count": 17,
   "metadata": {},
   "outputs": [],
   "source": [
    "item_json = sb.upload_files_and_update_item(item_json, data_files)"
   ]
  },
  {
   "cell_type": "markdown",
   "metadata": {},
   "source": [
    "### Create the DOI"
   ]
  },
  {
   "cell_type": "code",
   "execution_count": 18,
   "metadata": {},
   "outputs": [
    {
     "name": "stderr",
     "output_type": "stream",
     "text": [
      "C:\\Anaconda3\\envs\\Python35_64\\lib\\site-packages\\urllib3\\connectionpool.py:852: InsecureRequestWarning: Unverified HTTPS request is being made. Adding certificate verification is strongly advised. See: https://urllib3.readthedocs.io/en/latest/advanced-usage.html#ssl-warnings\n",
      "  InsecureRequestWarning)\n",
      "C:\\Anaconda3\\envs\\Python35_64\\lib\\site-packages\\urllib3\\connectionpool.py:852: InsecureRequestWarning: Unverified HTTPS request is being made. Adding certificate verification is strongly advised. See: https://urllib3.readthedocs.io/en/latest/advanced-usage.html#ssl-warnings\n",
      "  InsecureRequestWarning)\n",
      "C:\\Anaconda3\\envs\\Python35_64\\lib\\site-packages\\urllib3\\connectionpool.py:852: InsecureRequestWarning: Unverified HTTPS request is being made. Adding certificate verification is strongly advised. See: https://urllib3.readthedocs.io/en/latest/advanced-usage.html#ssl-warnings\n",
      "  InsecureRequestWarning)\n",
      "C:\\Anaconda3\\envs\\Python35_64\\lib\\site-packages\\urllib3\\connectionpool.py:852: InsecureRequestWarning: Unverified HTTPS request is being made. Adding certificate verification is strongly advised. See: https://urllib3.readthedocs.io/en/latest/advanced-usage.html#ssl-warnings\n",
      "  InsecureRequestWarning)\n"
     ]
    },
    {
     "data": {
      "text/plain": [
       "<Response [200]>"
      ]
     },
     "execution_count": 18,
     "metadata": {},
     "output_type": "execute_result"
    }
   ],
   "source": [
    "rsc_url = 'https://www.sciencebase.gov/catalog/item/' + item_id\n",
    "\n",
    "r = requests.Session()\n",
    "\n",
    "# doi_tool_url = 'https://www1.usgs.gov/csas/doi/' # production\n",
    "doi_tool_url = 'https://www1-staging.snafu.cr.usgs.gov/csas/doi/' #testing\n",
    "\n",
    "req = r.get(doi_tool_url, verify=False) #\n",
    "form_csrf  = req.content.decode('utf-8').split('name=\"_csrf\" value=\"')[1].split('\" />\\n')[0]\n",
    "cred = {'j_username': username, 'j_password': password, '_csrf': form_csrf}\n",
    "response = r.post(doi_tool_url + 'j_spring_security_check', cookies=req.cookies, data=cred, verify=False)\n",
    "\n",
    "\n",
    "key_username = 'sciencebase@ornl.gov'\n",
    "key5 = 'usersAndTypes[' + key_username + ']'\n",
    "value5 = 'PRIMARY'\n",
    "# specific user credentials, will dup if above already\n",
    "key6 = 'usersAndTypes[talbertc@usgs.gov]'\n",
    "value6 = 'PRIMARY'\n",
    "key7 = 'usersAndTypes[afreeman@usgs.gov]'\n",
    "value7 = 'PRIMARY'\n",
    "\n",
    "\n",
    "d = {'identifier':'',\n",
    "    'title':title,\n",
    "    'resourceURL': rsc_url,\n",
    "    key5: value5, key6: value6, key7: value7,\n",
    "    'addNewCreatorAuthor': '', \n",
    "    'addNewCreatorAuthorOrcid': '',\n",
    "    'authorValidity':'valid',\n",
    "    'abstract_type_description' : abstract,\n",
    "    'subject' : '',\n",
    "    'project_year' : '',\n",
    "    'project_date' : '',\n",
    "    'project_start_year' : '',\n",
    "    'project_end_year' : '',\n",
    "    'project_start_date' : '',\n",
    "    'project_end_date' : '',\n",
    "    'date_type' : '',\n",
    "    'date' : '',\n",
    "    'pubYear':str(pubyear), #\n",
    "    'resourceType': 'Dataset',\n",
    "    'publisher': 'U.S. Geological Survey',\n",
    "    'status': 'reserved',\n",
    "    '_csrf': form_csrf,\n",
    "    'save': 'Submit'}\n",
    "\n",
    "for i, author in enumerate(author_list):\n",
    "    d['authors[{}].authorName'.format(i)] = author['author_name']\n",
    "    d['authors[{}].orcId'.format(i)] = author['ORCID']\n",
    "    d['authors[{}].position'.format(i)] = i\n",
    "    \n",
    "create_new_doi = r.post(doi_tool_url + 'result.htm', cookies = req.cookies, data = d, verify = False)\n",
    "create_new_doi"
   ]
  },
  {
   "cell_type": "code",
   "execution_count": 19,
   "metadata": {},
   "outputs": [
    {
     "data": {
      "text/plain": [
       "'doi:10.5072/FK22B92D90'"
      ]
     },
     "execution_count": 19,
     "metadata": {},
     "output_type": "execute_result"
    }
   ],
   "source": [
    "new_doi = create_new_doi.content.decode('utf-8').split('Your DOI has been saved: ')[1].split('</div>')[0].replace(\" \",\"\").strip()\n",
    "new_doi"
   ]
  },
  {
   "cell_type": "markdown",
   "metadata": {},
   "source": [
    "### Update our SB item to include the IPDS link and DOI "
   ]
  },
  {
   "cell_type": "code",
   "execution_count": 20,
   "metadata": {},
   "outputs": [],
   "source": [
    "ipds_format = {'type':\"IPDS\", \"scheme\":\"https://www.sciencebase.gov/vocab/category/item/identifier\", 'key':ipds_number}\n",
    "doi_format = {'type':\"DOI\", \"scheme\":\"https://www.sciencebase.gov/vocab/category/item/identifier\", 'key':new_doi}\n",
    "item_json = sb.updateSbItem({'id':item_id, 'identifiers':[ipds_format, doi_format]})"
   ]
  },
  {
   "cell_type": "markdown",
   "metadata": {},
   "source": [
    "### update the SB citation with our DOI"
   ]
  },
  {
   "cell_type": "code",
   "execution_count": 21,
   "metadata": {},
   "outputs": [
    {
     "data": {
      "text/plain": [
       "'Bryan G. Falk, Invasive Species Science, U.S. Geological Survey, 2017, Sex, length, total mass, fat mass, and specimen condition data for 248 Burmese pythons (Python bivittatus) collected in the Florida Everglades: .'"
      ]
     },
     "execution_count": 21,
     "metadata": {},
     "output_type": "execute_result"
    }
   ],
   "source": [
    "item_json['citation']"
   ]
  },
  {
   "cell_type": "code",
   "execution_count": 23,
   "metadata": {},
   "outputs": [
    {
     "data": {
      "text/plain": [
       "'Bryan G. Falk, Invasive Species Science, U.S. Geological Survey, 2017, Sex, length, total mass, fat mass, and specimen condition data for 248 Burmese pythons (Python bivittatus) collected in the Florida Everglades: .'"
      ]
     },
     "execution_count": 23,
     "metadata": {},
     "output_type": "execute_result"
    }
   ],
   "source": [
    "item_json = sb.get_item(item_id)\n",
    "citation = item_json['citation']\n",
    "citation"
   ]
  },
  {
   "cell_type": "code",
   "execution_count": 27,
   "metadata": {},
   "outputs": [
    {
     "data": {
      "text/plain": [
       "'Bryan G. Falk, Invasive Species Science, U.S. Geological Survey, 2017, Sex, length, total mass, fat mass, and specimen condition data for 248 Burmese pythons (Python bivittatus) collected in the Florida Everglades: U.S. Geological Survey data release, https://doi.org/10.5072/FK22B92D90.'"
      ]
     },
     "execution_count": 27,
     "metadata": {},
     "output_type": "execute_result"
    }
   ],
   "source": [
    "new_citation = \"\".join(citation.split(':')[:-1]) + \": U.S. Geological Survey data release, https://doi.org/{}.\".format(new_doi[4:])\n",
    "item_json['citation'] = new_citation\n",
    "new_citation"
   ]
  },
  {
   "cell_type": "code",
   "execution_count": 28,
   "metadata": {},
   "outputs": [
    {
     "data": {
      "text/plain": [
       "[{'contactType': 'person',\n",
       "  'email': 'bfalk@usgs.gov',\n",
       "  'jobTitle': 'Research Fellow',\n",
       "  'name': 'Bryan G Falk',\n",
       "  'organization': {'displayText': 'U.S. Geological Survey, Southwest Region'},\n",
       "  'primaryLocation': {'mailAddress': {'city': 'Homestead',\n",
       "    'country': 'US',\n",
       "    'line1': 'Daniel Beard Center, Everglades National Park',\n",
       "    'line2': '40001 SR 9336',\n",
       "    'state': 'FL',\n",
       "    'zip': '33034'},\n",
       "   'officePhone': '305-242-7820'},\n",
       "  'type': 'Point of Contact'},\n",
       " {'name': 'Bryan G. Falk, Invasive Species Science, U.S. Geological Survey',\n",
       "  'type': 'Originator'},\n",
       " {'contactType': 'person',\n",
       "  'email': 'bfalk@usgs.gov',\n",
       "  'jobTitle': 'Research Fellow',\n",
       "  'name': 'Bryan G Falk',\n",
       "  'organization': {'displayText': 'U.S. Geological Survey, Southwest Region'},\n",
       "  'primaryLocation': {'mailAddress': {'city': 'Homestead',\n",
       "    'country': 'US',\n",
       "    'line1': '40001 SR 9336',\n",
       "    'state': 'FL',\n",
       "    'zip': '33034'},\n",
       "   'officePhone': '305-242-7820'},\n",
       "  'type': 'Metadata Contact'},\n",
       " {'contactType': 'person',\n",
       "  'email': 'sciencebase@usgs.gov',\n",
       "  'name': 'GS ScienceBase',\n",
       "  'organization': {'displayText': 'U.S. Geological Survey'},\n",
       "  'primaryLocation': {'mailAddress': {'city': 'Denver',\n",
       "    'country': 'United States',\n",
       "    'line1': 'Denver Federal Center, Building 810, Mail Stop 302',\n",
       "    'state': 'CO',\n",
       "    'zip': '80225'},\n",
       "   'officePhone': '1-888-275-8747'},\n",
       "  'type': 'Distributor'}]"
      ]
     },
     "execution_count": 28,
     "metadata": {},
     "output_type": "execute_result"
    }
   ],
   "source": [
    "item_json['contacts']"
   ]
  },
  {
   "cell_type": "code",
   "execution_count": 29,
   "metadata": {
    "collapsed": true
   },
   "outputs": [],
   "source": [
    "item_json['tags'].append({'name': 'Data Release - In Progress', 'scheme': 'Common geographic areas', 'type': 'Browse Categories'})"
   ]
  },
  {
   "cell_type": "code",
   "execution_count": 30,
   "metadata": {},
   "outputs": [],
   "source": [
    "item_json['webLinks'] = []"
   ]
  },
  {
   "cell_type": "code",
   "execution_count": 61,
   "metadata": {},
   "outputs": [
    {
     "data": {
      "text/plain": [
       "{'body': \"These data were collected from Burmese pythons removed from the Florida everglades as part of invasive-species management. After euthanasia, we sexed (male or female) and measured the snout-vent length (SVL; cm) and total body mass (g) for each python. We also measured total fat mass (g) by removing all visible fat bodies from the coelomic cavity and weighing this mass. For a subset of specimens, we recorded whether the pythons were put on ice after euthanasia and measured within 24 hours ('fresh') or whether the pythons were frozen after euthanasia, thawed, and then measured ('frozen'). These data were used to validate several body condition indices in Burmese pythons.\",\n",
       " 'browseTypes': ['Citation'],\n",
       " 'citation': 'Bryan G. Falk, Invasive Species Science, U.S. Geological Survey, 2017, Sex, length, total mass, fat mass, and specimen condition data for 248 Burmese pythons (Python bivittatus) collected in the Florida Everglades: U.S. Geological Survey data release, https://doi.org/10.5072/FK2BV7HX85.',\n",
       " 'contacts': [{'contactType': 'person',\n",
       "   'email': 'bfalk@usgs.gov',\n",
       "   'jobTitle': 'Research Fellow',\n",
       "   'name': 'Bryan G Falk',\n",
       "   'organization': {'displayText': 'U.S. Geological Survey, Southwest Region'},\n",
       "   'primaryLocation': {'mailAddress': {'city': 'Homestead',\n",
       "     'country': 'US',\n",
       "     'line1': 'Daniel Beard Center, Everglades National Park',\n",
       "     'line2': '40001 SR 9336',\n",
       "     'state': 'FL',\n",
       "     'zip': '33034'},\n",
       "    'officePhone': '305-242-7820'},\n",
       "   'type': 'Point of Contact'},\n",
       "  {'name': 'Bryan G. Falk, Invasive Species Science, U.S. Geological Survey',\n",
       "   'type': 'Originator'},\n",
       "  {'contactType': 'person',\n",
       "   'email': 'bfalk@usgs.gov',\n",
       "   'jobTitle': 'Research Fellow',\n",
       "   'name': 'Bryan G Falk',\n",
       "   'organization': {'displayText': 'U.S. Geological Survey, Southwest Region'},\n",
       "   'primaryLocation': {'mailAddress': {'city': 'Homestead',\n",
       "     'country': 'US',\n",
       "     'line1': '40001 SR 9336',\n",
       "     'state': 'FL',\n",
       "     'zip': '33034'},\n",
       "    'officePhone': '305-242-7820'},\n",
       "   'type': 'Metadata Contact'},\n",
       "  {'contactType': 'person',\n",
       "   'email': 'sciencebase@usgs.gov',\n",
       "   'name': 'GS ScienceBase',\n",
       "   'organization': {'displayText': 'U.S. Geological Survey'},\n",
       "   'primaryLocation': {'mailAddress': {'city': 'Denver',\n",
       "     'country': 'United States',\n",
       "     'line1': 'Denver Federal Center, Building 810, Mail Stop 302',\n",
       "     'state': 'CO',\n",
       "     'zip': '80225'},\n",
       "    'officePhone': '1-888-275-8747'},\n",
       "   'type': 'Distributor'}],\n",
       " 'dates': [{'dateString': '2017',\n",
       "   'label': 'Publication Date',\n",
       "   'type': 'Publication'},\n",
       "  {'dateString': '2004-01-01', 'label': '', 'type': 'Start'},\n",
       "  {'dateString': '2014-12-31', 'label': '', 'type': 'End'}],\n",
       " 'distributionLinks': [{'files': [{'contentType': 'application/fgdc+xml',\n",
       "     'name': 'Falk 2017 python body condition data.csv.xml',\n",
       "     'title': None}],\n",
       "   'name': 'Sex_length_tota.zip',\n",
       "   'rel': 'alternate',\n",
       "   'title': 'Download Attached Files',\n",
       "   'type': 'downloadLink',\n",
       "   'typeLabel': 'Download Link',\n",
       "   'uri': 'https://www.sciencebase.gov/catalog/file/get/59417ebde4b0764e6c64a5d7'}],\n",
       " 'files': [{'checksum': None,\n",
       "   'contentEncoding': None,\n",
       "   'contentType': 'application/fgdc+xml',\n",
       "   'dateUploaded': '2017-06-14T18:21:49Z',\n",
       "   'imageHeight': None,\n",
       "   'imageWidth': None,\n",
       "   'name': 'Falk 2017 python body condition data.csv.xml',\n",
       "   'originalMetadata': True,\n",
       "   'pathOnDisk': '__disk__7f/d8/88/7fd8881b45c640de12d0472775043c2fc75eb32c',\n",
       "   'processToken': None,\n",
       "   'processed': None,\n",
       "   's3Object': None,\n",
       "   'size': 12880,\n",
       "   'title': None,\n",
       "   'uploadedBy': 'talbertc@usgs.gov',\n",
       "   'url': 'https://www.sciencebase.gov/catalog/file/get/59417ebde4b0764e6c64a5d7?f=__disk__7f%2Fd8%2F88%2F7fd8881b45c640de12d0472775043c2fc75eb32c',\n",
       "   'useForPreview': None}],\n",
       " 'hasChildren': False,\n",
       " 'id': '59417ebde4b0764e6c64a5d7',\n",
       " 'link': {'rel': 'self',\n",
       "  'url': 'https://www.sciencebase.gov/catalog/item/59417ebde4b0764e6c64a5d7'},\n",
       " 'locked': False,\n",
       " 'maintenanceUpdateFrequency': 'None planned',\n",
       " 'parentId': '4ff5c8f9e4b03b1a74b5782d',\n",
       " 'permissions': {'read': {'acl': [],\n",
       "   'inherited': True,\n",
       "   'inheritsFromId': '4ff5c8f9e4b03b1a74b5782d'},\n",
       "  'write': {'acl': ['USER:talbertc@usgs.gov'],\n",
       "   'inherited': True,\n",
       "   'inheritsFromId': '4ff5c8f9e4b03b1a74b5782d'}},\n",
       " 'previewImage': {'from': 'mapPreview',\n",
       "  'original': {'height': 240,\n",
       "   'size': 123182,\n",
       "   'uri': 'https://www.sciencebase.gov/catalog/file/get/59417ebde4b0764e6c64a5d7?f=__disk__b6%2Ffe%2Fac%2Fb6feac28c6ea3784091a2cdb7abf0afefaa4affd',\n",
       "   'viewUri': 'https://www.sciencebase.gov/catalog/file/get/59417ebde4b0764e6c64a5d7?f=__disk__b6%2Ffe%2Fac%2Fb6feac28c6ea3784091a2cdb7abf0afefaa4affd&width=360&height=240',\n",
       "   'viewUrl': 'https://www.sciencebase.gov/catalog/file/get/59417ebde4b0764e6c64a5d7?f=__disk__b6%2Ffe%2Fac%2Fb6feac28c6ea3784091a2cdb7abf0afefaa4affd&width=360&height=240',\n",
       "   'width': 360},\n",
       "  'thumbnail': {'height': 100,\n",
       "   'uri': 'https://www.sciencebase.gov/catalog/file/get/59417ebde4b0764e6c64a5d7?f=__disk__b6%2Ffe%2Fac%2Fb6feac28c6ea3784091a2cdb7abf0afefaa4affd&width=150&height=100',\n",
       "   'width': 150}},\n",
       " 'provenance': {'createdBy': 'talbertc@usgs.gov',\n",
       "  'dateCreated': '2017-06-14T18:21:49Z',\n",
       "  'lastUpdated': '2017-06-14T18:53:16Z',\n",
       "  'lastUpdatedBy': 'talbertc@usgs.gov'},\n",
       " 'purpose': 'These data were used to validate several body condition indices in Burmese pythons.',\n",
       " 'relatedItems': {'link': {'rel': 'related',\n",
       "   'url': 'https://www.sciencebase.gov/catalog/itemLinks?itemId=59417ebde4b0764e6c64a5d7'}},\n",
       " 'spatial': {'boundingBox': {'maxX': 180.0,\n",
       "   'maxY': 90.0,\n",
       "   'minX': -180.0,\n",
       "   'minY': -90.0}},\n",
       " 'summary': \"These data were collected from Burmese pythons removed from the Florida everglades as part of invasive-species management. After euthanasia, we sexed (male or female) and measured the snout-vent length (SVL; cm) and total body mass (g) for each python. We also measured total fat mass (g) by removing all visible fat bodies from the coelomic cavity and weighing this mass. For a subset of specimens, we recorded whether the pythons were put on ice after euthanasia and measured within 24 hours ('fresh') or whether the pythons were frozen after euthanasia, thawed, and then measured ('frozen'). These data were used to validate several body condition indices in Burmese pythons.\",\n",
       " 'tags': [{'name': 'biota',\n",
       "   'scheme': 'ISO 19115 Topic Category',\n",
       "   'type': 'Theme'},\n",
       "  {'name': 'Invasive species', 'scheme': 'None', 'type': 'Theme'},\n",
       "  {'name': 'Morphology', 'scheme': 'None', 'type': 'Theme'},\n",
       "  {'name': 'Body condition', 'scheme': 'None', 'type': 'Theme'},\n",
       "  {'name': 'Florida Everglades', 'scheme': 'None', 'type': 'Place'},\n",
       "  {'name': 'Everglades', 'scheme': 'Common geographic areas', 'type': 'Place'},\n",
       "  {'name': 'Data Release - In Progress',\n",
       "   'scheme': 'Common geographic areas',\n",
       "   'type': 'Browse Categories'}],\n",
       " 'title': 'Sex, length, total mass, fat mass, and specimen condition data for 248 Burmese pythons (Python bivittatus) collected in the Florida Everglades'}"
      ]
     },
     "execution_count": 61,
     "metadata": {},
     "output_type": "execute_result"
    }
   ],
   "source": [
    "item_json = sb.update_item(item_json)"
   ]
  },
  {
   "cell_type": "markdown",
   "metadata": {},
   "source": [
    "### Replace the onlink in our MD with the DOI, both on the local copy and the SB copy"
   ]
  },
  {
   "cell_type": "code",
   "execution_count": 35,
   "metadata": {},
   "outputs": [],
   "source": [
    "doi_url = \"https://doi.org/{}\".format(new_doi[4:])\n",
    "md.metadata.idinfo.citation.citeinfo.onlink.text = doi_url"
   ]
  },
  {
   "cell_type": "code",
   "execution_count": 36,
   "metadata": {},
   "outputs": [],
   "source": [
    "md.save()"
   ]
  },
  {
   "cell_type": "code",
   "execution_count": 37,
   "metadata": {},
   "outputs": [
    {
     "data": {
      "text/plain": [
       "'Z:\\\\FORT_DataManagement\\\\Falk_2017_PythonBodyCondition\\\\FinalData\\\\Falk 2017 python body condition data.csv.xml'"
      ]
     },
     "execution_count": 37,
     "metadata": {},
     "output_type": "execute_result"
    }
   ],
   "source": [
    "md_fname"
   ]
  },
  {
   "cell_type": "code",
   "execution_count": 38,
   "metadata": {},
   "outputs": [],
   "source": [
    "sb.replace_file(md_fname, item_json)"
   ]
  },
  {
   "cell_type": "code",
   "execution_count": null,
   "metadata": {
    "collapsed": true
   },
   "outputs": [],
   "source": []
  }
 ],
 "metadata": {
  "kernelspec": {
   "display_name": "Python 3",
   "language": "python",
   "name": "python3"
  },
  "language_info": {
   "codemirror_mode": {
    "name": "ipython",
    "version": 3
   },
   "file_extension": ".py",
   "mimetype": "text/x-python",
   "name": "python",
   "nbconvert_exporter": "python",
   "pygments_lexer": "ipython3",
   "version": "3.5.3"
  }
 },
 "nbformat": 4,
 "nbformat_minor": 2
}
