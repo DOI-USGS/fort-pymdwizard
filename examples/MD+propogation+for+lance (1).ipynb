{
 "cells": [
  {
   "cell_type": "markdown",
   "metadata": {},
   "source": [
    "# DAR MD Propogation"
   ]
  },
  {
   "cell_type": "code",
   "execution_count": 1,
   "metadata": {
    "collapsed": true
   },
   "outputs": [],
   "source": [
    "import os\n",
    "\n",
    "import pandas as pd\n",
    "from pymdwizard.core.xml_utils import XMLRecord, XMLNode"
   ]
  },
  {
   "cell_type": "markdown",
   "metadata": {},
   "source": [
    "### The files we will be reading from, and the output folder we'll be writting to (Change these)"
   ]
  },
  {
   "cell_type": "code",
   "execution_count": 16,
   "metadata": {
    "collapsed": true
   },
   "outputs": [],
   "source": [
    "template_xml_fname = r\"X:\\Individual Shared Data\\talbertc\\metadata_for_lance\\USGS-Southwest-Repeat-Photography-Collection_Kanab-Creek_1872-2010_Stake-694-Metadata.xml\"\n",
    "excel_fname = r\"X:\\Individual Shared Data\\talbertc\\metadata_for_lance\\Colins_FINAL_CSV.xlsx\"\n",
    "\n",
    "output_dname = r\"X:\\Individual Shared Data\\talbertc\\metadata_for_lance\\output\"\n"
   ]
  },
  {
   "cell_type": "code",
   "execution_count": 5,
   "metadata": {
    "collapsed": true
   },
   "outputs": [],
   "source": [
    "template_md = XMLRecord(template_xml_fname)"
   ]
  },
  {
   "cell_type": "code",
   "execution_count": 7,
   "metadata": {},
   "outputs": [
    {
     "data": {
      "text/plain": [
       "'USGS Southwest Repeat Photography Collection: Kanab Creek, southern Utah and northern Arizona, 1872-2010: Stake 694'"
      ]
     },
     "execution_count": 7,
     "metadata": {},
     "output_type": "execute_result"
    }
   ],
   "source": [
    "template_md.metadata.idinfo.citation.citeinfo.title.text"
   ]
  },
  {
   "cell_type": "code",
   "execution_count": 8,
   "metadata": {},
   "outputs": [
    {
     "data": {
      "text/plain": [
       "'USGS Southwest Repeat Photography Collection: Kanab Creek, southern Utah and northern Arizona, 1872-2010: Stake {}'"
      ]
     },
     "execution_count": 8,
     "metadata": {},
     "output_type": "execute_result"
    }
   ],
   "source": [
    "empty_title = template_md.metadata.idinfo.citation.citeinfo.title.text.replace('694', '{}')\n",
    "empty_title"
   ]
  },
  {
   "cell_type": "code",
   "execution_count": 9,
   "metadata": {},
   "outputs": [
    {
     "data": {
      "text/plain": [
       "'This metadata record describes the materials contained in stake folder 694. Stake 694 is located at latitude 36.39194, longitude -112.62944. This location was photographed in the following years: 1872, 1972, and 1991. The materials associated with this item include original best quality images from each repeat date (preserved as digitized film images or in some cases digitized print photographs, depending on availability), scanned film envelopes with camera metadata, records of repeat photography sheets, and all field notes and/or camera notes associated with this stake. All attachments follow the following naming convention: stake_date_material_type_Kanab. Some stakes will have multiple materials from one repeat date (e.g., duplicate images with distinct descriptive information, a color negative and a color positive version of an image, etc.) Some stakes will have materials labeled \\'unknown\\', indicating that the physical image or note was unlabeled and therefore couldn\\'t be categorized by date. \\n\\nA description of film materials:\\n\\nThe film is ideal for preservation at a high resolution because it is the closest representation of the source image captured by the camera.The film images in this release include digital scans of 182 film images. Most of these are from distinct stake locations and dates, however there are some duplicates (from the same stake and date) that were scanned in order to preserve the unique descriptional information they included. The film types vary depending on the time of data collection and type of camera used. The film types include black and white negatives, black and white positives, color negatives and color positives, and are found in either 4x5\" size or 120mm film size. To digitize all film types we used a Hasselblad Flextight scanner with associated FlexLight software. To edit film we used a combination of FlexLight software and Adobe Photoshop editing tools. All adjustments were made in order to achieve maximum clarity of landscape features, debris flows, vegetation patterns and human settlements in the photos so these aspects can be observed and studied. \\n\\nA description of photographic prints:\\n\\nThe stake folders in the Kanab Creek Collection contain multiple print photographs of various sizes and types, with possible repeats. The print sizes included 8x10\", 5x8\", 4x6\" prints and 3x5\" Polaroid photos. The type of camera used varied depending on the year the data was captured and what photographic technology was available at that time. Photographs were digitized using a flatbed scanner and associated software. Then, the scans were edited in Adobe Photoshop. Similarly to film, image adjustments were made in order to achieve maximum clarity of landscape features, debris flows, vegetation patterns and human settlements so that these aspects could continue to be observed and studied.\\n\\nA description of paper materials:\\n\\nThe images in this repeat photography collection are accompanied by field notes that provide valuable information about the data collection. All paper materials in the stake folders were digitized to preserve this unique information and supplement the images. The paper materials found in the folders included hand written field notes, Record of Repeat Photography sheets, notes on vegetation patterns, film envelopes with camera metadata and camera settings written on separate sheets. Some physical documents are still in their original form, while others are scans of field notebooks or other physical sources. To digitize these documents a flatbed EPSON scanner was used. Minor adjustments were made to digital quality in order to maximize readability of the information.\\n\\nThe digitization process was slightly different depending on the type of material; all processes are documented in the metadata and a detailed digitizing protocol has been provided as an attachment on the project\\'s ScienceBase page.'"
      ]
     },
     "execution_count": 9,
     "metadata": {},
     "output_type": "execute_result"
    }
   ],
   "source": [
    "template_md.metadata.idinfo.descript.abstract.text"
   ]
  },
  {
   "cell_type": "code",
   "execution_count": 10,
   "metadata": {
    "collapsed": true
   },
   "outputs": [],
   "source": [
    "empty_abstract = template_md.metadata.idinfo.descript.abstract.text.replace('694', '{StakeNo}')\n",
    "empty_abstract = empty_abstract.replace('1872, 1972, and 1991', '{Repeat_Dates}')\n",
    "empty_abstract = empty_abstract.replace('36.39194', '{Lat}')\n",
    "empty_abstract = empty_abstract.replace('-112.62944', '{Long}')"
   ]
  },
  {
   "cell_type": "markdown",
   "metadata": {},
   "source": [
    "### Read in the CSV of values to propogate to..."
   ]
  },
  {
   "cell_type": "code",
   "execution_count": 12,
   "metadata": {},
   "outputs": [
    {
     "data": {
      "text/html": [
       "<div>\n",
       "<style>\n",
       "    .dataframe thead tr:only-child th {\n",
       "        text-align: right;\n",
       "    }\n",
       "\n",
       "    .dataframe thead th {\n",
       "        text-align: left;\n",
       "    }\n",
       "\n",
       "    .dataframe tbody tr th {\n",
       "        vertical-align: top;\n",
       "    }\n",
       "</style>\n",
       "<table border=\"1\" class=\"dataframe\">\n",
       "  <thead>\n",
       "    <tr style=\"text-align: right;\">\n",
       "      <th></th>\n",
       "      <th>StakeNo</th>\n",
       "      <th>Lat</th>\n",
       "      <th>Long</th>\n",
       "      <th>Repeat_Dates</th>\n",
       "    </tr>\n",
       "  </thead>\n",
       "  <tbody>\n",
       "    <tr>\n",
       "      <th>0</th>\n",
       "      <td>1096</td>\n",
       "      <td>36.39583</td>\n",
       "      <td>-112.62389</td>\n",
       "      <td>1872, 1974, 1983, 1990 and 1991</td>\n",
       "    </tr>\n",
       "    <tr>\n",
       "      <th>1</th>\n",
       "      <td>1209</td>\n",
       "      <td>36.44944</td>\n",
       "      <td>-112.63750</td>\n",
       "      <td>1872 (no physical image), 1968 and 1990</td>\n",
       "    </tr>\n",
       "    <tr>\n",
       "      <th>2</th>\n",
       "      <td>1210</td>\n",
       "      <td>36.44317</td>\n",
       "      <td>-112.65206</td>\n",
       "      <td>1872 and 1990</td>\n",
       "    </tr>\n",
       "    <tr>\n",
       "      <th>3</th>\n",
       "      <td>1211</td>\n",
       "      <td>36.44317</td>\n",
       "      <td>-112.65206</td>\n",
       "      <td>1872 and 1990</td>\n",
       "    </tr>\n",
       "    <tr>\n",
       "      <th>4</th>\n",
       "      <td>1212</td>\n",
       "      <td>36.44611</td>\n",
       "      <td>-112.63722</td>\n",
       "      <td>1872, 1968 and 1990</td>\n",
       "    </tr>\n",
       "  </tbody>\n",
       "</table>\n",
       "</div>"
      ],
      "text/plain": [
       "  StakeNo       Lat       Long                             Repeat_Dates\n",
       "0    1096  36.39583 -112.62389          1872, 1974, 1983, 1990 and 1991\n",
       "1    1209  36.44944 -112.63750  1872 (no physical image), 1968 and 1990\n",
       "2    1210  36.44317 -112.65206                            1872 and 1990\n",
       "3    1211  36.44317 -112.65206                            1872 and 1990\n",
       "4    1212  36.44611 -112.63722                      1872, 1968 and 1990"
      ]
     },
     "execution_count": 12,
     "metadata": {},
     "output_type": "execute_result"
    }
   ],
   "source": [
    "df = pd.read_excel(excel_fname)\n",
    "df.head(5)"
   ]
  },
  {
   "cell_type": "code",
   "execution_count": 14,
   "metadata": {
    "collapsed": true
   },
   "outputs": [],
   "source": [
    "empty_fname = \"USGS-Southwest-Repeat-Photography-Collection_Kanab-Creek_1872-2010_Stake-{}-Metadata.xml\""
   ]
  },
  {
   "cell_type": "markdown",
   "metadata": {},
   "source": [
    "### Run through them all"
   ]
  },
  {
   "cell_type": "code",
   "execution_count": 20,
   "metadata": {},
   "outputs": [
    {
     "name": "stdout",
     "output_type": "stream",
     "text": [
      "1096\n",
      "1209\n",
      "1210\n",
      "1211\n",
      "1212\n",
      "1213\n",
      "1214\n",
      "1215\n",
      "1216\n",
      "1217\n",
      "1218\n",
      "1219\n",
      "1220\n",
      "1224\n",
      "1226\n",
      "1227\n",
      "1231\n",
      "1232\n",
      "1233\n",
      "1234\n",
      "1235\n",
      "1236\n",
      "1237\n",
      "1238\n",
      "1239\n",
      "1360\n",
      "1504a\n",
      "1504b\n",
      "1505\n",
      "1506\n",
      "1792\n",
      "1793\n",
      "2038\n",
      "2039\n",
      "2040\n",
      "2042ab\n",
      "2049\n",
      "2050\n",
      "2051\n",
      "2052\n",
      "2053\n",
      "2054\n",
      "2055\n",
      "2066\n",
      "2067\n",
      "2068\n",
      "2098\n",
      "2403\n",
      "2404\n",
      "2405\n",
      "2406\n",
      "2407\n",
      "2410\n",
      "2411\n",
      "2412\n",
      "2413\n",
      "2414\n",
      "2415\n",
      "2427\n",
      "2434\n",
      "2435\n",
      "2557\n",
      "2561\n",
      "2595\n",
      "2652\n",
      "2653\n",
      "2654\n",
      "2952\n",
      "2953ab\n",
      "2955\n",
      "2956\n",
      "2986\n",
      "2993\n",
      "3964\n",
      "3965\n",
      "3966\n",
      "694\n",
      "695\n",
      "696\n",
      "713\n"
     ]
    }
   ],
   "source": [
    "bounding_width = 0.01 #this is Decimal degrees of half the bounding box\n",
    "\n",
    "for index, row in df.iterrows():\n",
    "    print(row[\"StakeNo\"])\n",
    "    new_title = empty_title.format(row[\"StakeNo\"])\n",
    "    template_md.metadata.idinfo.citation.citeinfo.title.text = new_title\n",
    "    \n",
    "    new_abs = empty_abstract.format(**row)\n",
    "    template_md.metadata.idinfo.descript.abstract.text = new_abs\n",
    "    \n",
    "    template_md.metadata.idinfo.spdom.bounding.northbc.text = row['Lat'] + bounding_width\n",
    "    template_md.metadata.idinfo.spdom.bounding.southbc.text = row['Lat'] - bounding_width\n",
    "    template_md.metadata.idinfo.spdom.bounding.westbc.text = row['Long'] + bounding_width\n",
    "    template_md.metadata.idinfo.spdom.bounding.eastbc.text = row['Long'] - bounding_width\n",
    "    \n",
    "    output_fname = os.path.join(output_dname, empty_fname.format(row[\"StakeNo\"]))\n",
    "    template_md.save(output_fname)\n",
    "    \n",
    "    \n",
    "    "
   ]
  },
  {
   "cell_type": "code",
   "execution_count": 1,
   "metadata": {
    "collapsed": true
   },
   "outputs": [],
   "source": [
    "import pysb"
   ]
  },
  {
   "cell_type": "code",
   "execution_count": null,
   "metadata": {
    "collapsed": true
   },
   "outputs": [],
   "source": []
  }
 ],
 "metadata": {
  "kernelspec": {
   "display_name": "Python 3",
   "language": "python",
   "name": "python3"
  },
  "language_info": {
   "codemirror_mode": {
    "name": "ipython",
    "version": 3
   },
   "file_extension": ".py",
   "mimetype": "text/x-python",
   "name": "python",
   "nbconvert_exporter": "python",
   "pygments_lexer": "ipython3",
   "version": "3.5.3"
  }
 },
 "nbformat": 4,
 "nbformat_minor": 2
}
