{
 "cells": [
  {
   "cell_type": "markdown",
   "metadata": {},
   "source": [
    "# Examples of Using Pymdwizard library to batch-update XMl Metadata\n",
    "\n",
    "* Change all instances of an author's name\n",
    "* Change dates to reflect those stored in external spreadsheet\n",
    "* Update project webpage\n",
    "* Reset title to match that stored in \"Citation\" field\n",
    "\n",
    ":boom:"
   ]
  },
  {
   "cell_type": "code",
   "execution_count": 1,
   "metadata": {
    "collapsed": true
   },
   "outputs": [],
   "source": [
    "import glob\n",
    "import pandas as pd\n",
    "from lxml import etree\n",
    "import sys\n",
    "import os\n",
    "sys.path.append(\"C:/Users/ehbaker/Documents/Python/scriptsFromOthers/fort-pymdwizard\") #path to pymdwizard library\n",
    "from pymdwizard.core.xml_utils import XMLRecord, XMLNode"
   ]
  },
  {
   "cell_type": "code",
   "execution_count": 2,
   "metadata": {
    "collapsed": false
   },
   "outputs": [],
   "source": [
    "#folder with xml metadata\n",
    "xml_fldr=r\"Q:\\Project Data\\GlacierData\\GPR\\_ASC_RawDataRelease_StagingArea\\_XMLMetadata\"\n",
    "os.chdir(xml_fldr)\n",
    "#table with information to be added to xml\n",
    "tbl_pth=r\"Q:\\Project Data\\GlacierData\\GPR\\_ASC_RawDataRelease_StagingArea\\_AuthorInfo\\Authors_perGlacier.xlsx\"\n",
    "#Read in table\n",
    "tbl=pd.read_excel(tbl_pth)\n",
    "\n",
    "#Pattern of the XML files you wish to select\n",
    "xml_pattern=\"*RawGPR.xml\"\n",
    "#List RawGPR xmls\n",
    "xmls=glob.glob(xml_fldr+ \"\\\\\"+ xml_pattern)"
   ]
  },
  {
   "cell_type": "code",
   "execution_count": 3,
   "metadata": {
    "collapsed": false
   },
   "outputs": [
    {
     "data": {
      "text/html": [
       "<div>\n",
       "<table border=\"1\" class=\"dataframe\">\n",
       "  <thead>\n",
       "    <tr style=\"text-align: right;\">\n",
       "      <th></th>\n",
       "      <th>Glacier</th>\n",
       "      <th>GroupedNames</th>\n",
       "      <th>Authors</th>\n",
       "      <th>Years</th>\n",
       "      <th>Notes</th>\n",
       "    </tr>\n",
       "  </thead>\n",
       "  <tbody>\n",
       "    <tr>\n",
       "      <th>0</th>\n",
       "      <td>Wolverine</td>\n",
       "      <td>Wolverine</td>\n",
       "      <td>McNeil, Sass, Babcock, McGrath, Candela, Baker...</td>\n",
       "      <td>2013-2016</td>\n",
       "      <td>NaN</td>\n",
       "    </tr>\n",
       "    <tr>\n",
       "      <th>1</th>\n",
       "      <td>Valdez</td>\n",
       "      <td>Valdez</td>\n",
       "      <td>Wolken, Arendt, Candela, Baker, Whorton, Gusme...</td>\n",
       "      <td>2013-2015</td>\n",
       "      <td>NaN</td>\n",
       "    </tr>\n",
       "    <tr>\n",
       "      <th>2</th>\n",
       "      <td>Susitna, West Fork, East Fork, Maclaren, and E...</td>\n",
       "      <td>Upper Susitna Basin Glaciers</td>\n",
       "      <td>Wolken, Candela, Baker, Whorton, Gusmeroli</td>\n",
       "      <td>2012-2015</td>\n",
       "      <td>NaN</td>\n",
       "    </tr>\n",
       "    <tr>\n",
       "      <th>3</th>\n",
       "      <td>Taku</td>\n",
       "      <td>Taku</td>\n",
       "      <td>McNeil, Sass, Candela, Baker, O'Neel</td>\n",
       "      <td>2013-2015</td>\n",
       "      <td>NaN</td>\n",
       "    </tr>\n",
       "    <tr>\n",
       "      <th>4</th>\n",
       "      <td>Surprise</td>\n",
       "      <td>Surprise</td>\n",
       "      <td>Baker, Sass, Burgess</td>\n",
       "      <td>2014</td>\n",
       "      <td>NaN</td>\n",
       "    </tr>\n",
       "  </tbody>\n",
       "</table>\n",
       "</div>"
      ],
      "text/plain": [
       "                                             Glacier  \\\n",
       "0                                          Wolverine   \n",
       "1                                             Valdez   \n",
       "2  Susitna, West Fork, East Fork, Maclaren, and E...   \n",
       "3                                               Taku   \n",
       "4                                           Surprise   \n",
       "\n",
       "                   GroupedNames  \\\n",
       "0                     Wolverine   \n",
       "1                        Valdez   \n",
       "2  Upper Susitna Basin Glaciers   \n",
       "3                          Taku   \n",
       "4                      Surprise   \n",
       "\n",
       "                                             Authors      Years Notes  \n",
       "0  McNeil, Sass, Babcock, McGrath, Candela, Baker...  2013-2016   NaN  \n",
       "1  Wolken, Arendt, Candela, Baker, Whorton, Gusme...  2013-2015   NaN  \n",
       "2         Wolken, Candela, Baker, Whorton, Gusmeroli  2012-2015   NaN  \n",
       "3               McNeil, Sass, Candela, Baker, O'Neel  2013-2015   NaN  \n",
       "4                               Baker, Sass, Burgess       2014   NaN  "
      ]
     },
     "execution_count": 3,
     "metadata": {},
     "output_type": "execute_result"
    }
   ],
   "source": [
    "tbl.head()"
   ]
  },
  {
   "cell_type": "code",
   "execution_count": 4,
   "metadata": {
    "collapsed": false
   },
   "outputs": [
    {
     "name": "stdout",
     "output_type": "stream",
     "text": [
      "Q:\\Project Data\\GlacierData\\GPR\\_ASC_RawDataRelease_StagingArea\\_XMLMetadata\\EasternChugachGlaciersRawGPR.xml\n",
      "Q:\\Project Data\\GlacierData\\GPR\\_ASC_RawDataRelease_StagingArea\\_XMLMetadata\\EklutnaGlacierRawGPR.xml\n",
      "Q:\\Project Data\\GlacierData\\GPR\\_ASC_RawDataRelease_StagingArea\\_XMLMetadata\\GilkeyGlacierRawGPR.xml\n",
      "Q:\\Project Data\\GlacierData\\GPR\\_ASC_RawDataRelease_StagingArea\\_XMLMetadata\\GulkanaGlacierRawGPR.xml\n",
      "Q:\\Project Data\\GlacierData\\GPR\\_ASC_RawDataRelease_StagingArea\\_XMLMetadata\\KenaiGlaciersRawGPR.xml\n",
      "Q:\\Project Data\\GlacierData\\GPR\\_ASC_RawDataRelease_StagingArea\\_XMLMetadata\\LakeGeorgeGlacierRawGPR.xml\n",
      "Q:\\Project Data\\GlacierData\\GPR\\_ASC_RawDataRelease_StagingArea\\_XMLMetadata\\LemonCreekGlacierRawGPR.xml\n",
      "Q:\\Project Data\\GlacierData\\GPR\\_ASC_RawDataRelease_StagingArea\\_XMLMetadata\\ScottGlacierRawGPR.xml\n",
      "Q:\\Project Data\\GlacierData\\GPR\\_ASC_RawDataRelease_StagingArea\\_XMLMetadata\\SurpriseGlacierRawGPR.xml\n",
      "Q:\\Project Data\\GlacierData\\GPR\\_ASC_RawDataRelease_StagingArea\\_XMLMetadata\\TakuGlacierRawGPR.xml\n",
      "Q:\\Project Data\\GlacierData\\GPR\\_ASC_RawDataRelease_StagingArea\\_XMLMetadata\\UpperSusitnaBasinGlaciersRawGPR.xml\n",
      "Q:\\Project Data\\GlacierData\\GPR\\_ASC_RawDataRelease_StagingArea\\_XMLMetadata\\ValdezGlacierRawGPR.xml\n",
      "Q:\\Project Data\\GlacierData\\GPR\\_ASC_RawDataRelease_StagingArea\\_XMLMetadata\\WolverineGlacierRawGPR.xml\n"
     ]
    }
   ],
   "source": [
    "#Edit all dates, to reflect those in spreadsheet\n",
    "for fl in xmls:\n",
    "    print(fl)\n",
    "    \n",
    "    #Edit dates in the \"Citation\" section\n",
    "    metd=XMLRecord(fl) #read in xml file\n",
    "    og_txt=metd.metadata.idinfo.citation.citeinfo.othercit.text #store original citation text\n",
    "    txt_keep=og_txt.split(\"Alaska, \")[0]+\"Alaska, \" #keep the first portion of the citation text\n",
    "    glacier=og_txt.split(\"Data, \")[1].split(\", Alaska\")[0].split(\" Glacier\")[0]\n",
    "    years=str(tbl[\"Years\"][tbl.Glacier==glacier].values[0]) #Extract years in column, convert to string\n",
    "    new_txt=txt_keep+years+\".\" #Citation with correct years.\n",
    "    metd.metadata.idinfo.citation.citeinfo.othercit.text=new_txt #overwrite \"othercit\" citation with new dates\n",
    "\n",
    "    #Edit dates in the \"title\" section\n",
    "    new_title=metd.metadata.idinfo.citation.citeinfo.title.text.split(\"Alaska, \")[0]+years\n",
    "    metd.metadata.idinfo.citation.citeinfo.title.text=new_title\n",
    "    \n",
    "    #edit beginning and end dates\n",
    "    begdate=years.split(\"-\")[0]+\"0101\"\n",
    "\n",
    "    if len(years.split(\"-\"))>1:\n",
    "        enddate=years.split(\"-\")[1]+\"1231\"\n",
    "    else:\n",
    "        enddate=years.split(\"-\")[0]+\"1231\"   \n",
    "    \n",
    "    metd.metadata.idinfo.timeperd.timeinfo.rngdates.begdate.text=begdate\n",
    "    metd.metadata.idinfo.timeperd.timeinfo.rngdates.enddate.text=enddate\n",
    "    \n",
    "    metd.save()"
   ]
  },
  {
   "cell_type": "code",
   "execution_count": 5,
   "metadata": {
    "collapsed": false
   },
   "outputs": [],
   "source": [
    "#Update project webpage\n",
    "for fl in xmls:\n",
    "    metd=XMLRecord(fl)\n",
    "    metd.metadata.idinfo.citation.citeinfo.lworkcit.citeinfo.onlink.text=\"https://staging-www.usgs.gov/climate_landuse/clu_rd/glacierstudies/data.asp\"\n",
    "    metd.save()"
   ]
  },
  {
   "cell_type": "code",
   "execution_count": 6,
   "metadata": {
    "collapsed": false
   },
   "outputs": [],
   "source": [
    "#Edit Name for given person\n",
    "replace_name=\"Erin Whorton\"\n",
    "new_name=\"Erin N. Whorton\"\n",
    "for fl in xmls:\n",
    "    metd=XMLRecord(fl)\n",
    "    for name in metd.metadata.idinfo.citation.citeinfo.origin:\n",
    "        if name.text==replace_name: #replace old name with new name\n",
    "            name.text=new_name\n",
    "    metd.save()"
   ]
  },
  {
   "cell_type": "code",
   "execution_count": 7,
   "metadata": {
    "collapsed": true
   },
   "outputs": [],
   "source": [
    "#Update pubdate\n",
    "pubdate=\"201707\"\n",
    "for fl in xmls:\n",
    "    metd=XMLRecord(fl)\n",
    "    metd.metadata.idinfo.citation.citeinfo.pubdate=pubdate\n",
    "    metd.save()"
   ]
  },
  {
   "cell_type": "code",
   "execution_count": 8,
   "metadata": {
    "collapsed": false
   },
   "outputs": [],
   "source": [
    "#Update Long All-Author List:\n",
    "all_author_path=r\"Q:\\Project Data\\GlacierData\\GPR\\_ASC_RawDataRelease_StagingArea\\_XMLMetadata\\people.xml\"\n",
    "all_author=XMLNode(open(all_author_path, 'r').read()) #Must read in text file as string to convert to node\n",
    "\n",
    "for fl in xmls:\n",
    "    metd=XMLRecord(fl) #read xml\n",
    "    metd.metadata.idinfo.citation.citeinfo.lworkcit.citeinfo.clear_children('origin') #Clear contents of current author list\n",
    "    for author in all_author.people.origin: #add authors from xml list back in to the larger work cited 'origin' tag\n",
    "        metd.metadata.idinfo.citation.citeinfo.lworkcit.citeinfo.add_child(author)\n",
    "    metd.save()"
   ]
  },
  {
   "cell_type": "code",
   "execution_count": 9,
   "metadata": {
    "collapsed": false
   },
   "outputs": [],
   "source": [
    "#Reset title of dataset to match that in Citation\n",
    "for fl in xmls:\n",
    "    metd=XMLRecord(fl)\n",
    "    title_from_citation=metd.metadata.idinfo.citation.citeinfo.othercit.text.split(\"2017, \")[1].split(\".\")[0]\n",
    "    metd.metadata.idinfo.citation.citeinfo.title.text=title_from_citation\n",
    "    metd.save()"
   ]
  }
 ],
 "metadata": {
  "kernelspec": {
   "display_name": "Python 3",
   "language": "python",
   "name": "python3"
  },
  "language_info": {
   "codemirror_mode": {
    "name": "ipython",
    "version": 3
   },
   "file_extension": ".py",
   "mimetype": "text/x-python",
   "name": "python",
   "nbconvert_exporter": "python",
   "pygments_lexer": "ipython3",
   "version": "3.6.0"
  }
 },
 "nbformat": 4,
 "nbformat_minor": 2
}
