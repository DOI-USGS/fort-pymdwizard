{
 "cells": [
  {
   "cell_type": "markdown",
   "metadata": {},
   "source": [
    "# Examples of Using Pymdwizard library to batch-update XML Metadata\n",
    "\n",
    "* Change all instances of an author's name\n",
    "* Update project webpage & publication date\n",
    "* Reset title to match that stored in \"Citation\" field\n",
    "\n"
   ]
  },
  {
   "cell_type": "code",
   "execution_count": 1,
   "metadata": {
    "collapsed": true
   },
   "outputs": [],
   "source": [
    "import glob\n",
    "import pandas as pd\n",
    "from lxml import etree\n",
    "import sys\n",
    "import os\n",
    "from pymdwizard.core.xml_utils import XMLRecord, XMLNode #import in this manner requires adding a path file to your site-packages directory"
   ]
  },
  {
   "cell_type": "markdown",
   "metadata": {},
   "source": [
    "** List the existing XML files you wish to edit **"
   ]
  },
  {
   "cell_type": "code",
   "execution_count": 3,
   "metadata": {
    "collapsed": false
   },
   "outputs": [],
   "source": [
    "#folder with xml metadata\n",
    "xml_fldr=r\"..\\_XMLMetadata\"\n",
    "os.chdir(xml_fldr)\n",
    "\n",
    "#Pattern of the XML files you wish to select\n",
    "xml_pattern=\"*RawGPR.xml\"\n",
    "#List RawGPR xmls\n",
    "xmls=glob.glob(xml_pattern)"
   ]
  },
  {
   "cell_type": "markdown",
   "metadata": {},
   "source": [
    "** Update Project Webpage **"
   ]
  },
  {
   "cell_type": "code",
   "execution_count": 5,
   "metadata": {
    "collapsed": false
   },
   "outputs": [],
   "source": [
    "for fl in xmls:\n",
    "    metd=XMLRecord(fl)\n",
    "    new_website=\"https://staging-www.usgs.gov/climate_landuse/clu_rd/glacierstudies/data.asp\"\n",
    "    metd.metadata.idinfo.citation.citeinfo.lworkcit.citeinfo.onlink.text=new_website\n",
    "    metd.save()"
   ]
  },
  {
   "cell_type": "markdown",
   "metadata": {},
   "source": [
    "** Change Person's Name (e.g. add middle initial) **"
   ]
  },
  {
   "cell_type": "code",
   "execution_count": 6,
   "metadata": {
    "collapsed": false
   },
   "outputs": [],
   "source": [
    "#Edit Name for given person\n",
    "replace_name=\"Erin Whorton\"\n",
    "new_name=\"Erin N. Whorton\"\n",
    "for fl in xmls:\n",
    "    metd=XMLRecord(fl)\n",
    "    for name in metd.metadata.idinfo.citation.citeinfo.origin:\n",
    "        if name.text==replace_name: #replace old name with new name\n",
    "            name.text=new_name\n",
    "    metd.save()"
   ]
  },
  {
   "cell_type": "markdown",
   "metadata": {},
   "source": [
    "** Update Publication Date **"
   ]
  },
  {
   "cell_type": "code",
   "execution_count": 7,
   "metadata": {
    "collapsed": true
   },
   "outputs": [],
   "source": [
    "pubdate=\"201707\" #set date as you wish it to appear in publication node\n",
    "for fl in xmls:\n",
    "    metd=XMLRecord(fl)\n",
    "    metd.metadata.idinfo.citation.citeinfo.pubdate.text=pubdate\n",
    "    metd.save()"
   ]
  },
  {
   "cell_type": "markdown",
   "metadata": {},
   "source": [
    "** Change List of Authors in Larger Work Citation **"
   ]
  },
  {
   "cell_type": "markdown",
   "metadata": {},
   "source": [
    "Author list can be either read in from an XMl fragment:"
   ]
  },
  {
   "cell_type": "code",
   "execution_count": 8,
   "metadata": {
    "collapsed": true
   },
   "outputs": [],
   "source": [
    "all_author_path=r\"../people.xml\"\n",
    "all_author=XMLNode(open(all_author_path, 'r').read()) #Must read in text file as string to convert to node"
   ]
  },
  {
   "cell_type": "markdown",
   "metadata": {},
   "source": [
    "Or, created from text entered directly in the notebook:"
   ]
  },
  {
   "cell_type": "code",
   "execution_count": 9,
   "metadata": {
    "collapsed": true
   },
   "outputs": [],
   "source": [
    "all_author=XMLNode(r'''\n",
    "<people>\n",
    "<origin>Shad O'Neel (ORCID 0000-0002-9185-0144)</origin>\n",
    "<origin>Daniel McGrath (ORCID 0000-0002-9462-6842)</origin>\n",
    "<origin>Gabriel J. Wolken</origin>\n",
    "<origin>Salvatore G. Candela</origin>\n",
    "<origin>Louis C. Sass (ORCID 0000-0003-4677-029X)</origin>\n",
    "<origin>Christopher J. McNeil (ORCID 0000-0003-4170-0428)</origin>\n",
    "<origin>Emily H. Baker (OrcID 0000-0002-0938-3496)</origin>\n",
    "<origin>Esther L. Babcock (ORCID 0000-0001-7665-7795)</origin>\n",
    "<origin>Michael G. Loso</origin>\n",
    "<origin>Anthony A. Arendt</origin>\n",
    "<origin>Erin N. Whorton</origin>\n",
    "<origin>Evan W. Burgess</origin>\n",
    "<origin>Alessio Gusmeroli</origin>\n",
    "</people>)''')"
   ]
  },
  {
   "cell_type": "markdown",
   "metadata": {},
   "source": [
    "Then, this list of authors can be added to each record, after initial contents is deleted"
   ]
  },
  {
   "cell_type": "code",
   "execution_count": 10,
   "metadata": {
    "collapsed": false
   },
   "outputs": [],
   "source": [
    "for fl in xmls:\n",
    "    metd=XMLRecord(fl) #read xml\n",
    "    metd.metadata.idinfo.citation.citeinfo.lworkcit.citeinfo.clear_children('origin') #Clear contents of current author list\n",
    "    for author in all_author.people.origin: #add authors from xml list back in to the larger work cited 'origin' tag\n",
    "        metd.metadata.idinfo.citation.citeinfo.lworkcit.citeinfo.add_child(author)\n",
    "    metd.save()"
   ]
  },
  {
   "cell_type": "markdown",
   "metadata": {},
   "source": [
    "** Reset title of dataset to match that in the Citation section**\n",
    "\n",
    "The two should match, but this may not always be the case (e.g. date ranges)"
   ]
  },
  {
   "cell_type": "code",
   "execution_count": 11,
   "metadata": {
    "collapsed": false
   },
   "outputs": [],
   "source": [
    "for fl in xmls:\n",
    "    metd=XMLRecord(fl)\n",
    "    #this will need to be re-written depending on how it is possible to split your desired \"Title\" from the larger citation.\n",
    "    title_from_citation=metd.metadata.idinfo.citation.citeinfo.othercit.text.split(\"2017, \")[1].split(\".\")[0] \n",
    "    #the above line splits \"Title\" from the citation, in format of \"Author. et. al, 2017, Title.\"\n",
    "    metd.metadata.idinfo.citation.citeinfo.title.text=title_from_citation\n",
    "    metd.save()"
   ]
  }
 ],
 "metadata": {
  "kernelspec": {
   "display_name": "Python 3",
   "language": "python",
   "name": "python3"
  },
  "language_info": {
   "codemirror_mode": {
    "name": "ipython",
    "version": 3
   },
   "file_extension": ".py",
   "mimetype": "text/x-python",
   "name": "python",
   "nbconvert_exporter": "python",
   "pygments_lexer": "ipython3",
   "version": "3.6.0"
  }
 },
 "nbformat": 4,
 "nbformat_minor": 2
}
