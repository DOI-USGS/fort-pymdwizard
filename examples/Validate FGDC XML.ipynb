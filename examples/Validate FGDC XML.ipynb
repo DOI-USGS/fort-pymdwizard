{
 "cells": [
  {
   "cell_type": "markdown",
   "metadata": {},
   "source": [
    "# How to validate an FGDC XML record in python with only the schema"
   ]
  },
  {
   "cell_type": "code",
   "execution_count": 8,
   "metadata": {
    "collapsed": true
   },
   "outputs": [],
   "source": [
    "import requests\n",
    "from lxml import etree\n",
    "from lxml import html"
   ]
  },
  {
   "cell_type": "code",
   "execution_count": 9,
   "metadata": {
    "collapsed": true
   },
   "outputs": [],
   "source": [
    "url = \"https://www2.usgs.gov/datamanagement/documents/USGS_ASC_PolarBears_FGDC.xml\""
   ]
  },
  {
   "cell_type": "code",
   "execution_count": 19,
   "metadata": {
    "collapsed": false
   },
   "outputs": [],
   "source": [
    "res = requests.get(url)\n",
    "# doc = lxml.html.parse(res.content[3:])\n",
    "doc = etree.fromstring(res.content[3:])"
   ]
  },
  {
   "cell_type": "code",
   "execution_count": 28,
   "metadata": {
    "collapsed": false
   },
   "outputs": [],
   "source": [
    "schema_fname = r\"C:\\temp\\junk\\BDPSchema\\BDPfgdc-std-001-1998.xsd\"\n",
    "xmlschema_doc = etree.parse(schema_fname)\n",
    "xmlschema = etree.XMLSchema(xmlschema_doc)"
   ]
  },
  {
   "cell_type": "markdown",
   "metadata": {},
   "source": [
    "## This record has no errors, of course. "
   ]
  },
  {
   "cell_type": "code",
   "execution_count": 30,
   "metadata": {
    "collapsed": false
   },
   "outputs": [
    {
     "data": {
      "text/plain": [
       "True"
      ]
     },
     "execution_count": 30,
     "metadata": {},
     "output_type": "execute_result"
    }
   ],
   "source": [
    "xmlschema.validate(doc)"
   ]
  },
  {
   "cell_type": "markdown",
   "metadata": {},
   "source": [
    "## Let's introduce some errors."
   ]
  },
  {
   "cell_type": "code",
   "execution_count": 49,
   "metadata": {
    "collapsed": false
   },
   "outputs": [],
   "source": [
    "# Bad date format\n",
    "doc.getchildren()[0].getchildren()[2].getchildren()[0].getchildren()[0].getchildren()[0].text = 'Bad date format'"
   ]
  },
  {
   "cell_type": "code",
   "execution_count": 60,
   "metadata": {
    "collapsed": false
   },
   "outputs": [],
   "source": [
    "#missing keywords\n",
    "idinfo = doc.getchildren()[0]\n",
    "idinfo.remove(doc.getchildren()[0].getchildren()[5])"
   ]
  },
  {
   "cell_type": "code",
   "execution_count": 72,
   "metadata": {
    "collapsed": false
   },
   "outputs": [],
   "source": [
    "#duplicate logical consistency\n",
    "dataqual = doc.getchildren()[1]\n",
    "logical2 = etree.Element('logic')\n",
    "logical2.text = 'This is illogical'\n",
    "dataqual.insert(1, logical2)"
   ]
  },
  {
   "cell_type": "markdown",
   "metadata": {},
   "source": [
    "## Does it pass? "
   ]
  },
  {
   "cell_type": "code",
   "execution_count": 75,
   "metadata": {
    "collapsed": false
   },
   "outputs": [
    {
     "data": {
      "text/plain": [
       "False"
      ]
     },
     "execution_count": 75,
     "metadata": {},
     "output_type": "execute_result"
    }
   ],
   "source": [
    "xmlschema.validate(doc)"
   ]
  },
  {
   "cell_type": "markdown",
   "metadata": {},
   "source": [
    "## What's wrong with it?"
   ]
  },
  {
   "cell_type": "code",
   "execution_count": 78,
   "metadata": {
    "collapsed": false
   },
   "outputs": [
    {
     "name": "stdout",
     "output_type": "stream",
     "text": [
      "Element 'begdate': 'Bad date format' is not a valid value of the union type 'begdateType'.  at line number  23\n",
      "Element 'taxonomy': This element is not expected. Expected is one of ( spdom, keywords ).  at line number  56\n",
      "Element 'logic': This element is not expected. Expected is ( complete ).  at line number  133\n"
     ]
    }
   ],
   "source": [
    "for error in xmlschema.error_log:\n",
    "    print(error.message, \" at line number \", error.line)"
   ]
  },
  {
   "cell_type": "markdown",
   "metadata": {},
   "source": [
    "## But we really want the xpath to the error and not the line numbers"
   ]
  },
  {
   "cell_type": "code",
   "execution_count": 81,
   "metadata": {
    "collapsed": false
   },
   "outputs": [],
   "source": [
    "import lxml.etree\n",
    "\n",
    "def get_xpath_from_line_nums(doc, line_nums):\n",
    "    tree = lxml.etree.ElementTree(doc)\n",
    "    line_lookup = dict([(e.sourceline, tree.getpath(e)) for e in tree.xpath('.//*')])\n",
    "    return dict([(i, line_lookup[i]) for i in line_nums])"
   ]
  },
  {
   "cell_type": "code",
   "execution_count": 82,
   "metadata": {
    "collapsed": false
   },
   "outputs": [
    {
     "data": {
      "text/plain": [
       "{23: '/metadata/idinfo/timeperd/timeinfo/rngdates/begdate',\n",
       " 56: '/metadata/idinfo/taxonomy',\n",
       " 133: '/metadata/dataqual/logic[2]'}"
      ]
     },
     "execution_count": 82,
     "metadata": {},
     "output_type": "execute_result"
    }
   ],
   "source": [
    "error_lines = [error.line for error in xmlschema.error_log]\n",
    "get_xpath_from_line_nums(doc, error_lines)"
   ]
  }
 ],
 "metadata": {
  "anaconda-cloud": {},
  "kernelspec": {
   "display_name": "Python [default]",
   "language": "python",
   "name": "python3"
  },
  "language_info": {
   "codemirror_mode": {
    "name": "ipython",
    "version": 3
   },
   "file_extension": ".py",
   "mimetype": "text/x-python",
   "name": "python",
   "nbconvert_exporter": "python",
   "pygments_lexer": "ipython3",
   "version": "3.5.2"
  }
 },
 "nbformat": 4,
 "nbformat_minor": 1
}
