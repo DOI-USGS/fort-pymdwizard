{
 "cells": [
  {
   "cell_type": "markdown",
   "metadata": {},
   "source": [
    "## This notebook creates a report on all of the metadata files in a directory and subdirectory.\n",
    "1. finds all of the xml files in a directory and it's sub directories.\n",
    "1. opens each xml file\n",
    "1. extracts out the FGDC title and abstract\n",
    "1. validates the FGDC record against the FGDC schema, and lists errors\n",
    "1. writes each filename, title, abstract and list of errors to a csv."
   ]
  },
  {
   "cell_type": "code",
   "execution_count": 1,
   "metadata": {
    "collapsed": true
   },
   "outputs": [],
   "source": [
    "import glob\n",
    "import csv\n",
    "\n",
    "import pandas as pd\n",
    "\n",
    "#This needs to be run using the python install that contains the pymdwizard and it's dependencies\n",
    "from pymdwizard.core import fgdc_utils, xml_utils"
   ]
  },
  {
   "cell_type": "markdown",
   "metadata": {},
   "source": [
    "### Change this to the directory we're going to be searching through"
   ]
  },
  {
   "cell_type": "code",
   "execution_count": 2,
   "metadata": {
    "collapsed": true
   },
   "outputs": [],
   "source": [
    "dname = r\"..\\Spatial_Data\"\n",
    "\n",
    "md_fnames = list(glob.iglob('{}/**/*.xml'.format(dname), recursive=True))"
   ]
  },
  {
   "cell_type": "markdown",
   "metadata": {},
   "source": [
    "### Change this to a filename to save the output to"
   ]
  },
  {
   "cell_type": "code",
   "execution_count": 3,
   "metadata": {
    "collapsed": true
   },
   "outputs": [],
   "source": [
    "out_fname = r\"spatial_fgdc_reportx.csv\""
   ]
  },
  {
   "cell_type": "code",
   "execution_count": 7,
   "metadata": {
    "collapsed": false
   },
   "outputs": [],
   "source": [
    "with open(out_fname, 'w', newline='') as csvfile:\n",
    "    spamwriter = csv.writer(csvfile, delimiter=',',\n",
    "                            quotechar='\"',quoting=csv.QUOTE_MINIMAL)\n",
    "    \n",
    "    spamwriter.writerow(['filename', 'title', 'abstract', 'errors'])\n",
    "    for fname in md_fnames:\n",
    "        xml = xml_utils.fname_to_node(fname)\n",
    "        fname = fname.replace(dname, '')\n",
    "        try:\n",
    "            title = xml.xpath('idinfo/citation/citeinfo/title')[0].text\n",
    "            abstract = xml.xpath('idinfo/descript/abstract')[0].text\n",
    "        except:\n",
    "            title = \"<<<could not get the title>>>\"\n",
    "            abstract = \"<<<could not get the abstract>>>\"\n",
    "        errors = fgdc_utils.validate_xml(xml, xsl_fname='fgdc')\n",
    "        spamwriter.writerow([fname, title, abstract, str(errors)])"
   ]
  },
  {
   "cell_type": "code",
   "execution_count": 8,
   "metadata": {
    "collapsed": false
   },
   "outputs": [
    {
     "data": {
      "text/html": [
       "<div>\n",
       "<table border=\"1\" class=\"dataframe\">\n",
       "  <thead>\n",
       "    <tr style=\"text-align: right;\">\n",
       "      <th></th>\n",
       "      <th>filename</th>\n",
       "      <th>title</th>\n",
       "      <th>abstract</th>\n",
       "      <th>errors</th>\n",
       "    </tr>\n",
       "  </thead>\n",
       "  <tbody>\n",
       "    <tr>\n",
       "      <th>0</th>\n",
       "      <td>\\Analysis_Structures\\Bottomland_Polygons\\BLPol...</td>\n",
       "      <td>&lt;&lt;&lt;could not get the title&gt;&gt;&gt;</td>\n",
       "      <td>&lt;&lt;&lt;could not get the abstract&gt;&gt;&gt;</td>\n",
       "      <td>[('metadata', \"Element 'metadata', attribute '...</td>\n",
       "    </tr>\n",
       "    <tr>\n",
       "      <th>1</th>\n",
       "      <td>\\Analysis_Structures\\Bottomland_Polygons\\Botto...</td>\n",
       "      <td>&lt;&lt;&lt;could not get the title&gt;&gt;&gt;</td>\n",
       "      <td>&lt;&lt;&lt;could not get the abstract&gt;&gt;&gt;</td>\n",
       "      <td>[('metadata', \"Element 'metadata', attribute '...</td>\n",
       "    </tr>\n",
       "    <tr>\n",
       "      <th>2</th>\n",
       "      <td>\\Associated_Models\\Cost_of_Restoration\\Cost_of...</td>\n",
       "      <td>Ease of Access to Bottomland Areas (Sept, 2010...</td>\n",
       "      <td>This dataset represents ease of access to bott...</td>\n",
       "      <td>[('metadata/eainfo/detailed', \"Element 'detail...</td>\n",
       "    </tr>\n",
       "    <tr>\n",
       "      <th>3</th>\n",
       "      <td>\\Associated_Models\\Cost_of_Restoration\\Cost_of...</td>\n",
       "      <td>Relative Abundance of Herbaceous, Non-native S...</td>\n",
       "      <td>This dataset represents the relative abundance...</td>\n",
       "      <td>[('metadata/dataqual/attracc/qattracc/attracce...</td>\n",
       "    </tr>\n",
       "    <tr>\n",
       "      <th>4</th>\n",
       "      <td>\\Associated_Models\\Cost_of_Restoration\\Cost_of...</td>\n",
       "      <td>Relative Abundance of Woody, Non-native Specie...</td>\n",
       "      <td>This dataset represents the relative abundance...</td>\n",
       "      <td>[('metadata/dataqual/attracc/qattracc/attracce...</td>\n",
       "    </tr>\n",
       "  </tbody>\n",
       "</table>\n",
       "</div>"
      ],
      "text/plain": [
       "                                            filename  \\\n",
       "0  \\Analysis_Structures\\Bottomland_Polygons\\BLPol...   \n",
       "1  \\Analysis_Structures\\Bottomland_Polygons\\Botto...   \n",
       "2  \\Associated_Models\\Cost_of_Restoration\\Cost_of...   \n",
       "3  \\Associated_Models\\Cost_of_Restoration\\Cost_of...   \n",
       "4  \\Associated_Models\\Cost_of_Restoration\\Cost_of...   \n",
       "\n",
       "                                               title  \\\n",
       "0                      <<<could not get the title>>>   \n",
       "1                      <<<could not get the title>>>   \n",
       "2  Ease of Access to Bottomland Areas (Sept, 2010...   \n",
       "3  Relative Abundance of Herbaceous, Non-native S...   \n",
       "4  Relative Abundance of Woody, Non-native Specie...   \n",
       "\n",
       "                                            abstract  \\\n",
       "0                   <<<could not get the abstract>>>   \n",
       "1                   <<<could not get the abstract>>>   \n",
       "2  This dataset represents ease of access to bott...   \n",
       "3  This dataset represents the relative abundance...   \n",
       "4  This dataset represents the relative abundance...   \n",
       "\n",
       "                                              errors  \n",
       "0  [('metadata', \"Element 'metadata', attribute '...  \n",
       "1  [('metadata', \"Element 'metadata', attribute '...  \n",
       "2  [('metadata/eainfo/detailed', \"Element 'detail...  \n",
       "3  [('metadata/dataqual/attracc/qattracc/attracce...  \n",
       "4  [('metadata/dataqual/attracc/qattracc/attracce...  "
      ]
     },
     "execution_count": 8,
     "metadata": {},
     "output_type": "execute_result"
    }
   ],
   "source": [
    "pd.read_csv(out_fname).head(5)"
   ]
  },
  {
   "cell_type": "code",
   "execution_count": null,
   "metadata": {
    "collapsed": true
   },
   "outputs": [],
   "source": []
  }
 ],
 "metadata": {
  "anaconda-cloud": {},
  "kernelspec": {
   "display_name": "Python [default]",
   "language": "python",
   "name": "python3"
  },
  "language_info": {
   "codemirror_mode": {
    "name": "ipython",
    "version": 3
   },
   "file_extension": ".py",
   "mimetype": "text/x-python",
   "name": "python",
   "nbconvert_exporter": "python",
   "pygments_lexer": "ipython3",
   "version": "3.5.2"
  }
 },
 "nbformat": 4,
 "nbformat_minor": 1
}
