{
 "cells": [
  {
   "cell_type": "markdown",
   "metadata": {},
   "source": [
    "## A workflow for automating the creation of a ScienceBase Data Release from the content of a CSDGM metadata record\n",
    "\n",
    "#### Created by the Data Managment Team of the Fort Collins Science Center with help from the SB team"
   ]
  },
  {
   "cell_type": "code",
   "execution_count": 1,
   "metadata": {
    "collapsed": true
   },
   "outputs": [],
   "source": [
    "import requests\n",
    "import pysb\n",
    "import random\n",
    "import smtplib\n",
    "import json\n",
    "from bs4 import BeautifulSoup\n",
    "from email.mime.text import MIMEText\n",
    "from requests_ntlm import HttpNtlmAuth\n",
    "\n",
    "import getpass\n",
    "\n",
    "from pymdwizard.core.xml_utils import XMLRecord, XMLNode\n",
    "from pymdwizard.core import utils"
   ]
  },
  {
   "cell_type": "markdown",
   "metadata": {},
   "source": [
    "### identify the items we'll need for this process:\n",
    "\n",
    "#### The CSDGM metadata record,  A list of data files to include in the release,  the IPDS number"
   ]
  },
  {
   "cell_type": "code",
   "execution_count": 2,
   "metadata": {
    "collapsed": true
   },
   "outputs": [],
   "source": [
    "md_fname = r\"Z:\\FORT_DataManagement\\Ruth_2017_GRSPHabitat\\Habitat Data Arizona Grasshopper Sparrow Territory Nest and Random 2009 to 2013.xml\"\n",
    "# data_files = [r\"Z:\\FORT_DataManagement\\Falk_2017_PythonBodyCondition\\FinalData\\Falk 2017 python body condition data.csv\", ]\n",
    "ipds_number = 'IP-090592'"
   ]
  },
  {
   "cell_type": "markdown",
   "metadata": {},
   "source": [
    "#### get the username and password we'll be using"
   ]
  },
  {
   "cell_type": "code",
   "execution_count": 3,
   "metadata": {},
   "outputs": [
    {
     "name": "stdout",
     "output_type": "stream",
     "text": [
      "········\n"
     ]
    }
   ],
   "source": [
    "username = \"talbertc@usgs.gov\"\n",
    "password = getpass.getpass()"
   ]
  },
  {
   "cell_type": "markdown",
   "metadata": {},
   "source": [
    "#### extract the information needed from the MD record"
   ]
  },
  {
   "cell_type": "code",
   "execution_count": 4,
   "metadata": {
    "collapsed": true
   },
   "outputs": [],
   "source": [
    "md = XMLRecord(md_fname)"
   ]
  },
  {
   "cell_type": "code",
   "execution_count": 5,
   "metadata": {},
   "outputs": [
    {
     "data": {
      "text/plain": [
       "'Habitat Data for Arizona Grasshopper Sparrow Territories, Nest Plots, and Random Transects, 2009 to 2013'"
      ]
     },
     "execution_count": 5,
     "metadata": {},
     "output_type": "execute_result"
    }
   ],
   "source": [
    "title = md.metadata.idinfo.citation.citeinfo.title.text\n",
    "title"
   ]
  },
  {
   "cell_type": "code",
   "execution_count": 6,
   "metadata": {},
   "outputs": [
    {
     "data": {
      "text/plain": [
       "'These data provide information about vegetation structure and composition associated with Arizona Grasshopper Sparrow territories, nest plots, and random transects on two study sites - Audubon Appleton-Whittell Research Ranch and BLM Las Cienegas National Conservation Area (NCA) - Davis Pasture - in southeastern Arizona.  Data were collected from 2009 through 2013.  These are data associated with Ruth and Skagen (2017) cited above.'"
      ]
     },
     "execution_count": 6,
     "metadata": {},
     "output_type": "execute_result"
    }
   ],
   "source": [
    "abstract = md.metadata.idinfo.descript.abstract.text\n",
    "abstract"
   ]
  },
  {
   "cell_type": "code",
   "execution_count": 7,
   "metadata": {},
   "outputs": [
    {
     "data": {
      "text/plain": [
       "('201707', '2017')"
      ]
     },
     "execution_count": 7,
     "metadata": {},
     "output_type": "execute_result"
    }
   ],
   "source": [
    "pubdate = md.metadata.idinfo.citation.citeinfo.pubdate.text\n",
    "pubyear = pubdate[:4]\n",
    "pubdate, pubyear"
   ]
  },
  {
   "cell_type": "markdown",
   "metadata": {},
   "source": [
    "### Pull the authors and ORCID's from IPDS"
   ]
  },
  {
   "cell_type": "code",
   "execution_count": 8,
   "metadata": {
    "collapsed": true
   },
   "outputs": [],
   "source": [
    "ipds_session = requests.Session()\n",
    "#you will need to change this to your AD username. When prompted enter AD password\n",
    "ipds_session.auth = HttpNtlmAuth('GS\\\\{}'.format(username.split('@')[0]), password, ipds_session)"
   ]
  },
  {
   "cell_type": "code",
   "execution_count": 9,
   "metadata": {},
   "outputs": [
    {
     "data": {
      "text/plain": [
       "[{'ORCID': '0000-0003-1576-5957', 'author_name': 'Ruth, Janet M.'}]"
      ]
     },
     "execution_count": 9,
     "metadata": {},
     "output_type": "execute_result"
    }
   ],
   "source": [
    "authors_url = \"https://ipds.usgs.gov/_vti_bin/listdata.svc/IPDSAuthors()?$filter=IPNumber%20eq%20%27{}%27\".format(ipds_number)\n",
    "\n",
    "content = ipds_session.get(authors_url)\n",
    "soup = BeautifulSoup(content.text, \"lxml-xml\")\n",
    "author_list = []\n",
    "for entry in soup.find_all('entry'):\n",
    "    record = {}\n",
    "    record['author_name'] = entry.find('AuthorNameText').string\n",
    "    record['ORCID'] = str(entry.find('ORCID').string)\n",
    "    author_list.append(record)\n",
    "    \n",
    "author_list"
   ]
  },
  {
   "cell_type": "markdown",
   "metadata": {},
   "source": [
    "### Make the SB item from our metadata and upload our data to it"
   ]
  },
  {
   "cell_type": "code",
   "execution_count": 11,
   "metadata": {},
   "outputs": [
    {
     "data": {
      "text/plain": [
       "<pysb.SbSession.SbSession at 0x77485c0>"
      ]
     },
     "execution_count": 11,
     "metadata": {},
     "output_type": "execute_result"
    }
   ],
   "source": [
    "sb = pysb.SbSession()\n",
    "sb.login(username, password)"
   ]
  },
  {
   "cell_type": "code",
   "execution_count": 12,
   "metadata": {
    "collapsed": true
   },
   "outputs": [],
   "source": [
    "root_release_id = '552d79bee4b0b22a157f59a3'\n",
    "# root_release_id = '4ff5c8f9e4b03b1a74b5782d' #testing\n",
    "item_json = sb.upload_file_and_create_item(root_release_id, md_fname)"
   ]
  },
  {
   "cell_type": "code",
   "execution_count": 13,
   "metadata": {},
   "outputs": [
    {
     "data": {
      "text/plain": [
       "'59b196a4e4b020cdf7d957e6'"
      ]
     },
     "execution_count": 13,
     "metadata": {},
     "output_type": "execute_result"
    }
   ],
   "source": [
    "item_id = item_json['id']\n",
    "item_id"
   ]
  },
  {
   "cell_type": "markdown",
   "metadata": {},
   "source": [
    "### Create the DOI"
   ]
  },
  {
   "cell_type": "code",
   "execution_count": 18,
   "metadata": {},
   "outputs": [
    {
     "name": "stderr",
     "output_type": "stream",
     "text": [
      "C:\\Anaconda3\\envs\\Python35_64\\lib\\site-packages\\urllib3\\connectionpool.py:852: InsecureRequestWarning: Unverified HTTPS request is being made. Adding certificate verification is strongly advised. See: https://urllib3.readthedocs.io/en/latest/advanced-usage.html#ssl-warnings\n",
      "  InsecureRequestWarning)\n",
      "C:\\Anaconda3\\envs\\Python35_64\\lib\\site-packages\\urllib3\\connectionpool.py:852: InsecureRequestWarning: Unverified HTTPS request is being made. Adding certificate verification is strongly advised. See: https://urllib3.readthedocs.io/en/latest/advanced-usage.html#ssl-warnings\n",
      "  InsecureRequestWarning)\n",
      "C:\\Anaconda3\\envs\\Python35_64\\lib\\site-packages\\urllib3\\connectionpool.py:852: InsecureRequestWarning: Unverified HTTPS request is being made. Adding certificate verification is strongly advised. See: https://urllib3.readthedocs.io/en/latest/advanced-usage.html#ssl-warnings\n",
      "  InsecureRequestWarning)\n",
      "C:\\Anaconda3\\envs\\Python35_64\\lib\\site-packages\\urllib3\\connectionpool.py:852: InsecureRequestWarning: Unverified HTTPS request is being made. Adding certificate verification is strongly advised. See: https://urllib3.readthedocs.io/en/latest/advanced-usage.html#ssl-warnings\n",
      "  InsecureRequestWarning)\n"
     ]
    },
    {
     "data": {
      "text/plain": [
       "<Response [200]>"
      ]
     },
     "execution_count": 18,
     "metadata": {},
     "output_type": "execute_result"
    }
   ],
   "source": [
    "rsc_url = 'https://www.sciencebase.gov/catalog/item/' + item_id\n",
    "\n",
    "r = requests.Session()\n",
    "\n",
    "doi_tool_url = 'https://www1.usgs.gov/csas/doi/' # production\n",
    "# doi_tool_url = 'https://www1-staging.snafu.cr.usgs.gov/csas/doi/' #testing\n",
    "\n",
    "req = r.get(doi_tool_url, verify=False) #\n",
    "form_csrf  = req.content.decode('utf-8').split('name=\"_csrf\" value=\"')[1].split('\" />\\n')[0]\n",
    "cred = {'j_username': username, 'j_password': password, '_csrf': form_csrf}\n",
    "response = r.post(doi_tool_url + 'j_spring_security_check', cookies=req.cookies, data=cred, verify=False)\n",
    "\n",
    "\n",
    "key_username = 'sciencebase@ornl.gov'\n",
    "key5 = 'usersAndTypes[' + key_username + ']'\n",
    "value5 = 'PRIMARY'\n",
    "# specific user credentials, will dup if above already\n",
    "key6 = 'usersAndTypes[talbertc@usgs.gov]'\n",
    "value6 = 'PRIMARY'\n",
    "key7 = 'usersAndTypes[afreeman@usgs.gov]'\n",
    "value7 = 'PRIMARY'\n",
    "\n",
    "\n",
    "d = {'identifier':'',\n",
    "    'title':title,\n",
    "    'resourceURL': rsc_url,\n",
    "    key5: value5, key6: value6, key7: value7,\n",
    "    'addNewCreatorAuthor': '', \n",
    "    'addNewCreatorAuthorOrcid': '',\n",
    "    'authorValidity':'valid',\n",
    "    'abstract_type_description' : abstract,\n",
    "    'datasource_id': 17368,  #This number is for the Fort Collins Science Center\n",
    "    'subject' : '',\n",
    "    'project_year' : '',\n",
    "    'project_date' : '',\n",
    "    'project_start_year' : '',\n",
    "    'project_end_year' : '',\n",
    "    'project_start_date' : '',\n",
    "    'project_end_date' : '',\n",
    "    'date_type' : '',\n",
    "    'date' : '',\n",
    "    'pubYear':str(pubyear), #\n",
    "    'resourceType': 'Dataset',\n",
    "    'publisher': 'U.S. Geological Survey',\n",
    "    'status': 'reserved',\n",
    "    '_csrf': form_csrf,\n",
    "    'save': 'Submit'}\n",
    "\n",
    "for i, author in enumerate(author_list):\n",
    "    d['authors[{}].authorName'.format(i)] = author['author_name']\n",
    "    d['authors[{}].orcId'.format(i)] = author['ORCID']\n",
    "    d['authors[{}].position'.format(i)] = i\n",
    "    \n",
    "create_new_doi = r.post(doi_tool_url + 'result.htm', cookies = req.cookies, data = d, verify = False)\n",
    "create_new_doi"
   ]
  },
  {
   "cell_type": "code",
   "execution_count": 19,
   "metadata": {},
   "outputs": [
    {
     "data": {
      "text/plain": [
       "'doi:10.5072/FK22B92D90'"
      ]
     },
     "execution_count": 19,
     "metadata": {},
     "output_type": "execute_result"
    }
   ],
   "source": [
    "new_doi = create_new_doi.content.decode('utf-8').split('Your DOI has been saved: ')[1].split('</div>')[0].replace(\" \",\"\").strip()\n",
    "new_doi"
   ]
  },
  {
   "cell_type": "markdown",
   "metadata": {},
   "source": [
    "### Update our SB item to include the IPDS link and DOI "
   ]
  },
  {
   "cell_type": "code",
   "execution_count": 15,
   "metadata": {
    "collapsed": true
   },
   "outputs": [],
   "source": [
    "ipds_format = {'type':\"IPDS\", \"scheme\":\"https://www.sciencebase.gov/vocab/category/item/identifier\", 'key':ipds_number}\n",
    "doi_format = {'type':\"DOI\", \"scheme\":\"https://www.sciencebase.gov/vocab/category/item/identifier\", 'key':new_doi}\n",
    "item_json = sb.updateSbItem({'id':item_id, 'identifiers':[ipds_format, doi_format]})"
   ]
  },
  {
   "cell_type": "markdown",
   "metadata": {},
   "source": [
    "### update the SB citation with our DOI"
   ]
  },
  {
   "cell_type": "code",
   "execution_count": 16,
   "metadata": {},
   "outputs": [
    {
     "data": {
      "text/plain": [
       "'Janet M Ruth, 2017, Life history attributes data for Arizona Grasshopper Sparrow (Ammodramus savannarum ammolegus) in Arizona 2013: .'"
      ]
     },
     "execution_count": 16,
     "metadata": {},
     "output_type": "execute_result"
    }
   ],
   "source": [
    "item_json['citation']"
   ]
  },
  {
   "cell_type": "code",
   "execution_count": 17,
   "metadata": {},
   "outputs": [
    {
     "data": {
      "text/plain": [
       "'Janet M Ruth, 2017, Life history attributes data for Arizona Grasshopper Sparrow (Ammodramus savannarum ammolegus) in Arizona 2013: .'"
      ]
     },
     "execution_count": 17,
     "metadata": {},
     "output_type": "execute_result"
    }
   ],
   "source": [
    "item_json = sb.get_item(item_id)\n",
    "citation = item_json['citation']\n",
    "citation"
   ]
  },
  {
   "cell_type": "code",
   "execution_count": 18,
   "metadata": {},
   "outputs": [
    {
     "data": {
      "text/plain": [
       "'Janet M Ruth, 2017, Life history attributes data for Arizona Grasshopper Sparrow (Ammodramus savannarum ammolegus) in Arizona 2013: U.S. Geological Survey data release, https://doi.org/10.5066/F7C53JCF.'"
      ]
     },
     "execution_count": 18,
     "metadata": {},
     "output_type": "execute_result"
    }
   ],
   "source": [
    "new_citation = \"\".join(citation.split(':')[:-1]) + \": U.S. Geological Survey data release, https://doi.org/{}.\".format(new_doi[4:])\n",
    "item_json['citation'] = new_citation\n",
    "new_citation"
   ]
  },
  {
   "cell_type": "code",
   "execution_count": 20,
   "metadata": {
    "collapsed": true
   },
   "outputs": [],
   "source": [
    "# item_json['tags'].append({'name': 'Data Release - In Progress', 'scheme': 'Common geographic areas', 'type': 'Browse Categories'})\n",
    "item_json['browseCategories'] = ['Data Release - In Progress']"
   ]
  },
  {
   "cell_type": "code",
   "execution_count": 21,
   "metadata": {
    "collapsed": true
   },
   "outputs": [],
   "source": [
    "item_json['webLinks'] = []"
   ]
  },
  {
   "cell_type": "code",
   "execution_count": 22,
   "metadata": {
    "collapsed": true
   },
   "outputs": [],
   "source": [
    "item_json = sb.update_item(item_json)"
   ]
  },
  {
   "cell_type": "markdown",
   "metadata": {},
   "source": [
    "### Replace the onlink in our MD with the DOI, both on the local copy and the SB copy"
   ]
  },
  {
   "cell_type": "code",
   "execution_count": 28,
   "metadata": {
    "collapsed": true
   },
   "outputs": [],
   "source": [
    "doi_url = \"https://doi.org/{}\".format(new_doi[4:])\n",
    "md.metadata.idinfo.citation.citeinfo.onlink.text = doi_url\n",
    "md.metadata.distinfo.stdorder.digform.digtopt.onlinopt.computer.networka.networkr.text = doi.url"
   ]
  },
  {
   "cell_type": "code",
   "execution_count": 29,
   "metadata": {
    "collapsed": true
   },
   "outputs": [],
   "source": [
    "md.save()"
   ]
  },
  {
   "cell_type": "code",
   "execution_count": 32,
   "metadata": {},
   "outputs": [
    {
     "data": {
      "text/plain": [
       "'C:\\\\Users\\\\talbertc\\\\Downloads\\\\Arizona_GRSP_lifehistory_data.xml'"
      ]
     },
     "execution_count": 32,
     "metadata": {},
     "output_type": "execute_result"
    }
   ],
   "source": [
    "md_fname"
   ]
  },
  {
   "cell_type": "code",
   "execution_count": 34,
   "metadata": {
    "collapsed": true
   },
   "outputs": [],
   "source": [
    "sb.replace_file(md_fname, item_json)"
   ]
  },
  {
   "cell_type": "code",
   "execution_count": 35,
   "metadata": {},
   "outputs": [
    {
     "data": {
      "text/plain": [
       "'C:\\\\Users\\\\talbertc\\\\Downloads\\\\Arizona_GRSP_lifehistory_data.xml'"
      ]
     },
     "execution_count": 35,
     "metadata": {},
     "output_type": "execute_result"
    }
   ],
   "source": [
    "md_fname"
   ]
  },
  {
   "cell_type": "markdown",
   "metadata": {
    "collapsed": true
   },
   "source": [
    "## Remove items, replace online and networkr with doi, and upload matched csv/xml as child items"
   ]
  },
  {
   "cell_type": "code",
   "execution_count": 22,
   "metadata": {},
   "outputs": [
    {
     "data": {
      "text/plain": [
       "[{'name': 'Arizona_GRSP_lifehistory_data.xml',\n",
       "  'size': 12331,\n",
       "  'url': 'https://www.sciencebase.gov/catalog/file/get/592727dfe4b0b7ff9fb5dca1?f=__disk__6d%2F29%2F3b%2F6d293b570148818f447a232bf39bd21788c7dae0'},\n",
       " {'name': 'ARCHIVE 2013 AZ GRSP Egg Measurements.csv',\n",
       "  'size': 2242,\n",
       "  'url': 'https://www.sciencebase.gov/catalog/file/get/592727dfe4b0b7ff9fb5dca1?f=__disk__dd%2Fda%2F89%2Fddda89c28d79aa70a1fb2e390d0a8e7842123087'},\n",
       " {'name': 'ARCHIVE 2013 AZ GRSP Egg Measurements.csv.xml',\n",
       "  'size': 15185,\n",
       "  'url': 'https://www.sciencebase.gov/catalog/file/get/592727dfe4b0b7ff9fb5dca1?f=__disk__65%2Fb0%2Ff5%2F65b0f50d0295bcbc0e06aa78f87c76edcb6c5da9'},\n",
       " {'name': 'ARCHIVE AZ GRSP adult male return rates.csv',\n",
       "  'size': 10226,\n",
       "  'url': 'https://www.sciencebase.gov/catalog/file/get/592727dfe4b0b7ff9fb5dca1?f=__disk__18%2Fdb%2F42%2F18db42d42324ddba5eb88cd87c9cf6af4590be04'},\n",
       " {'name': 'ARCHIVE AZ GRSP adult male return rates.csv.xml',\n",
       "  'size': 22165,\n",
       "  'url': 'https://www.sciencebase.gov/catalog/file/get/592727dfe4b0b7ff9fb5dca1?f=__disk__57%2F49%2Fd6%2F5749d6703ba054359aa0c1a3cd4b7ec46378d4b9'},\n",
       " {'name': 'ARCHIVE AZ GRSP bird measurements.csv',\n",
       "  'size': 5677,\n",
       "  'url': 'https://www.sciencebase.gov/catalog/file/get/592727dfe4b0b7ff9fb5dca1?f=__disk__1b%2F11%2F4b%2F1b114b3d9350b7f41b13fbad1452816f493abe7a'},\n",
       " {'name': 'ARCHIVE AZ GRSP bird measurements.csv.xml',\n",
       "  'size': 21040,\n",
       "  'url': 'https://www.sciencebase.gov/catalog/file/get/592727dfe4b0b7ff9fb5dca1?f=__disk__f1%2F8a%2F38%2Ff18a38c4fa207c27ab90f01cb5713bf21bdae1c6'},\n",
       " {'name': 'ARCHIVE AZ GRSP Clutch Size.csv',\n",
       "  'size': 2265,\n",
       "  'url': 'https://www.sciencebase.gov/catalog/file/get/592727dfe4b0b7ff9fb5dca1?f=__disk__f3%2F7d%2F98%2Ff37d98d730cf24de2e23dc9ffb2ce4f267f267b1'},\n",
       " {'name': 'ARCHIVE AZ GRSP Clutch Size.csv.xml',\n",
       "  'size': 14831,\n",
       "  'url': 'https://www.sciencebase.gov/catalog/file/get/592727dfe4b0b7ff9fb5dca1?f=__disk__c0%2F8a%2F5f%2Fc08a5f93a7224202e5a2be535768414cf105e54b'},\n",
       " {'name': 'ARCHIVE AZ GRSP Nest Dimensions.csv',\n",
       "  'size': 6446,\n",
       "  'url': 'https://www.sciencebase.gov/catalog/file/get/592727dfe4b0b7ff9fb5dca1?f=__disk__c4%2F15%2F37%2Fc415372e00ab3655d90c75107c5c2b9e7847066e'},\n",
       " {'name': 'ARCHIVE AZ GRSP Nest Dimensions.csv.xml',\n",
       "  'size': 19990,\n",
       "  'url': 'https://www.sciencebase.gov/catalog/file/get/592727dfe4b0b7ff9fb5dca1?f=__disk__88%2F78%2F91%2F8878911ae2501c9911dd37406eda166e5c4934f7'},\n",
       " {'name': 'ARCHIVE AZ GRSP Nest Plant.csv',\n",
       "  'size': 4694,\n",
       "  'url': 'https://www.sciencebase.gov/catalog/file/get/592727dfe4b0b7ff9fb5dca1?f=__disk__e0%2F17%2F10%2Fe01710b3dac8962e6052cba65ba0ca74a9f7a1a6'},\n",
       " {'name': 'ARCHIVE AZ GRSP Nest Plant.csv.xml',\n",
       "  'size': 35602,\n",
       "  'url': 'https://www.sciencebase.gov/catalog/file/get/592727dfe4b0b7ff9fb5dca1?f=__disk__b3%2Fa8%2F48%2Fb3a848dba7555492ae521057072afefba0363256'},\n",
       " {'name': 'ARCHIVE AZ GRSP Territory Size KDE.csv',\n",
       "  'size': 8503,\n",
       "  'url': 'https://www.sciencebase.gov/catalog/file/get/592727dfe4b0b7ff9fb5dca1?f=__disk__37%2F01%2Fc1%2F3701c13f69d4d6ae5a3aba37f29061e2d4ed374f'},\n",
       " {'name': 'ARCHIVE AZ GRSP Territory Size KDE.csv.xml',\n",
       "  'size': 16384,\n",
       "  'url': 'https://www.sciencebase.gov/catalog/file/get/592727dfe4b0b7ff9fb5dca1?f=__disk__ee%2F25%2F23%2Fee25232cd6e0c8e45043d747dbc81b2518692c17'},\n",
       " {'name': 'ARCHIVE How AZ GRSP Nest Found.csv',\n",
       "  'size': 5505,\n",
       "  'url': 'https://www.sciencebase.gov/catalog/file/get/592727dfe4b0b7ff9fb5dca1?f=__disk__13%2F5e%2Fb2%2F135eb2feaf6d60037ff3034b8da06112f7573180'},\n",
       " {'name': 'ARCHIVE How AZ GRSP Nest Found.csv.xml',\n",
       "  'size': 18949,\n",
       "  'url': 'https://www.sciencebase.gov/catalog/file/get/592727dfe4b0b7ff9fb5dca1?f=__disk__17%2Fc2%2F09%2F17c209678773ed2b68310c6b2c9221fd18c20755'}]"
      ]
     },
     "execution_count": 22,
     "metadata": {},
     "output_type": "execute_result"
    }
   ],
   "source": [
    "sb.get_item_file_info(item_json)"
   ]
  },
  {
   "cell_type": "code",
   "execution_count": 24,
   "metadata": {},
   "outputs": [
    {
     "data": {
      "text/plain": [
       "'https://doi.org/10.5066/F7C53JCF'"
      ]
     },
     "execution_count": 24,
     "metadata": {},
     "output_type": "execute_result"
    }
   ],
   "source": [
    "doi = md.metadata.idinfo.citation.citeinfo.onlink.text\n",
    "doi"
   ]
  },
  {
   "cell_type": "code",
   "execution_count": 33,
   "metadata": {
    "collapsed": true
   },
   "outputs": [],
   "source": [
    "import os\n",
    "dname = r'C:\\Users\\talbertc\\Downloads\\Lifehistoryattr (1)'\n",
    "files = os.listdir(dname)"
   ]
  },
  {
   "cell_type": "code",
   "execution_count": 30,
   "metadata": {},
   "outputs": [
    {
     "data": {
      "text/plain": [
       "['ARCHIVE 2013 AZ GRSP Egg Measurements.csv',\n",
       " 'ARCHIVE AZ GRSP adult male return rates.csv',\n",
       " 'ARCHIVE AZ GRSP bird measurements.csv',\n",
       " 'ARCHIVE AZ GRSP Clutch Size.csv',\n",
       " 'ARCHIVE AZ GRSP Nest Dimensions.csv',\n",
       " 'ARCHIVE AZ GRSP Nest Plant.csv',\n",
       " 'ARCHIVE AZ GRSP Territory Size KDE.csv',\n",
       " 'ARCHIVE How AZ GRSP Nest Found.csv']"
      ]
     },
     "execution_count": 30,
     "metadata": {},
     "output_type": "execute_result"
    }
   ],
   "source": [
    "csvs = [f for f in files if f.endswith('.csv')]\n",
    "csvs"
   ]
  },
  {
   "cell_type": "markdown",
   "metadata": {},
   "source": [
    "#### This is where I added ...."
   ]
  },
  {
   "cell_type": "code",
   "execution_count": 56,
   "metadata": {},
   "outputs": [
    {
     "name": "stdout",
     "output_type": "stream",
     "text": [
      "ARCHIVE 2013 AZ GRSP Egg Measurements.csv\n",
      "ARCHIVE AZ GRSP adult male return rates.csv\n",
      "ARCHIVE AZ GRSP bird measurements.csv\n",
      "ARCHIVE AZ GRSP Clutch Size.csv\n",
      "ARCHIVE AZ GRSP Nest Dimensions.csv\n",
      "ARCHIVE AZ GRSP Nest Plant.csv\n",
      "ARCHIVE AZ GRSP Territory Size KDE.csv\n",
      "ARCHIVE How AZ GRSP Nest Found.csv\n"
     ]
    }
   ],
   "source": [
    "# ddkkdkd\n",
    "for csv in csvs:\n",
    "    print(csv)\n",
    "    csv_fname = os.path.join(dname, csv)\n",
    "    xml_fname = csv_fname + '.xml'\n",
    "    this_md = XMLRecord(xml_fname)\n",
    "    this_md.metadata.idinfo.citation.citeinfo.onlink.text = doi\n",
    "    this_md.metadata.distinfo.stdorder.digform.digtopt.onlinopt.computer.networka.networkr.text = doi\n",
    "    this_md.save()\n",
    "    \n",
    "    child_item = sb.upload_file_and_create_item(item_id, xml_fname)\n",
    "    child_id = child_item['id']\n",
    "    sb.upload_file_to_item(child_item, csv_fname)\n",
    "    \n",
    "    citation = child_item['citation']\n",
    "    child_item['citation'] = citation.replace(': , https://doi.org', ': U.S. Geological Survey data release, https://doi.org')\n",
    "    \n",
    "    child_item['title'] = child_item['title'].replace('Grasshopper Sparrow (Ammodramus savannarum ammolegus) ', '').capitalize()\n",
    "    sb.update_item(child_item)"
   ]
  },
  {
   "cell_type": "code",
   "execution_count": 40,
   "metadata": {},
   "outputs": [
    {
     "data": {
      "text/plain": [
       "'59446576e4b062508e323325'"
      ]
     },
     "execution_count": 40,
     "metadata": {},
     "output_type": "execute_result"
    }
   ],
   "source": [
    "child_id"
   ]
  },
  {
   "cell_type": "code",
   "execution_count": 47,
   "metadata": {},
   "outputs": [
    {
     "data": {
      "text/plain": [
       "'Janet M Ruth, 2017, Grasshopper Sparrow (Ammodramus savannarum ammolegus) how nests found Arizona 2011-2013: U.S. Geological Survey data release, https://doi.org/10.5066/F7C53JCF.'"
      ]
     },
     "execution_count": 47,
     "metadata": {},
     "output_type": "execute_result"
    }
   ],
   "source": [
    "citation = child_item['citation']\n",
    "citation = citation.replace(': , https://doi.org', ': U.S. Geological Survey data release, https://doi.org')"
   ]
  },
  {
   "cell_type": "code",
   "execution_count": 53,
   "metadata": {},
   "outputs": [
    {
     "data": {
      "text/plain": [
       "'How nests found arizona 2011-2013'"
      ]
     },
     "execution_count": 53,
     "metadata": {},
     "output_type": "execute_result"
    }
   ],
   "source": [
    "\n",
    "new_title.capitalize()"
   ]
  },
  {
   "cell_type": "code",
   "execution_count": 55,
   "metadata": {
    "collapsed": true
   },
   "outputs": [],
   "source": [
    "for child_id in sb.get_child_ids(item_id):\n",
    "    child_item = sb.get_item(child_id)\n",
    "    sb.delete_item(child_item)"
   ]
  },
  {
   "cell_type": "markdown",
   "metadata": {
    "collapsed": true
   },
   "source": [
    "# Final update of of publication DOI and Citation in MD and SB item (optional)"
   ]
  },
  {
   "cell_type": "markdown",
   "metadata": {},
   "source": [
    "#### The Author provides a DOI of the publication associated with this data release"
   ]
  },
  {
   "cell_type": "code",
   "execution_count": 1,
   "metadata": {
    "collapsed": true
   },
   "outputs": [],
   "source": [
    "pub_doi = '10.1642/AUK-16-195.1'  #insert DOI here!"
   ]
  },
  {
   "cell_type": "code",
   "execution_count": 2,
   "metadata": {
    "collapsed": true
   },
   "outputs": [],
   "source": [
    "from habanero import cn"
   ]
  },
  {
   "cell_type": "code",
   "execution_count": 9,
   "metadata": {},
   "outputs": [
    {
     "name": "stderr",
     "output_type": "stream",
     "text": [
      "C:\\Anaconda3\\envs\\Python35_64\\lib\\site-packages\\urllib3\\connectionpool.py:852: InsecureRequestWarning: Unverified HTTPS request is being made. Adding certificate verification is strongly advised. See: https://urllib3.readthedocs.io/en/latest/advanced-usage.html#ssl-warnings\n",
      "  InsecureRequestWarning)\n"
     ]
    },
    {
     "name": "stdout",
     "output_type": "stream",
     "text": [
      "Frank, H. S. (1970). The Structure of Ordinary Water: New data and interpretations are yielding new insights into this fascinating substance. Science, 169(3946), 635–641. doi:10.1126/science.169.3946.635\n",
      "\n"
     ]
    },
    {
     "name": "stderr",
     "output_type": "stream",
     "text": [
      "C:\\Anaconda3\\envs\\Python35_64\\lib\\site-packages\\urllib3\\connectionpool.py:852: InsecureRequestWarning: Unverified HTTPS request is being made. Adding certificate verification is strongly advised. See: https://urllib3.readthedocs.io/en/latest/advanced-usage.html#ssl-warnings\n",
      "  InsecureRequestWarning)\n"
     ]
    }
   ],
   "source": [
    "pub_doi = u'10.1126/science.169.3946.635'\n",
    "citation = cn.content_negotiation(ids = pub_doi, format = \"text\", style=\"apa\", verify=False)\n",
    "print(bytearray(citation, 'Latin-1').decode())"
   ]
  },
  {
   "cell_type": "code",
   "execution_count": 10,
   "metadata": {},
   "outputs": [
    {
     "name": "stderr",
     "output_type": "stream",
     "text": [
      "C:\\Anaconda3\\envs\\Python35_64\\lib\\site-packages\\urllib3\\connectionpool.py:852: InsecureRequestWarning: Unverified HTTPS request is being made. Adding certificate verification is strongly advised. See: https://urllib3.readthedocs.io/en/latest/advanced-usage.html#ssl-warnings\n",
      "  InsecureRequestWarning)\n"
     ]
    },
    {
     "name": "stdout",
     "output_type": "stream",
     "text": [
      "[1]H. S. Frank, “The Structure of Ordinary Water: New data and interpretations are yielding new insights into this fascinating substance,” Science, vol. 169, no. 3946, pp. 635–641, Aug. 1970.\n",
      "\n"
     ]
    },
    {
     "name": "stderr",
     "output_type": "stream",
     "text": [
      "C:\\Anaconda3\\envs\\Python35_64\\lib\\site-packages\\urllib3\\connectionpool.py:852: InsecureRequestWarning: Unverified HTTPS request is being made. Adding certificate verification is strongly advised. See: https://urllib3.readthedocs.io/en/latest/advanced-usage.html#ssl-warnings\n",
      "  InsecureRequestWarning)\n"
     ]
    }
   ],
   "source": [
    "citation2 = cn.content_negotiation(ids = pub_doi, format = \"text\", style=\"ieee\", verify=False)\n",
    "print(bytearray(citation2, 'Latin-1').decode())"
   ]
  },
  {
   "cell_type": "code",
   "execution_count": 11,
   "metadata": {},
   "outputs": [
    {
     "data": {
      "text/plain": [
       "True"
      ]
     },
     "execution_count": 11,
     "metadata": {},
     "output_type": "execute_result"
    }
   ],
   "source": [
    "citation != citation2"
   ]
  },
  {
   "cell_type": "code",
   "execution_count": 107,
   "metadata": {},
   "outputs": [
    {
     "name": "stdout",
     "output_type": "stream",
     "text": [
      "@article{Cade_2017,\n",
      "\tdoi = {10.1642/auk-16-195.1},\n",
      "\turl = {https://doi.org/10.1642%2Fauk-16-195.1},\n",
      "\tyear = 2017,\n",
      "\tmonth = {jul},\n",
      "\tpublisher = {American Ornithologists{\\textquotesingle} Union},\n",
      "\tvolume = {134},\n",
      "\tnumber = {4},\n",
      "\tpages = {783--801},\n",
      "\tauthor = {Brian S. Cade and Barry R. Noon and Rick D. Scherer and John J. Keane},\n",
      "\ttitle = {Logistic quantile regression provides improved estimates for bounded avian counts: A case study of California Spotted Owl fledgling production},\n",
      "\tjournal = {The Auk}\n",
      "}\n"
     ]
    },
    {
     "name": "stderr",
     "output_type": "stream",
     "text": [
      "C:\\Anaconda3\\envs\\Python35_64\\lib\\site-packages\\urllib3\\connectionpool.py:852: InsecureRequestWarning: Unverified HTTPS request is being made. Adding certificate verification is strongly advised. See: https://urllib3.readthedocs.io/en/latest/advanced-usage.html#ssl-warnings\n",
      "  InsecureRequestWarning)\n"
     ]
    }
   ],
   "source": [
    "print(cn.content_negotiation(ids = pub_doi, format = \"bibtex\", style=\"ieee\", verify=False))"
   ]
  },
  {
   "cell_type": "code",
   "execution_count": 12,
   "metadata": {
    "collapsed": true
   },
   "outputs": [],
   "source": [
    "cn.content_negotiation?"
   ]
  },
  {
   "cell_type": "code",
   "execution_count": 7,
   "metadata": {
    "collapsed": true
   },
   "outputs": [],
   "source": [
    "c = cn.content_negotiation?"
   ]
  },
  {
   "cell_type": "code",
   "execution_count": null,
   "metadata": {
    "collapsed": true
   },
   "outputs": [],
   "source": [
    "c = cn.content_negotiation"
   ]
  },
  {
   "cell_type": "code",
   "execution_count": null,
   "metadata": {
    "collapsed": true
   },
   "outputs": [],
   "source": [
    "c = cn.content_negotiation"
   ]
  },
  {
   "cell_type": "code",
   "execution_count": 5,
   "metadata": {},
   "outputs": [
    {
     "name": "stdout",
     "output_type": "stream",
     "text": [
      "Object `c` not found.\n"
     ]
    }
   ],
   "source": [
    "c?"
   ]
  },
  {
   "cell_type": "code",
   "execution_count": null,
   "metadata": {
    "collapsed": true
   },
   "outputs": [],
   "source": [
    "c = content_negotiation"
   ]
  },
  {
   "cell_type": "code",
   "execution_count": 90,
   "metadata": {
    "collapsed": true
   },
   "outputs": [],
   "source": [
    "import json\n",
    "cite_data = json.loads(cn.content_negotiation(ids = pub_doi, format = \"citeproc-json\"))"
   ]
  },
  {
   "cell_type": "code",
   "execution_count": 91,
   "metadata": {},
   "outputs": [
    {
     "data": {
      "text/plain": [
       "dict_keys(['relation', 'container-title', 'member', 'issued', 'subtitle', 'publisher', 'reference-count', 'issn-type', 'link', 'source', 'volume', 'original-title', 'author', 'published-online', 'type', 'prefix', 'short-title', 'title', 'score', 'issue', 'subject', 'license', 'short-container-title', 'alternative-id', 'indexed', 'published-print', 'DOI', 'deposited', 'created', 'URL', 'is-referenced-by-count', 'content-domain', 'page', 'ISSN', 'references-count'])"
      ]
     },
     "execution_count": 91,
     "metadata": {},
     "output_type": "execute_result"
    }
   ],
   "source": [
    "cite_data.keys()"
   ]
  },
  {
   "cell_type": "code",
   "execution_count": 98,
   "metadata": {
    "collapsed": true
   },
   "outputs": [],
   "source": [
    "from pymdwizard.core.xml_utils import XMLRecord, XMLNode\n",
    "\n",
    "def get_doi_citation(doi):\n",
    "    cite_data = json.loads(cn.content_negotiation(ids=doi, format = \"citeproc-json\"))\n",
    "    \n",
    "    \n",
    "    root_node = XMLNode(tag='citation')\n",
    "    citeinfo = XMLNode(tag='citeinfo', parent_node=root_node)\n",
    "    title = XMLNode(tag='title', parent_node=citeinfo, text=cite_data['title'])\n",
    "    \n",
    "    return root_node\n",
    "    \n",
    "    "
   ]
  },
  {
   "cell_type": "code",
   "execution_count": 99,
   "metadata": {},
   "outputs": [
    {
     "data": {
      "text/plain": [
       "<citation>\n",
       "  <citeinfo>\n",
       "\n",
       "  </citeinfo>\n",
       "</citation>"
      ]
     },
     "execution_count": 99,
     "metadata": {},
     "output_type": "execute_result"
    }
   ],
   "source": [
    " get_doi_citation(pub_doi)"
   ]
  },
  {
   "cell_type": "code",
   "execution_count": 76,
   "metadata": {
    "collapsed": true
   },
   "outputs": [],
   "source": [
    "cn.content_negotiation?"
   ]
  },
  {
   "cell_type": "code",
   "execution_count": 5,
   "metadata": {
    "collapsed": true
   },
   "outputs": [],
   "source": [
    "sb_item = sb.get_item('5910958ce4b0e541a03a85c1')"
   ]
  },
  {
   "cell_type": "code",
   "execution_count": 6,
   "metadata": {},
   "outputs": [
    {
     "name": "stderr",
     "output_type": "stream",
     "text": [
      "C:\\Anaconda3\\envs\\Python35_64\\lib\\site-packages\\urllib3\\connectionpool.py:852: InsecureRequestWarning: Unverified HTTPS request is being made. Adding certificate verification is strongly advised. See: https://urllib3.readthedocs.io/en/latest/advanced-usage.html#ssl-warnings\n",
      "  InsecureRequestWarning)\n",
      "C:\\Anaconda3\\envs\\Python35_64\\lib\\site-packages\\urllib3\\connectionpool.py:852: InsecureRequestWarning: Unverified HTTPS request is being made. Adding certificate verification is strongly advised. See: https://urllib3.readthedocs.io/en/latest/advanced-usage.html#ssl-warnings\n",
      "  InsecureRequestWarning)\n"
     ]
    },
    {
     "name": "stdout",
     "output_type": "stream",
     "text": [
      "academy-of-management-review\n",
      "accident-analysis-and-prevention\n",
      "acm-sig-proceedings-long-author-list\n",
      "acm-sig-proceedings\n",
      "acm-sigchi-proceedings-extended-abstract-format\n",
      "acm-sigchi-proceedings\n",
      "acm-siggraph\n",
      "acs-nano\n",
      "acta-anaesthesiologica-scandinavica\n",
      "acta-anaesthesiologica-taiwanica\n",
      "acta-chirurgiae-orthopaedicae-et-traumatologiae-cechoslovaca\n",
      "acta-naturae\n",
      "acta-neurochirurgica\n",
      "acta-ophthalmologica\n",
      "acta-orthopaedica-belgica\n",
      "acta-palaeontologica-polonica\n",
      "acta-pharmaceutica-sinica-b\n",
      "acta-pharmaceutica\n",
      "acta-philosophica\n",
      "acta-polytechnica\n",
      "acta-psychiatrica-scandinavica\n",
      "acta-scientiae-veterinariae\n",
      "acta-societatis-botanicorum-poloniae\n",
      "acta-universitatis-agriculturae-et-silviculturae-mendelianae-brunensis\n",
      "acta-universitatis-agriculturae-sueciae\n",
      "addiction-biology\n",
      "administrative-science-quarterly\n",
      "advanced-engineering-materials\n",
      "advanced-functional-materials\n",
      "advanced-materials\n",
      "advanced-optical-materials\n",
      "advances-in-alzheimers-disease\n",
      "advances-in-complex-systems\n",
      "aerosol-science-and-technology\n",
      "african-journal-of-emergency-medicine\n",
      "african-zoology\n",
      "ageing-and-society\n",
      "aging-cell\n",
      "aging\n",
      "aids\n",
      "aix-marseille-universite-departement-d-etudes-asiatiques\n",
      "alcoholism-clinical-and-experimental-research\n",
      "alexandria-journal-of-medicine\n",
      "allergology-international\n",
      "allergy\n",
      "alternatives-to-animal-experimentation\n",
      "ambio\n",
      "ameghiniana\n",
      "american-anthropological-association\n",
      "american-association-for-cancer-research\n",
      "american-association-of-petroleum-geologists\n",
      "american-chemical-society-author-date\n",
      "american-chemical-society-page-first\n",
      "american-chemical-society-with-titles-doi-no-et-al\n",
      "american-chemical-society-with-titles-no-et-al\n",
      "american-chemical-society-with-titles-page-first\n",
      "american-chemical-society-with-titles-sentence-case-doi\n",
      "american-chemical-society-with-titles-sentence-case\n",
      "american-chemical-society-with-titles\n",
      "american-chemical-society\n",
      "american-fisheries-society\n",
      "american-geophysical-union\n",
      "american-heart-association\n",
      "american-institute-of-aeronautics-and-astronautics\n",
      "american-institute-of-physics\n",
      "american-journal-of-agricultural-economics\n",
      "american-journal-of-archaeology\n",
      "american-journal-of-botany\n",
      "american-journal-of-climate-change\n",
      "american-journal-of-clinical-pathology\n",
      "american-journal-of-epidemiology\n",
      "american-journal-of-health-behavior\n",
      "american-journal-of-hypertension\n",
      "american-journal-of-medical-genetics\n",
      "american-journal-of-neuroradiology\n",
      "american-journal-of-orthodontics-and-dentofacial-orthopedics\n",
      "american-journal-of-plant-sciences\n",
      "american-journal-of-political-science\n",
      "american-journal-of-respiratory-and-critical-care-medicine\n",
      "american-journal-of-science\n",
      "american-journal-of-surgical-pathology\n",
      "american-journal-of-translational-research\n",
      "american-marketing-association\n",
      "american-medical-association-alphabetical\n",
      "american-medical-association-no-et-al\n",
      "american-medical-association-no-url\n",
      "american-medical-association\n",
      "american-meteorological-society\n",
      "american-mineralogist\n",
      "american-physics-society\n",
      "american-physiological-society\n",
      "american-phytopathological-society\n",
      "american-political-science-association\n",
      "american-society-for-microbiology\n",
      "american-society-for-pharmacology-and-experimental-therapeutics\n",
      "american-society-of-civil-engineers\n",
      "american-society-of-mechanical-engineers\n",
      "american-sociological-association\n",
      "american-veterinary-medical-association\n",
      "amphibia-reptilia\n",
      "anabases\n",
      "anaesthesia\n",
      "analytical-sciences\n",
      "anesthesia-and-analgesia\n",
      "anesthesiology\n",
      "angewandte-chemie\n",
      "angiologia\n",
      "animal-migration\n",
      "animal-welfare\n",
      "annalen-des-naturhistorischen-museums-in-wien\n",
      "annales\n",
      "annals-of-applied-biology\n",
      "annals-of-behavioral-medicine\n",
      "annals-of-biomedical-engineering\n",
      "annals-of-botany\n",
      "annals-of-neurology\n",
      "annals-of-oncology\n",
      "annals-of-the-association-of-american-geographers\n",
      "annals-of-the-new-york-academy-of-sciences\n",
      "annual-review-of-astronomy-and-astrophysics\n",
      "annual-review-of-medicine\n",
      "annual-review-of-nuclear-and-particle-science\n",
      "annual-reviews-alphabetical\n",
      "annual-reviews-author-date\n",
      "annual-reviews-without-titles\n",
      "annual-reviews\n",
      "antarctic-science\n",
      "anticancer-research\n",
      "antiquity\n",
      "apa-5th-edition\n",
      "apa-annotated-bibliography\n",
      "apa-cv\n",
      "apa-fr-provost\n",
      "apa-no-ampersand\n",
      "apa-no-doi-no-issue\n",
      "apa-old-doi-prefix\n",
      "apa-single-spaced\n",
      "apa-tr\n",
      "apa\n",
      "applied-in-vitro-toxicology\n",
      "applied-spectroscopy-reviews\n",
      "applied-spectroscopy\n",
      "aquatic-conservation\n",
      "aquatic-invasions\n",
      "aquatic-living-resources\n",
      "arachne\n",
      "arachnology\n",
      "archaeometry\n",
      "archeologie-medievale\n",
      "archeologies-et-sciences-de-lantiquite\n",
      "archiv-fur-die-civilistische-praxis\n",
      "archiv-fur-geschichte-der-philosophie\n",
      "archives-of-physical-medicine-and-rehabilitation\n",
      "archivos-de-bronconeumologia\n",
      "archivos-de-la-sociedad-espanola-de-oftalmologia\n",
      "archivum-latinitatis-medii-aevi\n",
      "arctic-antarctic-and-alpine-research\n",
      "art-history\n",
      "artery-research\n",
      "arthritis-and-rheumatism\n",
      "arts-university-bournemouth\n",
      "arzneimitteltherapie\n",
      "asa-cssa-sssa\n",
      "asaio-journal\n",
      "asia-and-the-pacific-policy-studies\n",
      "asian-journal-of-neurosurgery\n",
      "asian-studies-review\n",
      "associacao-brasileira-de-normas-tecnicas-eceme\n",
      "associacao-brasileira-de-normas-tecnicas-instituto-meira-mattos\n",
      "associacao-brasileira-de-normas-tecnicas-ipea\n",
      "associacao-brasileira-de-normas-tecnicas-note\n",
      "associacao-brasileira-de-normas-tecnicas-ufjf\n",
      "associacao-brasileira-de-normas-tecnicas-ufmg-face-full\n",
      "associacao-brasileira-de-normas-tecnicas-ufmg-face-initials\n",
      "associacao-brasileira-de-normas-tecnicas-ufpr\n",
      "associacao-brasileira-de-normas-tecnicas-ufrgs\n",
      "associacao-brasileira-de-normas-tecnicas-ufs\n",
      "associacao-brasileira-de-normas-tecnicas-usp-fmvz\n",
      "associacao-brasileira-de-normas-tecnicas\n",
      "associacao-nacional-de-pesquisa-e-ensino-em-transportes\n",
      "association-de-science-regionale-de-langue-francaise\n",
      "association-for-computational-linguistics\n",
      "association-for-computing-machinery\n",
      "atencion-primaria\n",
      "atlas-of-genetics-and-cytogenetics-in-oncology-and-haematology\n",
      "ausonius-editions\n",
      "austral-ecology\n",
      "australian-critical-care\n",
      "australian-guide-to-legal-citation\n",
      "australian-historical-studies\n",
      "australian-journal-of-earth-sciences\n",
      "australian-journal-of-grape-and-wine-research\n",
      "australian-veterinary-journal\n",
      "austrian-legal\n",
      "avian-conservation-and-ecology\n",
      "avian-diseases\n",
      "avian-pathology\n",
      "aviation-space-and-environmental-medicine\n",
      "babes-bolyai-university-faculty-of-orthodox-theology\n",
      "behaviour\n",
      "beltz-padagogik\n",
      "bibtex\n",
      "bioarchaeology-international\n",
      "bioarchaeology-of-the-near-east\n",
      "biochemical-journal\n",
      "biochemical-society-transactions\n",
      "biochemistry-and-molecular-biology-education\n",
      "biochemistry\n",
      "biochimica-et-biophysica-acta\n",
      "bioelectromagnetics\n",
      "bioessays\n",
      "bioethics\n",
      "bioinformatics\n",
      "biologia\n",
      "biological-and-pharmaceutical-bulletin\n",
      "biological-journal-of-the-linnean-society\n",
      "biological-psychiatry\n",
      "biological-reviews\n",
      "biology-of-reproduction\n",
      "biomed-central\n",
      "biomed-research-international\n",
      "biometrics\n",
      "bioorganic-and-medicinal-chemistry-letters\n",
      "biophysical-journal\n",
      "biopolymers\n",
      "bioresources\n",
      "biosocieties\n",
      "biotechniques\n",
      "biotechnology-and-bioengineering\n",
      "biotropica\n",
      "biuletyn-polskiego-towarzystwa-jezykoznawczego\n",
      "blood\n",
      "bluebook-inline\n",
      "bluebook-law-review\n",
      "bluebook2\n",
      "bmj\n",
      "body-and-society\n",
      "boreal-environment-research\n",
      "brain\n",
      "brazilian-journal-of-infectious-diseases\n",
      "briefings-in-bioinformatics\n",
      "british-ecological-society\n",
      "british-journal-of-anaesthesia\n",
      "british-journal-of-cancer\n",
      "british-journal-of-dermatology\n",
      "british-journal-of-haematology\n",
      "british-journal-of-industrial-relations\n",
      "british-journal-of-pharmacology\n",
      "british-journal-of-political-science\n",
      "british-journal-of-surgery\n",
      "budownictwo-i-architektura-pl\n",
      "building-structure\n",
      "bulletin-de-correspondance-hellenique\n",
      "bulletin-de-la-societe-entomologique-de-france\n",
      "bulletin-de-la-societe-prehistorique-francaise\n",
      "bulletin-of-faculty-of-pharmacy-cairo-university\n",
      "bulletin-of-marine-science\n",
      "byzantina-symmeikta\n",
      "cahiers-d-ethnomusicologie\n",
      "cahiers-du-centre-gustave-glotz\n",
      "california-agriculture\n",
      "cambridge-university-press-numeric\n",
      "campus-adventiste-du-saleve-faculte-adventiste-de-theologie\n",
      "canadian-geotechnical-journal\n",
      "canadian-journal-of-dietetic-practice-and-research\n",
      "canadian-journal-of-earth-sciences\n",
      "canadian-journal-of-economics\n",
      "canadian-journal-of-fisheries-and-aquatic-sciences\n",
      "canadian-journal-of-physics\n",
      "canadian-journal-of-public-health\n",
      "canadian-journal-of-soil-science\n",
      "canadian-public-policy\n",
      "carcinogenesis\n",
      "cardiocore\n",
      "cath-lab-digest\n",
      "catholic-biblical-association\n",
      "cell-numeric\n",
      "cell-research\n",
      "cell-transplantation\n",
      "cell\n",
      "cellular-and-molecular-bioengineering\n",
      "cellular-reprogramming\n",
      "centaurus\n",
      "centre-de-recherche-sur-les-civilisations-de-l-asie-orientale\n",
      "cerebral-cortex\n",
      "ceska-zemedelska-univerzita-v-praze-fakulta-agrobiologie-potravinovych-a-prirodnich-zdroju\n",
      "changer-d-epoque\n",
      "chemical-and-pharmaceutical-bulletin\n",
      "chemical-senses\n",
      "chest\n",
      "chicago-annotated-bibliography\n",
      "chicago-author-date-basque\n",
      "chicago-author-date-de\n",
      "chicago-author-date-fr\n",
      "chicago-author-date\n",
      "chicago-figures\n",
      "chicago-fullnote-bibliography-fr\n",
      "chicago-fullnote-bibliography-no-ibid\n",
      "chicago-fullnote-bibliography\n",
      "chicago-library-list\n",
      "chicago-note-biblio-no-ibid\n",
      "chicago-note-bibliography\n",
      "chimia\n",
      "chinese-gb7714-1987-numeric\n",
      "chinese-gb7714-2005-author-date\n",
      "chinese-gb7714-2005-numeric\n",
      "chinese-journal-of-aeronautics\n",
      "chroniques-des-activites-archeologiques-de-l-ecole-francaise-de-rome\n",
      "circulation\n",
      "cirugia-cardiovascular\n",
      "cirugia-espanola\n",
      "citizen-science-theory-and-practice\n",
      "cladistics\n",
      "clara-architecture-recherche\n",
      "clay-minerals\n",
      "clays-and-clay-minerals\n",
      "clinica-e-investigacion-en-arteriosclerosis\n",
      "clinical-gastroenterology-and-hepatology\n",
      "clinical-hemorheology-and-microcirculation\n",
      "clinical-infectious-diseases\n",
      "clinical-journal-of-sport-medicine\n",
      "clinical-nuclear-medicine\n",
      "clinical-oral-implants-research\n",
      "clinical-orthopaedics-and-related-research\n",
      "clinical-otolaryngology\n",
      "clinical-pharmacology-and-therapeutics\n",
      "clinical-radiology\n",
      "clinical-spine-surgery\n",
      "clio-medica\n",
      "cns-and-neurological-disorders-drug-targets\n",
      "cold-spring-harbor-laboratory-press\n",
      "collection-de-l-ecole-francaise-de-rome-full-note\n",
      "collection-de-l-ecole-francaise-de-rome-note\n",
      "collection-du-centre-jean-berard\n",
      "collections-electroniques-de-l-inha-author-date\n",
      "collections-electroniques-de-l-inha-full-note\n",
      "college-montmorency\n",
      "colombian-journal-of-anesthesiology\n",
      "comision-economica-para-america-latina-y-el-caribe\n",
      "communication-et-langages\n",
      "comparative-population-studies\n",
      "computer-und-recht\n",
      "conservation-biology\n",
      "conservation-letters\n",
      "conservation-physiology\n",
      "copeia\n",
      "copernicus-publications\n",
      "coral-reefs\n",
      "cornea\n",
      "corrosion\n",
      "council-of-science-editors-alphabetical\n",
      "council-of-science-editors-author-date\n",
      "council-of-science-editors\n",
      "cranfield-university-numeric\n",
      "creativity-and-innovation-management\n",
      "critical-care-medicine\n",
      "critical-reviews-in-plant-sciences\n",
      "cuadernos-de-filologia-clasica\n",
      "cultivos-tropicales\n",
      "cultural-geographies\n",
      "cultural-studies-of-science-education\n",
      "culture-medicine-and-psychiatry\n",
      "current-gene-therapy\n",
      "current-opinion\n",
      "current-pharmaceutical-design\n",
      "current-proteomics\n",
      "current-protocols\n",
      "current-topics-in-medicinal-chemistry\n",
      "currents-in-biblical-research\n",
      "cytometry\n",
      "data-science-journal\n",
      "database\n",
      "de-buck\n",
      "decision-sciences\n",
      "demographic-research\n",
      "der-moderne-staat\n",
      "deutsche-gesellschaft-fur-psychologie\n",
      "deutsche-sprache\n",
      "deutsches-archaologisches-institut\n",
      "development-and-change\n",
      "development-policy-review\n",
      "developmental-neurobiology\n",
      "diagnostico-prenatal\n",
      "dialisis-y-trasplante\n",
      "diatom-research\n",
      "die-bachelorarbeit-samac-et-al-in-text\n",
      "die-bachelorarbeit-samac-et-al-note\n",
      "din-1505-2-alphanumeric\n",
      "din-1505-2-numeric-alphabetical\n",
      "din-1505-2-numeric\n",
      "din-1505-2\n",
      "diplo\n",
      "disability-and-rehabilitation\n",
      "discovery-medicine\n",
      "dna-research\n",
      "documents-d-archeologie-francaise\n",
      "drug-development-research\n",
      "drug-testing-and-analysis\n",
      "drugs-of-today\n",
      "ear-and-hearing\n",
      "early-christianity\n",
      "early-medieval-europe\n",
      "earth-surface-processes-and-landforms\n",
      "earthquake-engineering-and-structural-dynamics\n",
      "ecclesial-practices\n",
      "ecole-pratique-des-hautes-etudes-sciences-historiques-et-philologiques\n",
      "ecological-entomology\n",
      "ecology-and-society\n",
      "ecology-letters\n",
      "ecology-of-freshwater-fish\n",
      "ecology\n",
      "econometrica\n",
      "economic-commission-for-latin-america-and-the-caribbean\n",
      "economie-et-statistique\n",
      "ecoscience\n",
      "ecosistemas\n",
      "ecosystems\n",
      "edward-elgar-business-and-social-sciences\n",
      "el-profesional-de-la-informacion\n",
      "elementa\n",
      "elsevier-harvard-without-titles\n",
      "elsevier-harvard\n",
      "elsevier-harvard2\n",
      "elsevier-vancouver-author-date\n",
      "elsevier-vancouver\n",
      "elsevier-with-titles-alphabetical\n",
      "elsevier-with-titles\n",
      "elsevier-without-titles\n",
      "embo-reports\n",
      "emerald-harvard\n",
      "emu-austral-ornithology\n",
      "endocrine-press\n",
      "endocrinologia-y-nutricion\n",
      "endoscopia\n",
      "eneuro\n",
      "enfermeria-clinica\n",
      "enfermeria-intensiva\n",
      "engineering-in-life-sciences\n",
      "ens-de-lyon-centre-d-ingenierie-documentaire\n",
      "entomologia-experimentalis-et-applicata\n",
      "entomological-society-of-america\n",
      "environment-and-planning\n",
      "environment-and-urbanization\n",
      "environmental-and-engineering-geoscience\n",
      "environmental-chemistry\n",
      "environmental-conservation\n",
      "environmental-health-perspectives\n",
      "environmental-microbiology\n",
      "environmental-toxicology-and-chemistry\n",
      "environnement-risques-et-sante\n",
      "epidemiologie-et-sante-animale\n",
      "epidemiology-and-infection\n",
      "equine-veterinary-education\n",
      "equine-veterinary-journal\n",
      "ergoscience\n",
      "escuela-nacional-de-antropologia-e-historia-author-date\n",
      "escuela-nacional-de-antropologia-e-historia-full-note\n",
      "escuela-nacional-de-antropologia-e-historia-short-note\n",
      "estudios-de-cultura-maya\n",
      "ethics-book-reviews\n",
      "ethnobiology-and-conservation\n",
      "ethnologie-francaise\n",
      "ethnomusicology\n",
      "ets-ecole-de-technologie-superieure\n",
      "europace\n",
      "european-cells-and-materials\n",
      "european-journal-of-clinical-microbiology-and-infectious-diseases\n",
      "european-journal-of-emergency-medicine\n",
      "european-journal-of-endocrinology\n",
      "european-journal-of-human-genetics\n",
      "european-journal-of-immunology\n",
      "european-journal-of-information-systems\n",
      "european-journal-of-international-law\n",
      "european-journal-of-neuroscience\n",
      "european-journal-of-ophthalmology\n",
      "european-journal-of-paediatric-neurology\n",
      "european-journal-of-pain\n",
      "european-journal-of-political-research\n",
      "european-journal-of-public-health\n",
      "european-journal-of-soil-science\n",
      "european-journal-of-surgical-oncology\n",
      "european-journal-of-ultrasound\n",
      "european-journal-of-vascular-and-endovascular-surgery\n",
      "european-respiratory-journal\n",
      "european-retail-research\n",
      "european-society-of-cardiology\n",
      "european-union-interinstitutional-style-guide\n",
      "evidence-based-complementary-and-alternative-medicine\n",
      "evolution-and-development\n",
      "evolution\n",
      "evolutionary-anthropology\n",
      "evolutionary-ecology-research\n",
      "exercer\n",
      "experimental-dermatology\n",
      "eye\n",
      "fachhochschule-kiel-fachbereich-medien\n",
      "fachhochschule-vorarlberg-author-date\n",
      "fachhochschule-vorarlberg-note\n",
      "facial-plastic-surgery-clinics-of-north-america\n",
      "family-business-review\n",
      "ferdinand-porsche-fern-fachhochschule\n",
      "fertility-and-sterility\n",
      "finanzarchiv\n",
      "fine-focus\n",
      "first-monday\n",
      "fish-and-fisheries\n",
      "flavour-and-fragrance-journal\n",
      "florida-entomologist\n",
      "foerster-geisteswissenschaft\n",
      "fold-and-r\n",
      "food-and-agriculture-organization-of-the-united-nations\n",
      "forensic-science-review\n",
      "forest-science\n",
      "forum-qualitative-social-research\n",
      "free-radical-research\n",
      "freie-universitat-berlin-geographische-wissenschaften\n",
      "french-politics\n",
      "french1\n",
      "french2\n",
      "french3\n",
      "french4\n",
      "freshwater-biology\n",
      "freshwater-science\n",
      "friedrich-schiller-university-jena-faculty-of-medicine\n",
      "frontiers-in-ecology-and-the-environment\n",
      "frontiers-in-optics\n",
      "frontiers-in-physics\n",
      "frontiers-medical-journals\n",
      "frontiers\n",
      "fungal-biology\n",
      "future-science-group\n",
      "g3\n",
      "gallia\n",
      "gastroenterology\n",
      "gastrointestinal-endoscopy-clinics-of-north-america\n",
      "gastrointestinal-intervention\n",
      "geistes-und-kulturwissenschaften-heilmann\n",
      "genes-to-cells\n",
      "geneses\n",
      "genetics-and-molecular-biology\n",
      "genetics\n",
      "genome-biology-and-evolution\n",
      "geoarchaeology\n",
      "geobiology\n",
      "geochemical-perspectives-letters\n",
      "geochimica-et-cosmochimica-acta\n",
      "geochronometria\n",
      "geografie-sbornik-cgs\n",
      "geological-magazine\n",
      "geopolitics\n",
      "georg-august-universitat-gottingen-institut-fur-ethnologie-und-ethnologische-sammlung\n",
      "german-council-of-economic-experts\n",
      "gesellschaft-fur-popularmusikforschung\n",
      "gewerblicher-rechtsschutz-und-urheberrecht\n",
      "global-change-biology\n",
      "global-ecology-and-biogeography\n",
      "glossa\n",
      "gost-r-7-0-5-2008-numeric-alphabetical\n",
      "gost-r-7-0-5-2008-numeric\n",
      "gost-r-7-0-5-2008\n",
      "grasas-y-aceites\n",
      "hainan-medical-university-journal-publisher\n",
      "hamburg-school-of-food-science\n",
      "hand\n",
      "handbook-of-clinical-neurology\n",
      "harvard-anglia-ruskin-university\n",
      "harvard-bournemouth-university\n",
      "harvard-cape-peninsula-university-of-technology\n",
      "harvard-cardiff-university-biosi\n",
      "harvard-cardiff-university\n",
      "harvard-cite-them-right\n",
      "harvard-coventry-university\n",
      "harvard-cranfield-university\n",
      "harvard-de-montfort-university\n",
      "harvard-deakin-university\n",
      "harvard-dublin-city-university\n",
      "harvard-dundalk-institute-of-technology\n",
      "harvard-durham-university-business-school\n",
      "harvard-edge-hill-university\n",
      "harvard-european-archaeology\n",
      "harvard-fachhochschule-salzburg\n",
      "harvard-falmouth-university\n",
      "harvard-gesellschaft-fur-bildung-und-forschung-in-europa\n",
      "harvard-imperial-college-london\n",
      "harvard-institut-fur-praxisforschung-de\n",
      "harvard-kings-college-london\n",
      "harvard-leeds-beckett-university\n",
      "harvard-leeds-metropolitan-university\n",
      "harvard-limerick\n",
      "harvard-london-south-bank-university\n",
      "harvard-manchester-business-school\n",
      "harvard-manchester-metropolitan-university\n",
      "harvard-melbourne-polytechnic\n",
      "harvard-newcastle-university\n",
      "harvard-north-west-university\n",
      "harvard-oxford-brookes-university-faculty-of-health-and-life-sciences\n",
      "harvard-pontificia-universidad-catolica-del-ecuador\n",
      "harvard-robert-gordon-university\n",
      "harvard-southampton-solent-university\n",
      "harvard-staffordshire-university\n",
      "harvard-stellenbosch-university\n",
      "harvard-swinburne-university-of-technology\n",
      "harvard-the-university-of-melbourne\n",
      "harvard-the-university-of-northampton\n",
      "harvard-the-university-of-sheffield-school-of-east-asian-studies\n",
      "harvard-the-university-of-sheffield-town-and-regional-planning\n",
      "harvard-theologisches-seminar-adelshofen\n",
      "harvard-universiti-teknologi-malaysia\n",
      "harvard-universiti-tunku-abdul-rahman\n",
      "harvard-university-for-the-creative-arts\n",
      "harvard-university-of-abertay-dundee\n",
      "harvard-university-of-bath\n",
      "harvard-university-of-birmingham\n",
      "harvard-university-of-brighton-school-of-environment-and-technology\n",
      "harvard-university-of-cape-town\n",
      "harvard-university-of-exeter-geography\n",
      "harvard-university-of-gloucestershire\n",
      "harvard-university-of-greenwich\n",
      "harvard-university-of-kent\n",
      "harvard-university-of-leeds\n",
      "harvard-university-of-sunderland\n",
      "harvard-university-of-technology-sydney\n",
      "harvard-university-of-the-west-of-england\n",
      "harvard-university-of-the-west-of-scotland\n",
      "harvard-university-of-westminster\n",
      "harvard-university-of-wolverhampton\n",
      "harvard-university-of-worcester\n",
      "harvard-york-st-john-university\n",
      "haute-ecole-pedagogique-fribourg\n",
      "hawaii-international-conference-on-system-sciences-proceedings\n",
      "health-and-social-care-in-the-community\n",
      "health-economics-policy-and-law\n",
      "health-economics\n",
      "health-education-research\n",
      "health-policy-and-planning\n",
      "health-reform-observer-observatoire-des-reformes-de-sante\n",
      "health-services-research\n",
      "heart-failure-clinics\n",
      "heart-rhythm\n",
      "heidelberg-university-faculty-of-medicine\n",
      "hematology-oncology-clinics-of-north-america\n",
      "hepatology\n",
      "heredity\n",
      "herpetologica\n",
      "high-altitude-medicine-and-biology\n",
      "hiob-ludolf-centre-for-ethiopian-studies-with-url-doi\n",
      "hiob-ludolf-centre-for-ethiopian-studies\n",
      "hipertension-y-riesgo-vascular\n",
      "histoire-at-politique\n",
      "histoire-et-mesure\n",
      "histopathology\n",
      "history-and-theory\n",
      "history-of-the-human-sciences\n",
      "hochschule-fur-wirtschaft-und-recht-berlin\n",
      "hong-kong-journal-of-radiology\n",
      "human-brain-mapping\n",
      "human-mutation\n",
      "human-reproduction-update\n",
      "human-reproduction\n",
      "human-resource-management-journal\n",
      "human-wildlife-interactions\n",
      "humboldt-state-university-environmental-resources-engineering\n",
      "hydrobiologia\n",
      "hydrological-processes\n",
      "hydrological-sciences-journal\n",
      "hypertension-research\n",
      "hypotheses-in-the-life-sciences\n",
      "ices-journal-of-marine-science\n",
      "idojaras-quarterly-journal-of-the-hungarian-meteorological-service\n",
      "ie-comunicaciones\n",
      "ieee-magnetics-letters\n",
      "ieee-transactions-on-medical-imaging\n",
      "ieee-with-url\n",
      "ieee\n",
      "iforest\n",
      "igaku-toshokan\n",
      "iica-catie\n",
      "im-gesprach\n",
      "immunological-reviews\n",
      "indian-journal-of-medical-research\n",
      "indian-journal-of-traditional-knowledge\n",
      "indiana\n",
      "indoor-air\n",
      "infectio\n",
      "infectious-disease-clinics-of-north-america\n",
      "inflammatory-bowel-diseases\n",
      "influenza-and-other-respiratory-viruses\n",
      "infoclio-de\n",
      "infoclio-fr-nocaps\n",
      "infoclio-fr-smallcaps\n",
      "information-systems-journal\n",
      "ingenieria-agricola\n",
      "institut-national-de-la-recherche-scientifique-sciences-sociales\n",
      "institut-national-de-sante-publique-du-quebec-napp\n",
      "institut-national-de-sante-publique-du-quebec-topo\n",
      "institut-teknologi-bandung-tesis-magister\n",
      "institute-for-operations-research-and-the-management-sciences\n",
      "institute-of-mathematical-statistics\n",
      "institute-of-physics-harvard\n",
      "institute-of-physics-numeric\n",
      "instituto-de-pesquisas-tecnologicas\n",
      "instituto-superior-de-teologia-de-las-islas-canarias\n",
      "integrative-and-comparative-biology\n",
      "inter-research-science-center\n",
      "inter-ro\n",
      "interaction-design-and-architectures\n",
      "interdisziplinare-zeitschrift-fur-technologie-und-lernen\n",
      "international-atomic-energy-agency\n",
      "international-brazilian-journal-of-urology\n",
      "international-conference-on-information-systems-development\n",
      "international-development-policy\n",
      "international-journal-for-numerical-methods-in-biomedical-engineering\n",
      "international-journal-of-audiology\n",
      "international-journal-of-cancer\n",
      "international-journal-of-circuit-theory-and-applications\n",
      "international-journal-of-climatology\n",
      "international-journal-of-electronic-commerce\n",
      "international-journal-of-epidemiology\n",
      "international-journal-of-exercise-science\n",
      "international-journal-of-food-science-and-technology\n",
      "international-journal-of-geriatric-psychiatry\n",
      "international-journal-of-humanoid-robotics\n",
      "international-journal-of-infectious-diseases\n",
      "international-journal-of-lexicography\n",
      "international-journal-of-nuclear-security\n",
      "international-journal-of-obstetric-anesthesia\n",
      "international-journal-of-occupational-medicine-and-environmental-health\n",
      "international-journal-of-oral-and-maxillofacial-surgery\n",
      "international-journal-of-osteoarchaeology\n",
      "international-journal-of-plant-sciences\n",
      "international-journal-of-quantum-chemistry\n",
      "international-journal-of-radiation-oncology-biology-physics\n",
      "international-journal-of-spatial-data-infrastructures-research\n",
      "international-journal-of-sports-medicine\n",
      "international-journal-of-wildland-fire\n",
      "international-labour-organization\n",
      "international-microbiology\n",
      "international-organization\n",
      "international-pig-veterinary-society-congress-proceedings\n",
      "international-studies-association\n",
      "international-union-of-crystallography\n",
      "invertebrate-biology\n",
      "investigative-radiology\n",
      "invisu\n",
      "ios-press-books\n",
      "irish-historical-studies\n",
      "iso690-author-date-cs\n",
      "iso690-author-date-en\n",
      "iso690-author-date-es\n",
      "iso690-author-date-fr-no-abstract\n",
      "iso690-author-date-fr\n",
      "iso690-author-date-sk\n",
      "iso690-full-note-sk\n",
      "iso690-note-cs\n",
      "iso690-note-fr\n",
      "iso690-numeric-brackets-cs\n",
      "iso690-numeric-cs\n",
      "iso690-numeric-en\n",
      "iso690-numeric-fr\n",
      "iso690-numeric-lt\n",
      "iso690-numeric-sk\n",
      "israel-medical-association-journal\n",
      "italian-journal-of-agronomy\n",
      "ithaque\n",
      "ius-ecclesiae\n",
      "jacc-cardiovascular-imaging\n",
      "jahrbuch-der-osterreichischen-byzantinischen-gesellschaft\n",
      "jahrbuch-fur-evangelikale-theologie\n",
      "javnost-the-public\n",
      "journal-for-the-history-of-astronomy\n",
      "journal-fur-kunstgeschichte\n",
      "journal-of-adolescent-health\n",
      "journal-of-aerosol-medicine-and-pulmonary-drug-delivery\n",
      "journal-of-alzheimers-disease\n",
      "journal-of-analytical-toxicology\n",
      "journal-of-animal-physiology-and-animal-nutrition\n",
      "journal-of-animal-science\n",
      "journal-of-antimicrobial-chemotherapy\n",
      "journal-of-applied-animal-science\n",
      "journal-of-applied-clinical-medical-physics\n",
      "journal-of-applied-ecology\n",
      "journal-of-applied-entomology\n",
      "journal-of-applied-pharmaceutical-research\n",
      "journal-of-applied-philosophy\n",
      "journal-of-archaeological-research\n",
      "journal-of-atrial-fibrillation\n",
      "journal-of-australian-strength-and-conditioning\n",
      "journal-of-avian-biology\n",
      "journal-of-basic-microbiology\n",
      "journal-of-biogeography\n",
      "journal-of-biological-chemistry\n",
      "journal-of-biological-regulators-and-homeostatic-agents\n",
      "journal-of-biomedical-materials-research-part-a\n",
      "journal-of-bone-and-mineral-research\n",
      "journal-of-brachial-plexus-and-peripheral-nerve-injury\n",
      "journal-of-burn-care-and-research\n",
      "journal-of-business-logistics\n",
      "journal-of-cachexia-sarcopenia-and-muscle\n",
      "journal-of-cardiothoracic-and-vascular-anesthesia\n",
      "journal-of-cellular-and-molecular-medicine\n",
      "journal-of-chemistry-and-chemical-engineering\n",
      "journal-of-chemometrics\n",
      "journal-of-child-and-adolescent-psychopharmacology\n",
      "journal-of-clinical-neurophysiology\n",
      "journal-of-clinical-oncology\n",
      "journal-of-clinical-rheumatology\n",
      "journal-of-clinical-sleep-medicine\n",
      "journal-of-combinatorics\n",
      "journal-of-common-market-studies\n",
      "journal-of-computational-chemistry\n",
      "journal-of-computer-applications-in-archaeology\n",
      "journal-of-computer-information-systems\n",
      "journal-of-consumer-research\n",
      "journal-of-crohns-and-colitis-supplements\n",
      "journal-of-crohns-and-colitis\n",
      "journal-of-dairy-science\n",
      "journal-of-dental-research\n",
      "journal-of-elections-public-opinion-and-parties\n",
      "journal-of-endodontics\n",
      "journal-of-european-public-policy\n",
      "journal-of-evolution-and-health\n",
      "journal-of-evolutionary-biology\n",
      "journal-of-experimental-botany\n",
      "journal-of-field-ornithology\n",
      "journal-of-finance\n",
      "journal-of-fish-biology\n",
      "journal-of-fish-diseases\n",
      "journal-of-food-protection\n",
      "journal-of-forensic-sciences\n",
      "journal-of-frailty-and-aging\n",
      "journal-of-genetic-engineering-and-biotechnology\n",
      "journal-of-geriatric-psychiatry-and-neurology\n",
      "journal-of-glaciology\n",
      "journal-of-hearing-science\n",
      "journal-of-historical-linguistics\n",
      "journal-of-hospital-infection\n",
      "journal-of-human-evolution\n",
      "journal-of-hypertension\n",
      "journal-of-industrial-and-engineering-chemistry\n",
      "journal-of-industrial-ecology\n",
      "journal-of-infection\n",
      "journal-of-infectious-diseases\n",
      "journal-of-information-technology\n",
      "journal-of-institutional-and-theoretical-economics\n",
      "journal-of-instrumentation\n",
      "journal-of-integrated-omics\n",
      "journal-of-interactive-marketing\n",
      "journal-of-internal-medicine\n",
      "journal-of-international-business-studies\n",
      "journal-of-international-economic-law\n",
      "journal-of-international-relations-and-development\n",
      "journal-of-investigative-dermatology\n",
      "journal-of-korean-neurosurgical-society\n",
      "journal-of-limnology\n",
      "journal-of-lipid-research\n",
      "journal-of-magnetic-resonance-imaging\n",
      "journal-of-mammalogy\n",
      "journal-of-management-information-systems\n",
      "journal-of-management-studies\n",
      "journal-of-management\n",
      "journal-of-materials-research\n",
      "journal-of-mechanical-science-and-technology\n",
      "journal-of-medical-genetics\n",
      "journal-of-medical-internet-research\n",
      "journal-of-minimally-invasive-gynecology\n",
      "journal-of-molecular-endocrinology\n",
      "journal-of-music-technology-and-education\n",
      "journal-of-nanoscience-and-nanotechnology\n",
      "journal-of-natural-history\n",
      "journal-of-neurochemistry\n",
      "journal-of-neurological-disorders\n",
      "journal-of-neurophysiology\n",
      "journal-of-neuroscience-and-neuroengineering\n",
      "journal-of-neurosurgery\n",
      "journal-of-neurotrauma\n",
      "journal-of-nutrition\n",
      "journal-of-oral-and-maxillofacial-surgery\n",
      "journal-of-orthopaedic-research\n",
      "journal-of-orthopaedic-trauma\n",
      "journal-of-orthopaedics-trauma-and-rehabilitation\n",
      "journal-of-paleontology\n",
      "journal-of-peace-research\n",
      "journal-of-peptide-science\n",
      "journal-of-perinatal-medicine\n",
      "journal-of-periodontal-research\n",
      "journal-of-petrology\n",
      "journal-of-pharmacy-and-pharmacology\n",
      "journal-of-phycology\n",
      "journal-of-physical-therapy-science\n",
      "journal-of-plant-ecology\n",
      "journal-of-plant-nutrition-and-soil-science\n",
      "journal-of-political-philosophy\n",
      "journal-of-pollination-ecology\n",
      "journal-of-polymer-science-part-a-polymer-chemistry\n",
      "journal-of-product-innovation-management\n",
      "journal-of-psychiatric-and-mental-health-nursing\n",
      "journal-of-psychiatry-and-neuroscience\n",
      "journal-of-reconstructive-microsurgery\n",
      "journal-of-retailing\n",
      "journal-of-rheumatology\n",
      "journal-of-roman-archaeology-a\n",
      "journal-of-roman-archaeology-b\n",
      "journal-of-science-and-medicine-in-sport\n",
      "journal-of-separation-science\n",
      "journal-of-shoulder-and-elbow-surgery\n",
      "journal-of-simulation\n",
      "journal-of-sleep-research\n",
      "journal-of-social-archaeology\n",
      "journal-of-sport-and-health-science\n",
      "journal-of-strength-and-conditioning-research\n",
      "journal-of-structural-geology\n",
      "journal-of-studies-on-alcohol-and-drugs\n",
      "journal-of-systematic-palaeontology\n",
      "journal-of-the-air-and-waste-management-association\n",
      "journal-of-the-american-academy-of-audiology\n",
      "journal-of-the-american-academy-of-orthopaedic-surgeons\n",
      "journal-of-the-american-association-of-laboratory-animal-science\n",
      "journal-of-the-american-ceramic-society\n",
      "journal-of-the-american-college-of-cardiology\n",
      "journal-of-the-american-college-of-surgeons\n",
      "journal-of-the-american-heart-association\n",
      "journal-of-the-american-society-of-brewing-chemists\n",
      "journal-of-the-american-society-of-nephrology\n",
      "journal-of-the-american-water-resources-association\n",
      "journal-of-the-association-for-information-systems\n",
      "journal-of-the-association-of-environmental-and-resource-economists\n",
      "journal-of-the-brazilian-chemical-society\n",
      "journal-of-the-electrochemical-society\n",
      "journal-of-the-history-of-collections\n",
      "journal-of-the-korean-society-of-civil-engineers\n",
      "journal-of-the-marine-biological-association-of-the-united-kingdom\n",
      "journal-of-the-royal-anthropological-institute\n",
      "journal-of-the-south-african-veterinary-association\n",
      "journal-of-thermal-spray-technology\n",
      "journal-of-thrombosis-and-haemostasis\n",
      "journal-of-tropical-ecology\n",
      "journal-of-tropical-life-science\n",
      "journal-of-universal-computer-science\n",
      "journal-of-urban-and-environmental-engineering\n",
      "journal-of-value-inquiry\n",
      "journal-of-vegetation-science\n",
      "journal-of-vertebrate-paleontology\n",
      "journal-of-veterinary-diagnostic-investigation\n",
      "journal-of-visualized-experiments\n",
      "journal-of-water-sanitation-and-hygiene-for-development\n",
      "journal-of-wildlife-diseases\n",
      "journal-of-zoo-and-wildlife-medicine\n",
      "journal-of-zoo-biology\n",
      "journal-of-zoology\n",
      "journalistica\n",
      "juristische-schulung\n",
      "juristische-zitierweise\n",
      "karger-journals-author-date\n",
      "karger-journals\n",
      "kidney-international\n",
      "kidney-research-and-clinical-practice\n",
      "kindheit-und-entwicklung\n",
      "knee-surgery-sports-traumatology-arthroscopy\n",
      "kolner-zeitschrift-fur-soziologie-und-sozialpsychologie\n",
      "kommunikation-und-recht\n",
      "korean-journal-of-anesthesiology\n",
      "kritische-ausgabe\n",
      "ksce-journal-of-civil-engineering\n",
      "kth-royal-institute-of-technology-school-of-computer-science-and-communication-sv\n",
      "kth-royal-institute-of-technology-school-of-computer-science-and-communication\n",
      "land-degradation-and-development\n",
      "landes-bioscience-journals\n",
      "language-in-society\n",
      "language\n",
      "latin-american-perspectives\n",
      "latin-american-research-review\n",
      "law-and-society-review\n",
      "lcgc\n",
      "le-mouvement-social\n",
      "le-tapuscrit-author-date\n",
      "le-tapuscrit-note\n",
      "leiden-journal-of-international-law\n",
      "leidraad-voor-juridische-auteurs\n",
      "les-journees-de-la-recherche-avicole\n",
      "les-journees-de-la-recherche-porcine\n",
      "lethaia\n",
      "lettres-et-sciences-humaines-fr\n",
      "leviathan\n",
      "limnetica\n",
      "limnology-and-oceanography\n",
      "liver-international\n",
      "lluelles-no-ibid\n",
      "lluelles\n",
      "london-south-bank-university-numeric\n",
      "lund-university-school-of-economics-and-management\n",
      "macromolecular-reaction-engineering\n",
      "magnetic-resonance-in-medicine\n",
      "magnetic-resonance-materials-in-physics-biology-and-medicine\n",
      "maison-de-l-orient-et-de-la-mediterranee\n",
      "mammal-review\n",
      "manchester-university-press\n",
      "marine-biology\n",
      "mastozoologia-neotropical\n",
      "mathematics-and-computers-in-simulation\n",
      "mcdonald-institute-monographs\n",
      "mcgill-en\n",
      "mcgill-fr\n",
      "medecine-sciences\n",
      "media-culture-and-society\n",
      "medical-dosimetry\n",
      "medical-history\n",
      "medical-physics\n",
      "medicinal-research-reviews\n",
      "medicine-and-science-in-sports-and-exercise\n",
      "medicinskiy-akademicheskiy-zhurnal\n",
      "melbourne-school-of-theology\n",
      "memorias-do-instituto-oswaldo-cruz\n",
      "mercatus-center\n",
      "metallurgical-and-materials-transactions-a\n",
      "metallurgical-and-materials-transactions\n",
      "meteoritics-and-planetary-science\n",
      "meteorological-applications\n",
      "methods-in-ecology-and-evolution\n",
      "methods-of-information-in-medicine\n",
      "metropolitiques\n",
      "microbial-drug-resistance\n",
      "microscopy-and-microanalysis\n",
      "middle-east-critique\n",
      "mind-and-language\n",
      "mineralogical-magazine\n",
      "mis-quarterly\n",
      "modern-humanities-research-association-author-date\n",
      "modern-humanities-research-association\n",
      "modern-language-association-6th-edition-note\n",
      "modern-language-association-8th-edition\n",
      "modern-language-association-underline\n",
      "modern-language-association-with-url\n",
      "modern-language-association\n",
      "modern-phytomorphology\n",
      "mohr-siebeck-recht\n",
      "molecular-and-cellular-proteomics\n",
      "molecular-biology-and-evolution\n",
      "molecular-biology-of-the-cell\n",
      "molecular-metabolism\n",
      "molecular-microbiology\n",
      "molecular-plant-microbe-interactions\n",
      "molecular-plant-pathology\n",
      "molecular-plant\n",
      "molecular-psychiatry-letters\n",
      "molecular-therapy\n",
      "mondes-en-developpement\n",
      "moore-theological-college\n",
      "moorlands-college\n",
      "multidisciplinary-digital-publishing-institute\n",
      "multiple-sclerosis-journal\n",
      "music-theory-spectrum\n",
      "mutagenesis\n",
      "mycologia\n",
      "myrmecological-news\n",
      "nano-biomedicine-and-engineering\n",
      "national-archives-of-australia\n",
      "national-institute-of-health-research\n",
      "national-institute-of-technology-karnataka\n",
      "national-library-of-medicine-grant-proposals\n",
      "national-natural-science-foundation-of-china\n",
      "national-science-foundation-grant-proposals\n",
      "natur-und-landschaft\n",
      "nature-neuroscience-brief-communications\n",
      "nature-no-et-al\n",
      "nature-no-superscript\n",
      "nature-publishing-group-vancouver\n",
      "nature\n",
      "navigation\n",
      "nccr-mediality\n",
      "nehet\n",
      "nephrology-dialysis-transplantation\n",
      "neue-juristische-wochenschrift\n",
      "neural-plasticity\n",
      "neuroimaging-clinics-of-north-america\n",
      "neurologia-argentina\n",
      "neurologia\n",
      "neurology-india\n",
      "neurology\n",
      "neuropsychopharmacology\n",
      "neurorehabilitation-and-neural-repair\n",
      "neuroreport\n",
      "neurosurgery-clinics-of-north-america\n",
      "new-harts-rules-the-oxford-style-guide\n",
      "new-phytologist\n",
      "new-solutions\n",
      "new-testament-studies\n",
      "new-zealand-plant-protection\n",
      "new-zealand-veterinary-journal\n",
      "nordic-pulp-and-paper-research-journal\n",
      "norma-portuguesa-405\n",
      "northeastern-naturalist\n",
      "nowa-audiofonologia\n",
      "nuclear-receptor-signaling\n",
      "nucleic-acids-research\n",
      "obafemi-awolowo-university-faculty-of-technology\n",
      "obesity\n",
      "occupational-medicine\n",
      "oceanography\n",
      "oikos\n",
      "oncotarget\n",
      "onderstepoort-journal-of-veterinary-research\n",
      "ophthalmology\n",
      "optometry-and-vision-science\n",
      "oral-diseases\n",
      "organic-geochemistry\n",
      "organization\n",
      "ornitologia-neotropical\n",
      "orthopedic-clinics-of-north-america\n",
      "oryx\n",
      "oscola-no-ibid\n",
      "oscola\n",
      "osterreichische-zeitschrift-fur-politikwissenschaft\n",
      "owbarth-verlag\n",
      "oxford-art-journal\n",
      "oxford-centre-for-mission-studies-harvard\n",
      "oxford-studies-in-ancient-philosophy\n",
      "oxford-studies-on-the-roman-economy\n",
      "oxford-the-university-of-new-south-wales\n",
      "oxford-university-press-humsoc\n",
      "oxford-university-press-scimed-author-date\n",
      "oxford-university-press-scimed-numeric\n",
      "padagogische-hochschule-fachhochschule-nordwestschweiz\n",
      "padagogische-hochschule-heidelberg\n",
      "padagogische-hochschule-vorarlberg\n",
      "paediatric-and-perinatal-epidemiology\n",
      "pain\n",
      "palaeontographica-abteilung-b-palaeobotany-palaeophytology\n",
      "palaeontologia-electronica\n",
      "palaeontology\n",
      "palaeovertebrata\n",
      "palaios\n",
      "paleobiology\n",
      "parasitology\n",
      "past-and-present\n",
      "pediatric-allergy-and-immunology\n",
      "pediatric-anesthesia\n",
      "pediatric-blood-and-cancer\n",
      "pediatric-physical-therapy\n",
      "pediatric-research\n",
      "peerj\n",
      "periodicum-biologorum\n",
      "periodontology-2000\n",
      "permafrost-and-periglacial-processes\n",
      "perspectives-on-politics\n",
      "perspectives-on-sexual-and-reproductive-health\n",
      "petit-chicago-author-date\n",
      "pharmacoepidemiology-and-drug-safety\n",
      "philippika\n",
      "philosophia-scientiae\n",
      "philosophiques\n",
      "phycological-research\n",
      "phyllomedusa\n",
      "physiological-and-biochemical-zoology\n",
      "pisa-university-press\n",
      "plant-and-cell-physiology\n",
      "plant-biology\n",
      "plant-cell-and-environment\n",
      "plant-pathology\n",
      "plant-physiology\n",
      "plos\n",
      "pnas\n",
      "podzemna-voda\n",
      "polish-legal\n",
      "political-studies\n",
      "politische-vierteljahresschrift\n",
      "pontifical-athenaeum-regina-apostolorum\n",
      "pontifical-biblical-institute\n",
      "pontifical-gregorian-university\n",
      "population-space-and-place\n",
      "population\n",
      "postepy-higieny-i-medycyny-doswiadczalnej\n",
      "poultry-science\n",
      "pour-reussir-note\n",
      "prehospital-emergency-care\n",
      "preslia\n"
     ]
    },
    {
     "name": "stdout",
     "output_type": "stream",
     "text": [
      "presses-universitaires-de-paris-nanterre\n",
      "presses-universitaires-de-rennes-archeologie-et-culture\n",
      "presses-universitaires-de-rennes\n",
      "primary-care-clinics-in-office-practice\n",
      "proceedings-of-the-royal-society-b\n",
      "proinflow\n",
      "protein-engineering-design-and-selection\n",
      "protein-science\n",
      "proteomics\n",
      "psychiatric-clinics-of-north-america\n",
      "psychiatric-services\n",
      "psychiatry-and-clinical-neurosciences\n",
      "psychological-medicine\n",
      "psychosomatic-medicine\n",
      "psychosomatics\n",
      "public-health-nutrition\n",
      "quaderni-degli-avogadro-colloquia\n",
      "quaternary-international\n",
      "r-and-d-management\n",
      "radiochimica-acta\n",
      "radiographics\n",
      "radiography\n",
      "radiologic-clinics-of-north-america\n",
      "radiology\n",
      "radiopaedia\n",
      "rapid-communications-in-mass-spectrometry\n",
      "recent-patents-on-drug-delivery-and-formulation\n",
      "recherches-en-sciences-de-gestion\n",
      "renewable-agriculture-and-food-systems\n",
      "reports-of-practical-oncology-and-radiotherapy\n",
      "reproduction-in-domestic-animals\n",
      "reproduction\n",
      "research-on-biomedical-engineering\n",
      "restoration-ecology\n",
      "reviews-of-modern-physics-with-titles\n",
      "revista-argentina-de-antropologia-biologica\n",
      "revista-brasileira-de-ciencia-do-solo\n",
      "revista-chilena-de-derecho-y-tecnologia\n",
      "revista-ciencias-tecnicas-agropecuarias\n",
      "revista-da-sociedade-brasileira-de-medicina-tropical\n",
      "revista-de-biologia-tropical\n",
      "revista-de-filologia-espanola\n",
      "revista-fave-seccion-ciencias-agrarias\n",
      "revista-latinoamericana-de-metalurgia-y-materiales\n",
      "revista-latinoamericana-de-recursos-naturales\n",
      "revista-noesis\n",
      "revista-virtual-de-quimica\n",
      "revue-archeologique-du-centre-de-la-france\n",
      "revue-archeologique\n",
      "revue-d-elevage-et-de-medecine-veterinaire-des-pays-tropicaux\n",
      "revue-de-medecine-veterinaire\n",
      "revue-des-nouvelles-technologies-de-l-information\n",
      "revue-dhistoire-moderne-et-contemporaine\n",
      "revue-francaise-de-sociologie\n",
      "rhodora\n",
      "risk-analysis\n",
      "rofo\n",
      "romanian-humanities\n",
      "rose-school\n",
      "rossiiskii-fiziologicheskii-zhurnal-imeni-i-m-sechenova\n",
      "royal-society-of-chemistry-with-titles\n",
      "royal-society-of-chemistry\n",
      "rtf-scan\n",
      "sage-harvard\n",
      "sage-vancouver-brackets\n",
      "sage-vancouver\n",
      "scandinavian-journal-of-infectious-diseases\n",
      "scandinavian-journal-of-medicine-and-science-in-sports\n",
      "scandinavian-journal-of-rheumatology\n",
      "scandinavian-journal-of-work-environment-and-health\n",
      "scandinavian-political-studies\n",
      "science-and-technology-for-the-built-environment\n",
      "science-china-life-sciences\n",
      "science-translational-medicine\n",
      "science-without-titles\n",
      "science\n",
      "scienceasia\n",
      "scientia-agriculturae-bohemica\n",
      "scientific-review-engineering-and-environmental-sciences\n",
      "scrinium\n",
      "seed-science-research\n",
      "seminaire-saint-sulpice-ecole-theologie\n",
      "seminars-in-pediatric-neurology\n",
      "service-medical-de-l-assurance-maladie\n",
      "sexual-development\n",
      "sexual-health\n",
      "sheffield-hallam-university-history\n",
      "sist02\n",
      "small\n",
      "social-cognitive-and-affective-neuroscience\n",
      "sociedade-brasileira-de-computacao\n",
      "societe-archeologique-de-bordeaux\n",
      "societe-nationale-des-groupements-techniques-veterinaires\n",
      "society-for-american-archaeology\n",
      "society-for-general-microbiology\n",
      "society-for-historical-archaeology\n",
      "society-for-laboratory-automation-and-screening\n",
      "society-of-automotive-engineers-technical-papers-numeric\n",
      "society-of-biblical-literature-fullnote-bibliography\n",
      "socio-economic-review\n",
      "sociology-of-health-and-illness\n",
      "soil-biology-and-biochemistry\n",
      "soil-science-and-plant-nutrition\n",
      "solutions\n",
      "south-african-journal-of-animal-science\n",
      "south-african-journal-of-enology-and-viticulture\n",
      "south-african-journal-of-geology\n",
      "soziale-welt\n",
      "sozialpadagogisches-institut-berlin-walter-may\n",
      "sozialwissenschaften-heilmann\n",
      "soziologie\n",
      "spandidos-publications\n",
      "spanish-legal\n",
      "spectroscopy-letters\n",
      "spie-bios\n",
      "spie-journals\n",
      "spie-proceedings\n",
      "spine\n",
      "spip-cite\n",
      "springer-basic-author-date-no-et-al\n",
      "springer-basic-author-date\n",
      "springer-basic-brackets-no-et-al-alphabetical\n",
      "springer-basic-brackets-no-et-al\n",
      "springer-basic-brackets\n",
      "springer-fachzeitschriften-medizin-psychologie\n",
      "springer-humanities-author-date\n",
      "springer-humanities-brackets\n",
      "springer-lecture-notes-in-computer-science-alphabetical\n",
      "springer-lecture-notes-in-computer-science\n",
      "springer-mathphys-author-date\n",
      "springer-mathphys-brackets\n",
      "springer-physics-author-date\n",
      "springer-physics-brackets\n",
      "springer-socpsych-author-date\n",
      "springer-socpsych-brackets\n",
      "springer-vancouver-author-date\n",
      "springer-vancouver-brackets\n",
      "springer-vancouver\n",
      "springer-vs-author-date\n",
      "springerprotocols\n",
      "st-patricks-college\n",
      "statistika-statistics-and-economy-journal\n",
      "stavebni-obzor\n",
      "stem-cells-and-development\n",
      "stem-cells\n",
      "strategic-management-journal\n",
      "stroke\n",
      "structural-control-and-health-monitoring\n",
      "studia-bas\n",
      "studii-teologice\n",
      "stuttgart-media-university\n",
      "style-manual-australian-government\n",
      "sunway-college-johor-bahru\n",
      "surgical-clinics-of-north-america\n",
      "surgical-neurology-international\n",
      "surgical-pathology-clinics\n",
      "svensk-exegetisk-arsbok\n",
      "swedish-legal\n",
      "systematic-and-applied-microbiology\n",
      "systematic-biology\n",
      "taxon\n",
      "taylor-and-francis-chicago-author-date\n",
      "taylor-and-francis-chicago-f\n",
      "taylor-and-francis-council-of-science-editors-author-date\n",
      "taylor-and-francis-harvard-x\n",
      "taylor-and-francis-national-library-of-medicine\n",
      "taylor-and-francis-numeric-q\n",
      "technische-universitat-dresden-betriebswirtschaftslehre-logistik-author-date\n",
      "technische-universitat-dresden-erziehungswissenschaften-author-date\n",
      "technische-universitat-dresden-finanzwirtschaft-und-finanzdienstleistungen-author-date-with-short-titles\n",
      "technische-universitat-dresden-finanzwirtschaft-und-finanzdienstleistungen-author-date\n",
      "technische-universitat-dresden-finanzwirtschaft-und-finanzdienstleistungen-note\n",
      "technische-universitat-dresden-historische-musikwissenschaft-note\n",
      "technische-universitat-dresden-kunstgeschichte-note\n",
      "technische-universitat-dresden-medienwissenschaft-und-neuere-deutsche-literatur-note\n",
      "technische-universitat-dresden-medizin\n",
      "technische-universitat-dresden-wirtschaftswissenschaften\n",
      "technische-universitat-munchen-controlling\n",
      "technische-universitat-munchen-unternehmensfuhrung\n",
      "technische-universitat-wien\n",
      "teologia-catalunya\n",
      "terra-nova\n",
      "tetrahedron-letters\n",
      "tgm-wien-diplom\n",
      "the-accounting-review\n",
      "the-american-journal-of-cardiology\n",
      "the-american-journal-of-gastroenterology\n",
      "the-american-journal-of-human-genetics\n",
      "the-american-journal-of-pathology\n",
      "the-american-journal-of-psychiatry\n",
      "the-american-journal-of-surgery\n",
      "the-american-midland-naturalist\n",
      "the-american-naturalist\n",
      "the-astrophysical-journal\n",
      "the-auk\n",
      "the-biological-bulletin\n",
      "the-bone-and-joint-journal\n",
      "the-british-journal-for-the-philosophy-of-science\n",
      "the-british-journal-of-cardiology\n",
      "the-british-journal-of-psychiatry\n",
      "the-british-journal-of-sociology\n",
      "the-canadian-geographer\n",
      "the-chemical-society-of-japan\n",
      "the-company-of-biologists\n",
      "the-design-journal\n",
      "the-egyptian-heart-journal\n",
      "the-embo-journal\n",
      "the-faseb-journal\n",
      "the-febs-journal\n",
      "the-geological-society-of-america\n",
      "the-geological-society-of-london\n",
      "the-hastings-center-report\n",
      "the-historical-journal\n",
      "the-holocene\n",
      "the-institute-of-electronics-information-and-communication-engineers\n",
      "the-institution-of-engineering-and-technology\n",
      "the-international-journal-of-developmental-biology\n",
      "the-international-journal-of-psychoanalysis\n",
      "the-isme-journal\n",
      "the-journal-of-adhesive-dentistry\n",
      "the-journal-of-agricultural-science\n",
      "the-journal-of-clinical-investigation\n",
      "the-journal-of-comparative-neurology\n",
      "the-journal-of-egyptian-archaeology\n",
      "the-journal-of-eukaryotic-microbiology\n",
      "the-journal-of-hellenic-studies\n",
      "the-journal-of-immunology\n",
      "the-journal-of-infection-in-developing-countries\n",
      "the-journal-of-juristic-papyrology\n",
      "the-journal-of-modern-history\n",
      "the-journal-of-molecular-diagnostics\n",
      "the-journal-of-neuropsychiatry-and-clinical-neurosciences\n",
      "the-journal-of-neuroscience\n",
      "the-journal-of-nuclear-medicine\n",
      "the-journal-of-pain\n",
      "the-journal-of-parasitology\n",
      "the-journal-of-pathology\n",
      "the-journal-of-peasant-studies\n",
      "the-journal-of-physiology\n",
      "the-journal-of-pure-and-applied-chemistry-research\n",
      "the-journal-of-roman-studies\n",
      "the-journal-of-the-acoustical-society-of-america\n",
      "the-journal-of-the-torrey-botanical-society\n",
      "the-journal-of-urology\n",
      "the-journal-of-wildlife-management\n",
      "the-journals-of-gerontology-series-a\n",
      "the-lancet\n",
      "the-lichenologist\n",
      "the-national-medical-journal-of-india\n",
      "the-neuroscientist\n",
      "the-new-england-journal-of-medicine\n",
      "the-oncologist\n",
      "the-open-university-a251\n",
      "the-open-university-harvard\n",
      "the-open-university-m801\n",
      "the-open-university-numeric-superscript\n",
      "the-open-university-numeric\n",
      "the-optical-society\n",
      "the-plant-cell\n",
      "the-plant-journal\n",
      "the-review-of-financial-studies\n",
      "the-rockefeller-university-press\n",
      "the-saudi-journal-for-dental-research\n",
      "the-scandinavian-journal-of-clinical-and-laboratory-investigation\n",
      "the-world-journal-of-biological-psychiatry\n",
      "theologie-und-philosophie\n",
      "theory-culture-and-society\n",
      "thieme-german\n",
      "thomson-reuters-legal-tax-and-accounting-australia\n",
      "thrombosis-and-haemostasis\n",
      "tijdschrift-voor-economische-en-sociale-geografie\n",
      "tissue-engineering\n",
      "toxicological-sciences\n",
      "traces\n",
      "traffic-injury-prevention\n",
      "traffic\n",
      "transactions-of-the-american-philological-association\n",
      "transactions-of-the-materials-research-society-of-japan\n",
      "transboundary-and-emerging-diseases\n",
      "transplantation\n",
      "transportation-research-record\n",
      "tree-physiology\n",
      "trends-journals\n",
      "triangle\n",
      "tropical-animal-health-and-production\n",
      "turabian-fullnote-bibliography\n",
      "u-schylku-starozytnosci\n",
      "ugeskrift-for-laeger\n",
      "ultrasound-in-medicine-and-biology\n",
      "unified-style-linguistics\n",
      "united-nations-conference-on-trade-and-development\n",
      "united-nations-framework-convention-on-climate-change\n",
      "universidad-autonoma-cidudad-juarez-estilo-latino-humanistico\n",
      "universidad-evangelica-del-paraguay\n",
      "universidade-de-sao-paulo-instituto-de-matematica-e-estatistica\n",
      "universidade-estadual-do-oeste-do-parana-programa-institucional-de-bolsas-de-iniciacao-cientifica\n",
      "universita-cattolica-del-sacro-cuore\n",
      "universita-di-bologna-lettere\n",
      "universita-pontificia-salesiana-it\n",
      "universita-pontificia-salesiana\n",
      "universitas-negeri-semarang-fakultas-matematika-dan-ilmu-pengetahuan-alam\n",
      "universitat-bremen-institut-fur-politikwissenschaft\n",
      "universitat-freiburg-geschichte\n",
      "universitat-heidelberg-historisches-seminar\n",
      "universitat-mainz-geographisches-institut\n",
      "universitatsmedizin-gottingen\n",
      "universite-de-liege-droit\n",
      "universite-de-liege-histoire\n",
      "universite-de-montreal-apa\n",
      "universite-de-picardie-jules-verne-ufr-de-medecine\n",
      "universite-de-sherbrooke-departement-de-geomatique\n",
      "universite-de-sherbrooke-faculte-d-education\n",
      "universite-du-quebec-a-montreal\n",
      "universite-laval-departement-des-sciences-historiques\n",
      "universite-laval-departement-dinformation-et-de-communication\n",
      "universite-laval-faculte-de-theologie-et-de-sciences-religieuses\n",
      "universite-libre-de-bruxelles-histoire\n",
      "universiteit-utrecht-onderzoeksgids-geschiedenis\n",
      "university-college-dublin-school-of-history-and-archives\n",
      "university-college-lillebaelt-apa\n",
      "university-college-lillebaelt-harvard\n",
      "university-college-lillebaelt-vancouver\n",
      "university-for-the-creative-arts-figures\n",
      "university-of-helsinki-faculty-of-theology\n",
      "university-of-lincoln-harvard\n",
      "university-of-new-england-australia-note\n",
      "university-of-south-australia-harvard-2011\n",
      "university-of-south-australia-harvard-2013\n",
      "university-of-zabol-fa\n",
      "university-of-zabol\n",
      "uppsala-universitet-historia\n",
      "uppsala-universitet-institutionen-for-biologisk-grundutbildning\n",
      "urban-habitats\n",
      "urban-studies\n",
      "urological-science\n",
      "us-geological-survey\n",
      "user-modeling-and-user-adapted-interaction\n",
      "uspekhi-gerontologii\n",
      "utah-geological-survey\n",
      "vancouver-author-date\n",
      "vancouver-brackets-no-et-al\n",
      "vancouver-brackets-only-year-no-issue\n",
      "vancouver-brackets\n",
      "vancouver-fr-ca\n",
      "vancouver-imperial-college-london\n",
      "vancouver-superscript-brackets-only-year\n",
      "vancouver-superscript-only-year\n",
      "vancouver-superscript\n",
      "vancouver\n",
      "veterinary-medicine-austria\n",
      "veterinary-pathology\n",
      "veterinary-radiology-and-ultrasound\n",
      "veterinary-record\n",
      "victoria-university-harvard\n",
      "vienna-legal\n",
      "vietnam-ministry-of-education-and-training-en\n",
      "vietnam-ministry-of-education-and-training-vi\n",
      "vigiliae-christianae\n",
      "vilnius-gediminas-technical-university\n",
      "vingtieme-siecle\n",
      "vita-latina-auteurs-anciens\n",
      "vita-latina\n",
      "vodohospodarske-technicko-ekonomicke-informace-en\n",
      "vodohospodarske-technicko-ekonomicke-informace\n",
      "water-alternatives\n",
      "water-environment-research\n",
      "water-sa\n",
      "water-science-and-technology\n",
      "waterbirds\n",
      "weed-science-society-of-america\n",
      "west-european-politics\n",
      "wetlands\n",
      "wheaton-college-phd-in-biblical-and-theological-studies\n",
      "who-europe-harvard\n",
      "who-europe-numeric\n",
      "wiley-vch-books\n",
      "wireless-communications-and-mobile-computing\n",
      "wirtschaftsuniversitat-wien-handel-und-marketing\n",
      "wirtschaftsuniversitat-wien-master-management\n",
      "wirtschaftsuniversitat-wien-wirtschaftspadagogik\n",
      "wissenschaftlicher-industrielogistik-dialog\n",
      "world-applied-sciences-journal\n",
      "world-congress-on-engineering-asset-management\n",
      "world-journal-of-gastroenterology\n",
      "world-mycotoxin-journal\n",
      "world-organisation-for-animal-health-scientific-and-technical-review\n",
      "world-politcs\n",
      "worlds-poultry-science-journal\n",
      "xenotransplantation\n",
      "yeast\n",
      "zastosowania-komputerow-w-elektrotechnice\n",
      "zdravniski-vestnik\n",
      "zeitschrift-fur-deutsche-philologie\n",
      "zeitschrift-fur-die-geschichte-des-oberrheins\n",
      "zeitschrift-fur-internationale-beziehungen\n",
      "zeitschrift-fur-kunstgeschichte\n",
      "zeitschrift-fur-medienwissenschaft\n",
      "zeitschrift-fur-padagogik\n",
      "zeitschrift-fur-religionswissenschaft-author-date\n",
      "zeitschrift-fur-religionswissenschaft-note\n",
      "zeitschrift-fur-soziologie\n",
      "zeitschrift-fur-theologie-und-kirche\n",
      "zeszyty-prawnicze-bas\n",
      "zookeys\n",
      "zoological-journal-of-the-linnean-society\n",
      "zootaxa\n",
      "zwitscher-maschine\n"
     ]
    }
   ],
   "source": [
    "for s in cn.csl_styles(verify=False):\n",
    "#     c2 = cn.content_negotiation(ids = pub_doi, format = \"text\", style=s, verify=False)\n",
    "#     if c2 != citation:\n",
    "#         print(s)\n",
    "#         print(c2)\n",
    "    print(s)"
   ]
  },
  {
   "cell_type": "code",
   "execution_count": null,
   "metadata": {
    "collapsed": true
   },
   "outputs": [],
   "source": []
  }
 ],
 "metadata": {
  "kernelspec": {
   "display_name": "Python 3",
   "language": "python",
   "name": "python3"
  },
  "language_info": {
   "codemirror_mode": {
    "name": "ipython",
    "version": 3
   },
   "file_extension": ".py",
   "mimetype": "text/x-python",
   "name": "python",
   "nbconvert_exporter": "python",
   "pygments_lexer": "ipython3",
   "version": "3.5.4"
  }
 },
 "nbformat": 4,
 "nbformat_minor": 2
}
