{
 "cells": [
  {
   "cell_type": "markdown",
   "metadata": {},
   "source": [
    "### Import the libraries we'll be using"
   ]
  },
  {
   "cell_type": "code",
   "execution_count": null,
   "metadata": {
    "collapsed": true
   },
   "outputs": [],
   "source": [
    "import os\n",
    "import shutil\n",
    "\n",
    "import pandas as pd\n",
    "\n",
    "import pysb\n",
    "from pymdwizard.core.xml_utils import XMLRecord, XMLNode"
   ]
  },
  {
   "cell_type": "markdown",
   "metadata": {},
   "source": [
    "### Run through them all"
   ]
  },
  {
   "cell_type": "code",
   "execution_count": null,
   "metadata": {
    "collapsed": true
   },
   "outputs": [],
   "source": [
    "parent_sb_id = '599f2faae4b0e5eb065ee647'\n",
    "source_data_dname = r\"X:\\Individual Shared Data\\hbattlesmanley\\ftp.cdc.noaa.gov\\Projects\\CMIP5C\\MACA\\Data4USGS\""
   ]
  },
  {
   "cell_type": "code",
   "execution_count": null,
   "metadata": {},
   "outputs": [],
   "source": [
    "sb = pysb.SbSession()\n",
    "#PROMPT A USER FOR PASSWORD\n",
    "username = \"talbertc@usgs.gov\"\n",
    "sb.loginc(str(username))\n",
    "print(\"You are now connected.\")"
   ]
  },
  {
   "cell_type": "code",
   "execution_count": null,
   "metadata": {},
   "outputs": [],
   "source": [
    "item_json = sb.get_item(parent_sb_id)\n",
    "# parent_citation = item_json['citation']\n",
    "item_json"
   ]
  },
  {
   "cell_type": "code",
   "execution_count": null,
   "metadata": {},
   "outputs": [],
   "source": [
    "child_lookup = {}\n",
    "for child_id in sb.get_child_ids(parent_sb_id):\n",
    "    child_item = sb.get_item(child_id)\n",
    "    child_lookup[child_item['title']] = child_id\n",
    "    \n",
    "child_lookup"
   ]
  },
  {
   "cell_type": "code",
   "execution_count": null,
   "metadata": {},
   "outputs": [],
   "source": [
    "child_item['title']"
   ]
  },
  {
   "cell_type": "code",
   "execution_count": null,
   "metadata": {},
   "outputs": [],
   "source": [
    "for child_dname in os.listdir(source_data_dname):\n",
    "    print(child_dname)\n",
    "    if child_dname not in child_lookup:\n",
    "        print(child_dname, 'missing')\n",
    "    else:\n",
    "        child_sb_number = child_lookup[child_dname]\n",
    "        for child_fname in os.listdir(os.path.join(source_data_dname, child_dname)):\n",
    "            child_item = sb.get_item(child_sb_number)\n",
    "            child_full_fname = os.path.join(source_data_dname, child_dname, child_fname)\n",
    "            sb.upload_file_to_item(child_item, child_full_fname)\n",
    "            print(child_fname)"
   ]
  },
  {
   "cell_type": "code",
   "execution_count": null,
   "metadata": {
    "collapsed": true
   },
   "outputs": [],
   "source": [
    "# for child_id in sb.get_child_ids(parent_sb_id):\n",
    "#     child_item = sb.get_item(child_id)\n",
    "#     sb.delete_item(child_item)"
   ]
  }
 ],
 "metadata": {
  "kernelspec": {
   "display_name": "Python 3",
   "language": "python",
   "name": "python3"
  },
  "language_info": {
   "codemirror_mode": {
    "name": "ipython",
    "version": 3
   },
   "file_extension": ".py",
   "mimetype": "text/x-python",
   "name": "python",
   "nbconvert_exporter": "python",
   "pygments_lexer": "ipython3",
   "version": "3.5.4"
  }
 },
 "nbformat": 4,
 "nbformat_minor": 2
}
