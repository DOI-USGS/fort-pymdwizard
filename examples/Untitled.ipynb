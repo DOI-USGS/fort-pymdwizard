{
 "cells": [
  {
   "cell_type": "code",
   "execution_count": 1,
   "metadata": {
    "collapsed": true
   },
   "outputs": [],
   "source": [
    "import docx\n",
    "from docx.oxml import OxmlElement\n",
    "from docx.oxml.ns import qn"
   ]
  },
  {
   "cell_type": "code",
   "execution_count": 2,
   "metadata": {},
   "outputs": [
    {
     "data": {
      "text/plain": [
       "'C:\\\\Anaconda3\\\\envs\\\\Python35_64\\\\lib\\\\site-packages\\\\docx\\\\__init__.py'"
      ]
     },
     "execution_count": 2,
     "metadata": {},
     "output_type": "execute_result"
    }
   ],
   "source": [
    "docx.__file__"
   ]
  },
  {
   "cell_type": "code",
   "execution_count": null,
   "metadata": {
    "collapsed": true
   },
   "outputs": [],
   "source": []
  },
  {
   "cell_type": "code",
   "execution_count": 16,
   "metadata": {},
   "outputs": [],
   "source": [
    "def add_comment_start_to_run(run, id):\n",
    "    commentRangeStart = OxmlElement('w:commentRangeStart')\n",
    "    commentRangeStart.set(qn('w:id'), str(id))\n",
    "    insert_comment_element(run, commentRangeStart)\n",
    "    \n",
    "def add_comment_end_to_run(run, id):\n",
    "    commentRangeEnd = OxmlElement('w:commentRangeEnd')\n",
    "    commentRangeEnd.set(qn('w:id'), str(id))\n",
    "    insert_comment_element(run, commentRangeEnd)\n",
    "    \n",
    "def add_comment_reference_to_run(run, id):\n",
    "    commentReference = OxmlElement('w:commentReference')\n",
    "    commentReference.set(qn('w:id'), str(id))\n",
    "    \n",
    "    \n",
    "def insert_comment_element(run, element):\n",
    "    r = run._r\n",
    "    rPr = r.rPr\n",
    "    if rPr is None:\n",
    "        r.insert(0, element)\n",
    "    else:\n",
    "        rPr.addnext(element)\n",
    "\n"
   ]
  },
  {
   "cell_type": "code",
   "execution_count": 20,
   "metadata": {},
   "outputs": [],
   "source": [
    "import docx\n",
    "from docx.oxml import OxmlElement\n",
    "from docx.oxml.ns import qn\n",
    "\n",
    "def make_element(which, id):\n",
    "    element = OxmlElement('w:{}'.format(which))\n",
    "    element.set(qn('w:id'), str(id))\n",
    "    return element\n",
    "\n",
    "document = docx.Document()\n",
    "\n",
    "p = document.add_paragraph(\"Start of line \")\n",
    "\n",
    "r = p.add_run(\"Commented end of line\")\n",
    "start = make_element('commentRangeStart', 0)\n",
    "p._p.insert(1, start)\n",
    "end = make_element('commentRangeEnd', 0)\n",
    "p._p.append(end)\n",
    "r2 = p.add_run()\n",
    "end = make_element('commentReference', 0)\n",
    "r2._r.addnext(end)\n",
    "\n",
    "\n",
    "document.save(r\"test_comment.docx\")"
   ]
  },
  {
   "cell_type": "code",
   "execution_count": 28,
   "metadata": {},
   "outputs": [
    {
     "ename": "TypeError",
     "evalue": "load() missing 3 required positional arguments: 'content_type', 'blob', and 'package'",
     "output_type": "error",
     "traceback": [
      "\u001b[1;31m---------------------------------------------------------------------------\u001b[0m",
      "\u001b[1;31mTypeError\u001b[0m                                 Traceback (most recent call last)",
      "\u001b[1;32m<ipython-input-28-5fe464af9d8e>\u001b[0m in \u001b[0;36m<module>\u001b[1;34m()\u001b[0m\n\u001b[1;32m----> 1\u001b[1;33m \u001b[0mdocument\u001b[0m\u001b[1;33m.\u001b[0m\u001b[0mpart\u001b[0m\u001b[1;33m.\u001b[0m\u001b[0mload\u001b[0m\u001b[1;33m(\u001b[0m\u001b[1;34m'comments'\u001b[0m\u001b[1;33m)\u001b[0m\u001b[1;33m\u001b[0m\u001b[0m\n\u001b[0m",
      "\u001b[1;31mTypeError\u001b[0m: load() missing 3 required positional arguments: 'content_type', 'blob', and 'package'"
     ]
    }
   ],
   "source": [
    "document.part.load('comments')"
   ]
  },
  {
   "cell_type": "code",
   "execution_count": 25,
   "metadata": {},
   "outputs": [
    {
     "data": {
      "text/plain": [
       "['__class__',\n",
       " '__delattr__',\n",
       " '__dict__',\n",
       " '__dir__',\n",
       " '__doc__',\n",
       " '__eq__',\n",
       " '__format__',\n",
       " '__ge__',\n",
       " '__getattribute__',\n",
       " '__gt__',\n",
       " '__hash__',\n",
       " '__init__',\n",
       " '__le__',\n",
       " '__lt__',\n",
       " '__module__',\n",
       " '__ne__',\n",
       " '__new__',\n",
       " '__reduce__',\n",
       " '__reduce_ex__',\n",
       " '__repr__',\n",
       " '__setattr__',\n",
       " '__sizeof__',\n",
       " '__str__',\n",
       " '__subclasshook__',\n",
       " '__weakref__',\n",
       " '_blob',\n",
       " '_content_type',\n",
       " '_element',\n",
       " '_inline_shapes',\n",
       " '_numbering_part',\n",
       " '_package',\n",
       " '_partname',\n",
       " '_rel_ref_count',\n",
       " '_rels',\n",
       " '_settings_part',\n",
       " '_styles_part',\n",
       " 'after_unmarshal',\n",
       " 'before_marshal',\n",
       " 'blob',\n",
       " 'content_type',\n",
       " 'core_properties',\n",
       " 'document',\n",
       " 'drop_rel',\n",
       " 'element',\n",
       " 'get_or_add_image',\n",
       " 'get_style',\n",
       " 'get_style_id',\n",
       " 'inline_shapes',\n",
       " 'load',\n",
       " 'load_rel',\n",
       " 'new_pic_inline',\n",
       " 'next_id',\n",
       " 'numbering_part',\n",
       " 'package',\n",
       " 'part',\n",
       " 'part_related_by',\n",
       " 'partname',\n",
       " 'relate_to',\n",
       " 'related_parts',\n",
       " 'rels',\n",
       " 'save',\n",
       " 'settings',\n",
       " 'styles',\n",
       " 'target_ref']"
      ]
     },
     "execution_count": 25,
     "metadata": {},
     "output_type": "execute_result"
    }
   ],
   "source": [
    "dir(document.part)"
   ]
  },
  {
   "cell_type": "code",
   "execution_count": null,
   "metadata": {
    "collapsed": true
   },
   "outputs": [],
   "source": []
  },
  {
   "cell_type": "code",
   "execution_count": null,
   "metadata": {
    "collapsed": true
   },
   "outputs": [],
   "source": []
  },
  {
   "cell_type": "code",
   "execution_count": null,
   "metadata": {
    "collapsed": true
   },
   "outputs": [],
   "source": []
  },
  {
   "cell_type": "code",
   "execution_count": 1,
   "metadata": {},
   "outputs": [
    {
     "ename": "NameError",
     "evalue": "name 'Mock' is not defined",
     "output_type": "error",
     "traceback": [
      "\u001b[1;31m---------------------------------------------------------------------------\u001b[0m",
      "\u001b[1;31mNameError\u001b[0m                                 Traceback (most recent call last)",
      "\u001b[1;32m<ipython-input-1-c2168c948b3e>\u001b[0m in \u001b[0;36m<module>\u001b[1;34m()\u001b[0m\n\u001b[0;32m      2\u001b[0m \u001b[0mrId\u001b[0m \u001b[1;33m=\u001b[0m \u001b[1;34m'rId9'\u001b[0m\u001b[1;33m\u001b[0m\u001b[0m\n\u001b[0;32m      3\u001b[0m \u001b[0mreltype\u001b[0m \u001b[1;33m=\u001b[0m \u001b[1;34m'reltype'\u001b[0m\u001b[1;33m\u001b[0m\u001b[0m\n\u001b[1;32m----> 4\u001b[1;33m \u001b[0mtarget\u001b[0m \u001b[1;33m=\u001b[0m \u001b[0mMock\u001b[0m\u001b[1;33m(\u001b[0m\u001b[0mname\u001b[0m\u001b[1;33m=\u001b[0m\u001b[1;34m'target_part'\u001b[0m\u001b[1;33m)\u001b[0m\u001b[1;33m\u001b[0m\u001b[0m\n\u001b[0m\u001b[0;32m      5\u001b[0m \u001b[0mexternal\u001b[0m \u001b[1;33m=\u001b[0m \u001b[1;32mFalse\u001b[0m\u001b[1;33m\u001b[0m\u001b[0m\n\u001b[0;32m      6\u001b[0m \u001b[1;31m# exercise ---------------------\u001b[0m\u001b[1;33m\u001b[0m\u001b[1;33m\u001b[0m\u001b[0m\n",
      "\u001b[1;31mNameError\u001b[0m: name 'Mock' is not defined"
     ]
    }
   ],
   "source": [
    "from docx.opc.rel import _Relationship, Relationships\n",
    "rId = 'rId9'\n",
    "reltype = 'reltype'\n",
    "target = Mock(name='target_part')\n",
    "external = False\n",
    "# exercise ---------------------\n",
    "rel = _Relationship(rId, reltype, target, None, external)\n",
    "\n",
    "rel\n"
   ]
  },
  {
   "cell_type": "code",
   "execution_count": 12,
   "metadata": {},
   "outputs": [],
   "source": [
    "rel9 = document.part.rels['rId9']"
   ]
  },
  {
   "cell_type": "code",
   "execution_count": 14,
   "metadata": {},
   "outputs": [],
   "source": [
    "document.save((r\"C:\\Users\\talbertc\\Downloads\\test_comment2.docx\"))"
   ]
  },
  {
   "cell_type": "code",
   "execution_count": 2,
   "metadata": {},
   "outputs": [
    {
     "data": {
      "text/plain": [
       "['DistributionNotFound',\n",
       " 'SbSession',\n",
       " '__author__',\n",
       " '__builtins__',\n",
       " '__cached__',\n",
       " '__doc__',\n",
       " '__file__',\n",
       " '__loader__',\n",
       " '__name__',\n",
       " '__package__',\n",
       " '__path__',\n",
       " '__spec__',\n",
       " '__version__',\n",
       " 'get_distribution']"
      ]
     },
     "execution_count": 2,
     "metadata": {},
     "output_type": "execute_result"
    }
   ],
   "source": [
    "dir(pysb)"
   ]
  },
  {
   "cell_type": "code",
   "execution_count": 5,
   "metadata": {
    "collapsed": true
   },
   "outputs": [],
   "source": [
    "fname = r\"s1210_1872-10-00_BW_Neg_Kanab.tif\""
   ]
  },
  {
   "cell_type": "code",
   "execution_count": 7,
   "metadata": {},
   "outputs": [
    {
     "data": {
      "text/plain": [
       "'1872'"
      ]
     },
     "execution_count": 7,
     "metadata": {},
     "output_type": "execute_result"
    }
   ],
   "source": [
    "fname.split('_')[1].split('-')[0]"
   ]
  },
  {
   "cell_type": "code",
   "execution_count": 9,
   "metadata": {
    "collapsed": true
   },
   "outputs": [],
   "source": [
    "import getpass"
   ]
  },
  {
   "cell_type": "code",
   "execution_count": 10,
   "metadata": {},
   "outputs": [
    {
     "name": "stdout",
     "output_type": "stream",
     "text": [
      "········\n"
     ]
    }
   ],
   "source": [
    "username = 'talbertc@usgs.gov'\n",
    "password = getpass.getpass()"
   ]
  },
  {
   "cell_type": "code",
   "execution_count": 13,
   "metadata": {},
   "outputs": [
    {
     "data": {
      "text/plain": [
       "'talbertc'"
      ]
     },
     "execution_count": 13,
     "metadata": {},
     "output_type": "execute_result"
    }
   ],
   "source": [
    "getpass.getuser()"
   ]
  },
  {
   "cell_type": "code",
   "execution_count": 12,
   "metadata": {},
   "outputs": [
    {
     "name": "stdout",
     "output_type": "stream",
     "text": [
      "Public Item: {'parentId': '56d87142e4b015c306f6cf9b', 'relatedItems': {'link': {'url': 'https://www.sciencebase.gov/catalog/itemLinks?itemId=57857d5de4b0e02680bfda23', 'rel': 'related'}}, 'locked': False, 'id': '57857d5de4b0e02680bfda23', 'subTitle': 'CDI Data at Risk FY16', 'alternateTitles': [''], 'citation': 'Hartwell, M., T.L. Arundel, C. Diab, C. Falvo, A.L. Everette, J. Faundeen. 2017. USGS Southwest Repeat Photography Collection: Kanab Creek, Southern UT and Northern AZ, 1872-2010. USGS Data Release. doi: 10.5066/F72R3Q5W. ', 'identifiers': [{'scheme': 'https://www.sciencebase.gov/vocab/category/item/identifier', 'type': 'DOI', 'key': '10.5066/F72R3Q5W'}, {'scheme': 'https://www.sciencebase.gov/vocab/category/item/identifier', 'type': 'IPDS', 'key': 'IP-082270'}], 'extents': [33, 15], 'files': [{'size': 849271, 'title': 'User Defined Scan Settings Doc', 'name': 'User_Defined_Scan_Settings_and_Photoshop_Editing_Guide.docx.docx', 'processed': False, 's3Object': None, 'processToken': None, 'url': 'https://www.sciencebase.gov/catalog/file/get/57857d5de4b0e02680bfda23?f=__disk__97%2Fbc%2Ffa%2F97bcfad902b1bdc34a5f8ba7ff74bf8c7e16447c', 'imageWidth': None, 'pathOnDisk': '__disk__97/bc/fa/97bcfad902b1bdc34a5f8ba7ff74bf8c7e16447c', 'originalMetadata': False, 'uploadedBy': 'cfalvo@usgs.gov', 'useForPreview': False, 'imageHeight': None, 'checksum': {'value': '74f7b1699e384c2c3e3bcc42289e3aa0', 'type': 'MD5'}, 'contentEncoding': None, 'contentType': 'application/vnd.openxmlformats-officedocument.wordprocessingml.document', 'dateUploaded': '2017-04-20T20:44:14Z'}, {'size': 14291, 'title': 'Project Level Metadata', 'name': 'USGS-Southwest-Repeat-Photography-Collection_Kanab-Creek_1872-2010_Project-Level-Metadata.xml', 'processed': False, 's3Object': None, 'processToken': None, 'url': 'https://www.sciencebase.gov/catalog/file/get/57857d5de4b0e02680bfda23?f=__disk__23%2Fd2%2Fba%2F23d2ba1c8db27cfee663d9314027d5aaa7f50dc8', 'imageWidth': None, 'pathOnDisk': '__disk__23/d2/ba/23d2ba1c8db27cfee663d9314027d5aaa7f50dc8', 'originalMetadata': True, 'uploadedBy': 'cfalvo@usgs.gov', 'useForPreview': False, 'imageHeight': None, 'checksum': {'value': '1288a0b847e6c68dad5e55ab5ccdcba6', 'type': 'MD5'}, 'contentEncoding': None, 'contentType': 'application/fgdc+xml', 'dateUploaded': '2017-06-01T16:48:08Z'}, {'size': 17085, 'title': 'Stake Locations Zip Folder', 'name': 'Stake_Locations.zip', 'processed': False, 's3Object': None, 'processToken': None, 'url': 'https://www.sciencebase.gov/catalog/file/get/57857d5de4b0e02680bfda23?f=__disk__59%2F7b%2F2a%2F597b2a486ae044171597c6e0412d046b7f0be698', 'imageWidth': None, 'pathOnDisk': '__disk__59/7b/2a/597b2a486ae044171597c6e0412d046b7f0be698', 'originalMetadata': False, 'uploadedBy': 'cfalvo@usgs.gov', 'useForPreview': False, 'imageHeight': None, 'checksum': {'value': '5ccae9ecee6837d4e80e4c8dd710347b', 'type': 'MD5'}, 'contentEncoding': None, 'contentType': 'application/zip', 'dateUploaded': '2017-06-05T15:32:58Z'}], 'browseTypes': ['Citation', 'Map Service', 'OGC WMS Service', 'OGC WFS Layer', 'OGC WMS Layer'], 'title': 'USGS Southwest Repeat Photography Collection: Kanab Creek, southern UT and northern AZ, 1872-2010', 'purpose': 'This data release is the result of the 2016 USGS Community for Data Integration’s “Data at Risk” legacy data inventory and preservation project (a.k.a. DaR). The project’s purpose was to identify and prioritize USGS legacy data at risk of loss or damage and document the time and costs required to preserve them. The DaR project was coordinated by The USGS Fort Collins Science Center who partnered with the USGS Southwest Biological Science Center to preserve the Kanab Creek portion of the USGS Southwest Repeat Photography Collection. This data release provides a previously unavailable record of landscape change along Kanab Creek as well as realistic time and resource estimates for future legacy data preservation projects.', 'webLinks': [{'hidden': False, 'uri': 'http://dx.doi.org/10.5066/xxxxxxxx', 'rel': 'related', 'type': 'webLink'}], 'distributionLinks': [{'title': 'KML Service', 'name': '', 'uri': 'https://www.sciencebase.gov/catalogMaps/mapping/ows/57857d5de4b0e02680bfda23?mode=download&request=kml&service=wms&layers=footprint,childrenBoundingBox,children', 'type': 'kml', 'rel': 'alternate', 'typeLabel': 'KML Download', 'files': ''}, {'title': 'ScienceBase WMS Service', 'name': '', 'uri': 'https://www.sciencebase.gov/catalogMaps/mapping/ows/57857d5de4b0e02680bfda23?service=wms&request=getcapabilities&version=1.3.0', 'type': 'serviceCapabilitiesUrl', 'rel': 'alternate', 'typeLabel': 'OGC Service Capabilities URL', 'files': ''}, {'title': 'ScienceBase Collection JSON', 'name': '', 'uri': 'https://www.sciencebase.gov/catalog/items?parentId=57857d5de4b0e02680bfda23&format=json', 'type': 'repo', 'rel': 'alternate', 'typeLabel': 'ScienceBase Repository', 'files': ''}, {'title': 'ScienceBase Collection ATOM', 'name': '', 'uri': 'https://www.sciencebase.gov/catalog/items?parentId=57857d5de4b0e02680bfda23&format=atom', 'type': 'repo', 'rel': 'alternate', 'typeLabel': 'ScienceBase Repository', 'files': ''}, {'title': 'ScienceBase Collection CSV', 'name': '', 'uri': 'https://www.sciencebase.gov/catalog/items?parentId=57857d5de4b0e02680bfda23&format=csv', 'type': 'repo', 'rel': 'alternate', 'typeLabel': 'ScienceBase Repository', 'files': ''}, {'title': 'ScienceBase OAI PMH Service', 'name': '', 'uri': 'https://www.sciencebase.gov/catalog/oai-pmh?verb=ListRecords&metadataPrefix=fgdc-orig&set=57857d5de4b0e02680bfda23', 'type': 'oai-pmh', 'rel': 'alternate', 'typeLabel': 'OAI-PMH', 'files': ''}, {'title': 'ScienceBase CSW Service', 'name': '', 'uri': 'https://www.sciencebase.gov/catalog/item/57857d5de4b0e02680bfda23/csw?service=CSW&version=2.0.2&request=GetRecords', 'type': 'csw', 'rel': 'alternate', 'typeLabel': '', 'files': ''}, {'title': 'Download Attached Files', 'name': 'USGSSouthwestRe.zip', 'uri': 'https://www.sciencebase.gov/catalog/file/get/57857d5de4b0e02680bfda23', 'type': 'downloadLink', 'rel': 'alternate', 'typeLabel': 'Download Link', 'files': [{'title': 'User Defined Scan Settings Doc', 'name': 'User_Defined_Scan_Settings_and_Photoshop_Editing_Guide.docx.docx', 'contentType': 'application/vnd.openxmlformats-officedocument.wordprocessingml.document'}, {'title': 'Project Level Metadata', 'name': 'USGS-Southwest-Repeat-Photography-Collection_Kanab-Creek_1872-2010_Project-Level-Metadata.xml', 'contentType': 'application/fgdc+xml'}, {'title': 'Stake Locations Zip Folder', 'name': 'Stake_Locations.zip', 'contentType': 'application/zip'}]}], 'systemTypes': ['Folder'], 'provenance': {'dataSource': 'Input directly', 'dateCreated': '2016-07-12T23:29:33Z', 'createdBy': 'everettel@usgs.gov', 'lastUpdated': '2017-06-05T15:33:10Z', 'lastUpdatedBy': 'cfalvo@usgs.gov'}, 'body': 'The USGS Southwest Repeat Photography Collection (formerly The Desert Laboratory Repeat Photography Collection), now housed by the Southwest Biological Science Center in Flagstaff, Arizona, is the largest repeat photography collection in the world, with images from the late 1800s to 2000s. This FY2016 data preservation project preserves the Kanab Creek portion of this famous collection. Repeat photographs are used to document landscape changes over time and are taken at precisely the same locations at specific sites at different times (Webb and others, 2007). Along Kanab Creek, 80 different stake locations were documented with photographs and written notes periodically between 1872 and 2010. The stake locations, or ‘stakes’ were assigned a stake number denoted with the letter ‘s’ in front of a number (e.g., s1234). Each stake has a physical folder where all physical materials collected over time for that location have been consolidated. The folders contain print photographs, field notes, Record of Repeat Photography sheets and other paper materials. Photographs were taken at the stakes over a period of 130 years. The photographic film is stored within archival envelopes within fire safes at SBSC for security. The goal of this preservation project was to digitize the best quality images and paper materials for each stake along Kanab Creek&nbsp;&nbsp;in order to preserve the long term visual record.&nbsp;<br>\\n<br>\\nWithout digital preservation, the Collection remains vulnerable to loss by fire, water or deterioration. The objective of the Kanab Creek preservation project is to digitally preserve the contents and the photographic film of each of the 80 stake folders. We will use this project as an example to model the preservation efforts for the rest of the Collection. This Collection’s legacy is that it is a chronicle of the history of place; a pictorial analysis of how particular landscapes have changed over time due to anthropogenic and ecological causes. The photographers traveled with different expeditions and had various purposes, but generally the photos were intended to capture a record of landscape features and change, debris flows, vegetation patterns and human settlement. Hosting repeat images and their data on the web provides a public record of historical locations and facilitates future research on environmental change.&nbsp;<br>\\n<br>\\nThis metadata record describes the landing page for the Kanab Creek Collection. The landing page contains 80 child items, each representing a different stake location along Kanab Creek. Each child item provides digital copies of images and field notes from each stake, and has an associated metadata record that describes the contents of the page. This landing page includes all child items, geospatial references for all stake locations (SHP file), a spreadsheet with supplemental information for each stake (CSV file), a metadata record that describes both the SHP file and the CSV, this metadata record, and a document describing the scanning protocols for this preservation process.&nbsp;<br>\\n<br>\\nThe Kanab Creek Pilot&nbsp;&nbsp;represents a small geographic subset within the USGS Southwest Repeat Photography Collection. For the purposes of this project we will be working with this subset in order to assess the time and protocols necessary to digitize and release the entire Collection. It is important to note that since images were taken by various repeat photography expeditions at different times and for different research purposes, stake numbers do not follow a logical geographical order along Kanab Creek.', 'permissions': {'read': {'acl': [], 'inherited': False}, 'write': {'acl': ['USER:afreeman@usgs.gov', 'USER:cfalvo@usgs.gov', 'USER:epatterson@usgs.gov', 'USER:everettel@usgs.gov', 'USER:faundeen@usgs.gov', 'USER:mhartwell@usgs.gov', 'USER:talbertc@usgs.gov', 'USER:tarundel@usgs.gov'], 'inherited': False}}, 'link': {'url': 'https://www.sciencebase.gov/catalog/item/57857d5de4b0e02680bfda23', 'rel': 'self'}, 'previewImage': {'thumbnail': {'width': 150, 'uri': 'https://www.sciencebase.gov/catalog/file/get/57857d5de4b0e02680bfda23?f=__disk__b8%2F72%2F0b%2Fb8720b52e7fb25cc6c0405ff594dd389d0a79f5d&width=150&height=100', 'height': 100}, 'from': 'mapPreview', 'original': {'size': 184227, 'uri': 'https://www.sciencebase.gov/catalog/file/get/57857d5de4b0e02680bfda23?f=__disk__b8%2F72%2F0b%2Fb8720b52e7fb25cc6c0405ff594dd389d0a79f5d', 'width': 360, 'viewUrl': 'https://www.sciencebase.gov/catalog/file/get/57857d5de4b0e02680bfda23?f=__disk__b8%2F72%2F0b%2Fb8720b52e7fb25cc6c0405ff594dd389d0a79f5d&width=360&height=240', 'viewUri': 'https://www.sciencebase.gov/catalog/file/get/57857d5de4b0e02680bfda23?f=__disk__b8%2F72%2F0b%2Fb8720b52e7fb25cc6c0405ff594dd389d0a79f5d&width=360&height=240', 'height': 240}}, 'summary': 'The USGS Southwest Repeat Photography Collection (formerly The Desert Laboratory Repeat Photography Collection), now housed by the Southwest Biological Science Center in Flagstaff, Arizona, is the largest repeat photography collection in the world, with images from the late 1800s to 2000s. This FY2016 data preservation project preserves the Kanab Creek portion of this famous collection. Repeat photographs are used to document landscape changes over time and are taken at precisely the same locations at specific sites at different times (Webb and others, 2007). Along Kanab Creek, 80 different stake locations were documented with photographs and written notes periodically between 1872 and 2010. The stake locations, or ‘stakes’ were assigned [...]', 'tags': [{'name': 'historic photographs', 'scheme': 'None', 'type': 'Theme'}, {'name': 'negatives', 'scheme': 'None', 'type': 'Theme'}, {'name': 'transparencies', 'scheme': 'None', 'type': 'Theme'}, {'name': 'camera station', 'scheme': 'None', 'type': 'Theme'}, {'name': 'repeat photography', 'scheme': 'None', 'type': 'Theme'}, {'name': 'landscape change', 'scheme': 'None', 'type': 'Theme'}, {'name': 'ecosystem change', 'scheme': 'None', 'type': 'Theme'}, {'name': 'orthochromatic film', 'scheme': 'None', 'type': 'Theme'}, {'name': 'Albion camera', 'scheme': 'None', 'type': 'Theme'}, {'name': 'Dallmeyer lenses', 'scheme': 'None', 'type': 'Theme'}, {'name': 'Stanton expedition', 'scheme': 'None', 'type': 'Theme'}, {'name': 'land surface characteristics', 'scheme': 'USGS Thesaurus', 'type': 'Theme'}, {'name': 'climate change', 'scheme': 'USGS Thesaurus', 'type': 'Theme'}, {'name': 'geomorphology', 'scheme': 'USGS Thesaurus', 'type': 'Theme'}, {'name': 'wetland ecosystems', 'scheme': 'USGS Thesaurus', 'type': 'Theme'}, {'name': 'vegetation', 'scheme': 'USGS Thesaurus', 'type': 'Theme'}, {'name': 'deserts', 'scheme': 'Alexandria Digital Library Feature Type Thesaurus', 'type': 'Theme'}, {'name': 'wetlands', 'scheme': 'Alexandria Digital Library Feature Type Thesaurus', 'type': 'Theme'}, {'name': 'Myotis evotis', 'type': 'species'}], 'hasChildren': True, 'spatial': {'representationalPoint': [-111.9288231665, 36.6669], 'representationalPointIsDerived': True, 'boundingBox': {'maxX': -109.041055, 'maxY': 42.001618333, 'minX': -114.816591333, 'minY': 31.332181667}}, 'contacts': [{'name': 'U.S. Geological Survey, Southwest Region', 'organization': {}, 'type': 'Point of Contact', 'email': 'mhartwell@usgs.gov', 'primaryLocation': {'streetAddress': {}, 'faxPhone': '928-556-7365', 'officePhone': '928-556-7174', 'mailAddress': {'line1': '2255 North Gemini Drive', 'zip': '86001', 'state': 'AZ', 'city': 'Flagstaff'}}, 'contactType': 'organization', 'jobTitle': 'Geographer'}, {'organization': {}, 'name': 'Southwest Biological Science Center', 'primaryLocation': {'streetAddress': {}, 'mailAddress': {}}, 'type': 'Originator'}, {'name': 'Cristiana I Falvo', 'type': 'Metadata Contact', 'lastName': 'Falvo', 'organization': {'displayText': 'Fort Collins Science Center'}, 'jobTitle': 'Technical Support', 'oldPartyId': 73080, 'firstName': 'Cristiana', 'primaryLocation': {'name': 'CN=Cristiana I Falvo,OU=Fort Collins,OU=Users,OU=FortCollinsCO-B,OU=CR,DC=gs,DC=doi,DC=net - Primary Location', 'faxPhone': '9702269230', 'building': 'NRRC Bldg C', 'buildingCode': 'KBA', 'officePhone': '9702269475', 'mailAddress': {}, 'streetAddress': {'line1': '2150 Centre Avenue Bldg C', 'country': 'US', 'zip': '80526', 'state': 'CO', 'city': 'Fort Collins'}}, 'middleName': 'I', 'email': 'cfalvo@usgs.gov', 'contactType': 'person', 'active': True}, {'name': 'U.S. Geological Survey - ScienceBase', 'primaryLocation': {'streetAddress': {}, 'officePhone': '1-888-275-8747', 'mailAddress': {'line1': 'Denver Federal Center, Building 810, Mail Stop 302', 'country': 'USA', 'zip': '80225', 'state': 'CO', 'city': 'Denver'}}, 'type': 'Distributor', 'organization': {}, 'contactType': 'organization', 'email': 'sciencebase@usgs.gov'}], 'dates': [{'dateString': '1872', 'type': 'Start', 'label': 'Start Date'}, {'dateString': '2010', 'type': 'End', 'label': ''}]}\n"
     ]
    }
   ],
   "source": [
    "\n",
    "import os\n",
    "import pysb\n",
    "\n",
    "#\n",
    "# Main\n",
    "#\n",
    "sb = pysb.SbSession()\n",
    "sb.login(username, password)\n",
    "\n",
    "# Get a public item.  No need to log in.\n",
    "item_json = sb.get_item('57857d5de4b0e02680bfda23')\n",
    "print(\"Public Item: \" + str(item_json))"
   ]
  },
  {
   "cell_type": "code",
   "execution_count": null,
   "metadata": {
    "collapsed": true
   },
   "outputs": [],
   "source": [
    "# Get a private item.  Need to log in first.\n",
    "username = raw_input(\"Username:  \")\n",
    "sb.loginc(str(username))\n",
    "\n",
    "item_json = sb.get_item(sb.get_my_items_id())\n",
    "print(\"My Items: \" + str(item_json))\n",
    "\n",
    "# Create a new item.  The minimum required is a title for the new item, and the parent ID\n",
    "new_item = {'title': 'This is a new test item',\n",
    "    'parentId': sb.get_my_items_id(),\n",
    "    'provenance': {'annotation': 'Python ScienceBase REST test script'}}\n",
    "new_item = sb.create_item(new_item)\n",
    "print(\"NEW ITEM: \" + str(new_item))\n",
    "\n",
    "# Upload a file to the newly created item\n",
    "new_item = sb.upload_file_to_item(new_item, 'demo.py')\n",
    "print(\"FILE UPDATE: \" + str(new_item))\n",
    "\n",
    "# List file info from the newly created item\n",
    "ret = sb.get_item_file_info(new_item)\n",
    "for fileinfo in ret:\n",
    "    print(\"File \" + fileinfo[\"name\"] + \", \" + str(fileinfo[\"size\"]) + \"bytes, download URL \" + fileinfo[\"url\"])\n",
    "\n",
    "# Download zip of files from the newly created item\n",
    "ret = sb.get_item_files_zip(new_item)\n",
    "print(\"Downloaded zip file \" + str(ret))\n",
    "\n",
    "# Download all files attached to the item as individual files, and place them in the\n",
    "# tmp directory under the current directory.\n",
    "path = \"./tmp\"\n",
    "if not os.path.exists(path):\n",
    "    os.makedirs(path)\n",
    "ret = sb.get_item_files(new_item, path)\n",
    "print(\"Downloaded files \" + str(ret))\n",
    "\n",
    "# Delete the newly created item\n",
    "ret = sb.delete_item(new_item)\n",
    "print(\"DELETE: \" + str(ret))\n",
    "\n",
    "# Upload multiple files to create a new item\n",
    "ret = sb.upload_files_and_create_item(sb.get_my_items_id(), ['demo.py','readme.md'])\n",
    "print(str(ret))\n",
    "\n",
    "# Search\n",
    "items = sb.find_items_by_any_text(username)\n",
    "while items and 'items' in items:\n",
    "    for item in items['items']:\n",
    "        print(item['title'])\n",
    "    items = sb.next(items)\n",
    "\n",
    "# Logout\n",
    "sb.logout()"
   ]
  }
 ],
 "metadata": {
  "kernelspec": {
   "display_name": "Python 3",
   "language": "python",
   "name": "python3"
  },
  "language_info": {
   "codemirror_mode": {
    "name": "ipython",
    "version": 3
   },
   "file_extension": ".py",
   "mimetype": "text/x-python",
   "name": "python",
   "nbconvert_exporter": "python",
   "pygments_lexer": "ipython3",
   "version": "3.5.3"
  }
 },
 "nbformat": 4,
 "nbformat_minor": 2
}
