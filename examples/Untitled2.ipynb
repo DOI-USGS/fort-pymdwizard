{
 "cells": [
  {
   "cell_type": "markdown",
   "metadata": {},
   "source": [
    "# complex reclassification example"
   ]
  },
  {
   "cell_type": "code",
   "execution_count": 1,
   "metadata": {
    "collapsed": true
   },
   "outputs": [],
   "source": [
    "import numpy as np\n",
    "import matplotlib.pyplot as plt\n",
    "import matplotlib as mpl"
   ]
  },
  {
   "cell_type": "markdown",
   "metadata": {},
   "source": [
    "### gin up some sample data "
   ]
  },
  {
   "cell_type": "markdown",
   "metadata": {},
   "source": [
    "## Replace this with code to read in a numpy array from your raster file"
   ]
  },
  {
   "cell_type": "code",
   "execution_count": 2,
   "metadata": {},
   "outputs": [
    {
     "data": {
      "text/plain": [
       "array([[83, 83, 76, 63, 69, 83, 83, 60, 83, 75],\n",
       "       [83, 67, 83, 76, 73, 83, 65, 83, 83, 83],\n",
       "       [83, 62, 75, 83, 83, 83, 71, 74, 71, 83],\n",
       "       [83, 83, 83, 76, 60, 63, 83, 83, 83, 83],\n",
       "       [62, 70, 72, 83, 83, 83, 73, 77, 83, 83],\n",
       "       [83, 83, 83, 83, 83, 80, 83, 83, 83, 83],\n",
       "       [76, 83, 83, 83, 83, 70, 83, 83, 83, 75],\n",
       "       [77, 83, 83, 73, 60, 83, 83, 83, 83, 83],\n",
       "       [65, 67, 83, 83, 83, 83, 83, 83, 83, 64],\n",
       "       [83, 83, 83, 83, 82, 83, 69, 69, 80, 83]])"
      ]
     },
     "execution_count": 2,
     "metadata": {},
     "output_type": "execute_result"
    }
   ],
   "source": [
    "data = np.random.randint(60,83, size=(10,10))\n",
    "#make a bunch more 83\n",
    "data[np.random.choice([True, False], data.shape)] = 83\n",
    "data"
   ]
  },
  {
   "cell_type": "code",
   "execution_count": 3,
   "metadata": {},
   "outputs": [
    {
     "data": {
      "text/plain": [
       "<matplotlib.image.AxesImage at 0x7f34e10>"
      ]
     },
     "execution_count": 3,
     "metadata": {},
     "output_type": "execute_result"
    },
    {
     "data": {
      "image/png": "[encoded data removed]",
      "text/plain": [
       "<matplotlib.figure.Figure at 0x4571a90>"
      ]
     },
     "metadata": {},
     "output_type": "display_data"
    }
   ],
   "source": [
    "%matplotlib inline\n",
    "plt.imshow(data)\n",
    "#yellow below are ag"
   ]
  },
  {
   "cell_type": "code",
   "execution_count": 4,
   "metadata": {
    "collapsed": true
   },
   "outputs": [],
   "source": [
    "crop_types = ['corn', 'wheat', 'other']\n",
    "crop_types_int = [1, 2, 3]\n",
    "crop_probs = [0.15, 0.2, 0.65]\n",
    "data[data==83] = np.random.choice(crop_types_int, len(data[data==83]), p=crop_probs)"
   ]
  },
  {
   "cell_type": "code",
   "execution_count": 5,
   "metadata": {},
   "outputs": [
    {
     "data": {
      "text/plain": [
       "array([[ 2,  1, 76, 63, 69,  1,  1, 60,  3, 75],\n",
       "       [ 1, 67,  2, 76, 73,  3, 65,  2,  3,  1],\n",
       "       [ 1, 62, 75,  3,  1,  3, 71, 74, 71,  1],\n",
       "       [ 2,  3,  3, 76, 60, 63,  3,  2,  3,  3],\n",
       "       [62, 70, 72,  3,  3,  3, 73, 77,  3,  2],\n",
       "       [ 1,  3,  1,  2,  1, 80,  3,  3,  2,  3],\n",
       "       [76,  1,  2,  3,  2, 70,  3,  3,  3, 75],\n",
       "       [77,  2,  3, 73, 60,  2,  3,  3,  3,  3],\n",
       "       [65, 67,  2,  3,  3,  2,  3,  1,  2, 64],\n",
       "       [ 2,  3,  3,  2, 82,  3, 69, 69, 80,  3]])"
      ]
     },
     "execution_count": 5,
     "metadata": {},
     "output_type": "execute_result"
    }
   ],
   "source": [
    "data"
   ]
  },
  {
   "cell_type": "code",
   "execution_count": 6,
   "metadata": {},
   "outputs": [
    {
     "data": {
      "text/plain": [
       "<matplotlib.colorbar.Colorbar at 0x8021400>"
      ]
     },
     "execution_count": 6,
     "metadata": {},
     "output_type": "execute_result"
    },
    {
     "data": {
      "image/png": "[encoded data removed]",
      "text/plain": [
       "<matplotlib.figure.Figure at 0x7f6b978>"
      ]
     },
     "metadata": {},
     "output_type": "display_data"
    }
   ],
   "source": [
    "im = plt.imshow(data,  clim=(0, 5), cmap=mpl.cm.viridis_r)\n",
    "plt.colorbar()"
   ]
  },
  {
   "cell_type": "markdown",
   "metadata": {},
   "source": [
    "####  Above the original 83's have been replaced with a new crop values proportionally"
   ]
  },
  {
   "cell_type": "markdown",
   "metadata": {},
   "source": [
    "## Insert code here to write this array back out to a raster file"
   ]
  },
  {
   "cell_type": "code",
   "execution_count": null,
   "metadata": {
    "collapsed": true
   },
   "outputs": [],
   "source": []
  }
 ],
 "metadata": {
  "kernelspec": {
   "display_name": "Python 3",
   "language": "python",
   "name": "python3"
  },
  "language_info": {
   "codemirror_mode": {
    "name": "ipython",
    "version": 3
   },
   "file_extension": ".py",
   "mimetype": "text/x-python",
   "name": "python",
   "nbconvert_exporter": "python",
   "pygments_lexer": "ipython3",
   "version": "3.5.3"
  }
 },
 "nbformat": 4,
 "nbformat_minor": 2
}
