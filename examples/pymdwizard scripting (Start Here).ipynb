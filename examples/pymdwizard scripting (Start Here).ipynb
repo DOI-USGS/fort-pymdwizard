{
 "cells": [
  {
   "cell_type": "markdown",
   "metadata": {},
   "source": [
    "# Using the pymdwizard core functionality in scripts"
   ]
  },
  {
   "cell_type": "markdown",
   "metadata": {},
   "source": [
    "### An FGDC metadata record can be loaded as an XMLRecord object for inspection and editing"
   ]
  },
  {
   "cell_type": "markdown",
   "metadata": {},
   "source": [
    "### Advanced users are sometimes tasked with complex metadata tasks that can be facilitated with a scripted solution.  \n",
    "Examples could include:\n",
    "    * Batch updating the contact info in a folder full of records.  \n",
    "    * Creating a frequency list of all of the keywords used in a set of records.\n",
    "    * Creating a report of the number of schema errors in each of a list of files.\n",
    "\n",
    "The underlying Python components of the MD Wizard can be used to accomplish this."
   ]
  },
  {
   "cell_type": "code",
   "execution_count": 1,
   "metadata": {
    "collapsed": true
   },
   "outputs": [],
   "source": [
    "from pymdwizard.core.xml_utils import XMLRecord, XMLNode"
   ]
  },
  {
   "cell_type": "code",
   "execution_count": 2,
   "metadata": {
    "collapsed": true
   },
   "outputs": [],
   "source": [
    "fname =  r\"..\\tests\\data\\USGS_ASC_PolarBears_FGDC.xml\"\n",
    "original_md = XMLRecord(fname)"
   ]
  },
  {
   "cell_type": "markdown",
   "metadata": {},
   "source": [
    "### Drilling down into the structure is easy as each childnode is an child object of the record\n",
    "\n",
    "simply chain a list of the FGDC 'shortnames' to get to the desired element.\n",
    "code completion (tab in a Jupyter notebook) makes this relatively easy"
   ]
  },
  {
   "cell_type": "code",
   "execution_count": 3,
   "metadata": {},
   "outputs": [
    {
     "name": "stdout",
     "output_type": "stream",
     "text": [
      "<bounding>\n",
      "  <westbc>178.2167</westbc>\n",
      "  <eastbc>-178.9167</eastbc>\n",
      "  <northbc>83.921</northbc>\n",
      "  <southbc>63.3667</southbc>\n",
      "</bounding>\n"
     ]
    }
   ],
   "source": [
    "print(original_md.metadata.idinfo.spdom.bounding)"
   ]
  },
  {
   "cell_type": "markdown",
   "metadata": {},
   "source": [
    "### Editing can be done directly on the 'text' of a node"
   ]
  },
  {
   "cell_type": "code",
   "execution_count": 4,
   "metadata": {},
   "outputs": [
    {
     "name": "stdout",
     "output_type": "stream",
     "text": [
      "<bounding>\n",
      "  <westbc>178.2167</westbc>\n",
      "  <eastbc>-99</eastbc>\n",
      "  <northbc>83.921</northbc>\n",
      "  <southbc>63.3667</southbc>\n",
      "</bounding>\n"
     ]
    }
   ],
   "source": [
    "original_md.metadata.idinfo.spdom.bounding.eastbc.text = '-99'\n",
    "print(original_md.metadata.idinfo.spdom.bounding)"
   ]
  },
  {
   "cell_type": "markdown",
   "metadata": {},
   "source": [
    "### Copying elements from one record to another is easy as well"
   ]
  },
  {
   "cell_type": "code",
   "execution_count": 5,
   "metadata": {
    "collapsed": true
   },
   "outputs": [],
   "source": [
    "template_fname = r\"..\\tests\\\\data\\Onshore_Industrial_Wind_Turbine_Locations_for_the_United_States_through_July2013.xml\"\n",
    "template_md = XMLRecord(template_fname)"
   ]
  },
  {
   "cell_type": "code",
   "execution_count": 6,
   "metadata": {},
   "outputs": [
    {
     "name": "stdout",
     "output_type": "stream",
     "text": [
      "<bounding>\n",
      "  <westbc>-180.000000</westbc>\n",
      "  <eastbc>180.000000</eastbc>\n",
      "  <northbc>79.972399</northbc>\n",
      "  <southbc>10.273857</southbc>\n",
      "</bounding>\n"
     ]
    }
   ],
   "source": [
    "template_bounding = template_md.metadata.idinfo.spdom.bounding\n",
    "print(template_bounding)"
   ]
  },
  {
   "cell_type": "code",
   "execution_count": 7,
   "metadata": {
    "collapsed": true
   },
   "outputs": [],
   "source": [
    "original_md.metadata.idinfo.spdom.bounding = template_bounding"
   ]
  },
  {
   "cell_type": "code",
   "execution_count": 8,
   "metadata": {},
   "outputs": [
    {
     "name": "stdout",
     "output_type": "stream",
     "text": [
      "<bounding>\n",
      "  <westbc>-180.000000</westbc>\n",
      "  <eastbc>180.000000</eastbc>\n",
      "  <northbc>79.972399</northbc>\n",
      "  <southbc>10.273857</southbc>\n",
      "</bounding>\n"
     ]
    }
   ],
   "source": [
    "print(original_md.metadata.idinfo.spdom.bounding)"
   ]
  },
  {
   "cell_type": "markdown",
   "metadata": {},
   "source": [
    "### Note that multiple elements will be returned as a list, which can make things tricky but also handy"
   ]
  },
  {
   "cell_type": "code",
   "execution_count": 9,
   "metadata": {},
   "outputs": [
    {
     "name": "stdout",
     "output_type": "stream",
     "text": [
      "<theme>\n",
      "  <themekt>None</themekt>\n",
      "  <themekey>Polar Bear</themekey>\n",
      "  <themekey>Ursus maritimum</themekey>\n",
      "  <themekey>maternal denning</themekey>\n",
      "</theme> \n",
      "\n",
      "<class 'pymdwizard.core.xml_utils.XMLNode'>\n"
     ]
    }
   ],
   "source": [
    "print(original_md.metadata.idinfo.keywords.theme,'\\n')\n",
    "print(type(original_md.metadata.idinfo.keywords.theme))"
   ]
  },
  {
   "cell_type": "code",
   "execution_count": 10,
   "metadata": {},
   "outputs": [
    {
     "name": "stdout",
     "output_type": "stream",
     "text": [
      "[<themekey>Polar Bear</themekey>, <themekey>Ursus maritimum</themekey>, <themekey>maternal denning</themekey>] \n",
      "\n",
      "<class 'list'>\n"
     ]
    }
   ],
   "source": [
    "print(original_md.metadata.idinfo.keywords.theme.themekey,'\\n')\n",
    "print(type(original_md.metadata.idinfo.keywords.theme.themekey))"
   ]
  },
  {
   "cell_type": "markdown",
   "metadata": {},
   "source": [
    "### individual items in this list can be accessed with standard Python list indexing"
   ]
  },
  {
   "cell_type": "code",
   "execution_count": 11,
   "metadata": {},
   "outputs": [
    {
     "name": "stdout",
     "output_type": "stream",
     "text": [
      "<themekey>maternal denning</themekey>\n"
     ]
    }
   ],
   "source": [
    "print(original_md.metadata.idinfo.keywords.theme.themekey[2],)"
   ]
  },
  {
   "cell_type": "markdown",
   "metadata": {},
   "source": [
    "### You can manipulate the contents of a item by using a set of functions to clear_children, add_child, or \n",
    "Manipulate it's child elements directly by accessing it's children attribute."
   ]
  },
  {
   "cell_type": "code",
   "execution_count": 12,
   "metadata": {},
   "outputs": [
    {
     "data": {
      "text/plain": [
       "<theme>\n",
       "  <themekt>None</themekt>\n",
       "  <themekey>Polar Bear</themekey>\n",
       "  <themekey>Ursus maritimum</themekey>\n",
       "  <themekey>maternal denning</themekey>\n",
       "</theme>"
      ]
     },
     "execution_count": 12,
     "metadata": {},
     "output_type": "execute_result"
    }
   ],
   "source": [
    "theme_kws = original_md.metadata.idinfo.keywords.theme\n",
    "theme_kws"
   ]
  },
  {
   "cell_type": "code",
   "execution_count": 13,
   "metadata": {},
   "outputs": [
    {
     "data": {
      "text/plain": [
       "<theme>\n",
       "  <themekt>None</themekt>\n",
       "</theme>"
      ]
     },
     "execution_count": 13,
     "metadata": {},
     "output_type": "execute_result"
    }
   ],
   "source": [
    "theme_kws.clear_children('themekey')\n",
    "theme_kws"
   ]
  },
  {
   "cell_type": "code",
   "execution_count": 14,
   "metadata": {},
   "outputs": [
    {
     "name": "stdout",
     "output_type": "stream",
     "text": [
      "turbine\n",
      "wind\n",
      "shapefile\n",
      "dataset\n",
      "wind farm\n",
      "windfarm\n",
      "wind facility\n",
      "geospatial datasets\n",
      "energy\n",
      "GIS\n",
      "renewable\n"
     ]
    },
    {
     "data": {
      "text/plain": [
       "<theme>\n",
       "  <themekt>None</themekt>\n",
       "  <themekey>turbine</themekey>\n",
       "  <themekey>wind</themekey>\n",
       "  <themekey>shapefile</themekey>\n",
       "  <themekey>dataset</themekey>\n",
       "  <themekey>wind farm</themekey>\n",
       "  <themekey>windfarm</themekey>\n",
       "  <themekey>wind facility</themekey>\n",
       "  <themekey>geospatial datasets</themekey>\n",
       "  <themekey>energy</themekey>\n",
       "  <themekey>GIS</themekey>\n",
       "  <themekey>renewable</themekey>\n",
       "</theme>"
      ]
     },
     "execution_count": 14,
     "metadata": {},
     "output_type": "execute_result"
    }
   ],
   "source": [
    "for template_kw in template_md.metadata.idinfo.keywords.theme[1].themekey:\n",
    "    print(template_kw.text)\n",
    "    theme_kws.add_child(template_kw)\n",
    "    \n",
    "theme_kws"
   ]
  },
  {
   "cell_type": "markdown",
   "metadata": {},
   "source": [
    "### When you're finished you might need to check for schema errors,\n",
    "this record doesn't have any so lets add some first"
   ]
  },
  {
   "cell_type": "code",
   "execution_count": 15,
   "metadata": {
    "collapsed": true
   },
   "outputs": [],
   "source": [
    "original_md.metadata.idinfo.citation.citeinfo.title.text = ''\n",
    "original_md.metadata.idinfo.timeperd.timeinfo.rngdates.begdate.text = 'bad date'\n",
    "original_md.metadata.clear_children('metainfo') # this removes the entire metadata info section!\n"
   ]
  },
  {
   "cell_type": "code",
   "execution_count": 16,
   "metadata": {},
   "outputs": [
    {
     "data": {
      "text/html": [
       "<div>\n",
       "<style>\n",
       "    .dataframe thead tr:only-child th {\n",
       "        text-align: right;\n",
       "    }\n",
       "\n",
       "    .dataframe thead th {\n",
       "        text-align: left;\n",
       "    }\n",
       "\n",
       "    .dataframe tbody tr th {\n",
       "        vertical-align: top;\n",
       "    }\n",
       "</style>\n",
       "<table border=\"1\" class=\"dataframe\">\n",
       "  <thead>\n",
       "    <tr style=\"text-align: right;\">\n",
       "      <th></th>\n",
       "      <th>xpath</th>\n",
       "      <th>message</th>\n",
       "      <th>line number</th>\n",
       "    </tr>\n",
       "  </thead>\n",
       "  <tbody>\n",
       "    <tr>\n",
       "      <th>0</th>\n",
       "      <td>metadata/idinfo/citation/citeinfo/title</td>\n",
       "      <td>Element 'title': [facet 'pattern'] The value '...</td>\n",
       "      <td>7</td>\n",
       "    </tr>\n",
       "    <tr>\n",
       "      <th>1</th>\n",
       "      <td>metadata/idinfo/citation/citeinfo/title</td>\n",
       "      <td>Element 'title': '\\n\\n        ' is not a valid...</td>\n",
       "      <td>7</td>\n",
       "    </tr>\n",
       "    <tr>\n",
       "      <th>2</th>\n",
       "      <td>metadata/idinfo/timeperd/timeinfo/rngdates/beg...</td>\n",
       "      <td>Element 'begdate': 'bad date' is not a valid v...</td>\n",
       "      <td>24</td>\n",
       "    </tr>\n",
       "    <tr>\n",
       "      <th>3</th>\n",
       "      <td>metadata/idinfo/ptcontac/cntinfo/cntorgp/cntorg</td>\n",
       "      <td>Element 'cntorg': [facet 'pattern'] The value ...</td>\n",
       "      <td>119</td>\n",
       "    </tr>\n",
       "    <tr>\n",
       "      <th>4</th>\n",
       "      <td>metadata/idinfo/ptcontac/cntinfo/cntorgp/cntorg</td>\n",
       "      <td>Element 'cntorg': '\\n\\n          ' is not a va...</td>\n",
       "      <td>119</td>\n",
       "    </tr>\n",
       "    <tr>\n",
       "      <th>5</th>\n",
       "      <td>metadata</td>\n",
       "      <td>The 'metadata' is missing the expected element...</td>\n",
       "      <td>1</td>\n",
       "    </tr>\n",
       "  </tbody>\n",
       "</table>\n",
       "</div>"
      ],
      "text/plain": [
       "                                               xpath  \\\n",
       "0            metadata/idinfo/citation/citeinfo/title   \n",
       "1            metadata/idinfo/citation/citeinfo/title   \n",
       "2  metadata/idinfo/timeperd/timeinfo/rngdates/beg...   \n",
       "3    metadata/idinfo/ptcontac/cntinfo/cntorgp/cntorg   \n",
       "4    metadata/idinfo/ptcontac/cntinfo/cntorgp/cntorg   \n",
       "5                                           metadata   \n",
       "\n",
       "                                             message  line number  \n",
       "0  Element 'title': [facet 'pattern'] The value '...            7  \n",
       "1  Element 'title': '\\n\\n        ' is not a valid...            7  \n",
       "2  Element 'begdate': 'bad date' is not a valid v...           24  \n",
       "3  Element 'cntorg': [facet 'pattern'] The value ...          119  \n",
       "4  Element 'cntorg': '\\n\\n          ' is not a va...          119  \n",
       "5  The 'metadata' is missing the expected element...            1  "
      ]
     },
     "execution_count": 16,
     "metadata": {},
     "output_type": "execute_result"
    }
   ],
   "source": [
    "#Note that you can specify either 'fgdc' or 'bdp' for a schema, or the errors returned as a list instead of a data frame\n",
    "original_md.validate(schema='bdp')"
   ]
  },
  {
   "cell_type": "markdown",
   "metadata": {},
   "source": [
    "### It's possible to create nodes from scratch in the following manner"
   ]
  },
  {
   "cell_type": "code",
   "execution_count": 17,
   "metadata": {
    "collapsed": true
   },
   "outputs": [],
   "source": [
    "new_metainfo  = XMLNode(tag='metainfo')\n",
    "new_metd = XMLNode(tag='metd', text='201704')\n",
    "new_metainfo.add_child(new_metd)\n",
    "\n",
    "new_metc = XMLNode(tag='metc')\n",
    "new_metc.add_child(original_md.metadata.idinfo.ptcontac.cntinfo)\n",
    "new_metainfo.add_child(new_metc)\n",
    "\n",
    "new_metstdn = XMLNode(tag='metstdn', text='FGDC Content Standard for Digital Geospatial Metadata')\n",
    "new_metainfo.add_child(new_metstdn)\n",
    "new_metstdv = XMLNode(tag='metstdv', text='FGDC-STD-001-1998')\n",
    "new_metainfo.add_child(new_metstdv)\n",
    "\n",
    "original_md.metadata.add_child(new_metainfo)"
   ]
  },
  {
   "cell_type": "markdown",
   "metadata": {},
   "source": [
    "### but usually it will be easier to either use/modify an exsiting compound element or create it from a chunk of xml represented as a string"
   ]
  },
  {
   "cell_type": "code",
   "execution_count": 18,
   "metadata": {
    "collapsed": true
   },
   "outputs": [],
   "source": [
    "metainfo_str = \"\"\"<metainfo>\n",
    "  <metd>20140609</metd>\n",
    "  <metc>\n",
    "    <cntinfo>\n",
    "      <cntperp>\n",
    "        <cntper>John Doe</cntper>\n",
    "        <cntorg>U.S. Geological Survey, Core Science Systems</cntorg>\n",
    "      </cntperp>\n",
    "      <cntpos>Biologist</cntpos>\n",
    "      <cntaddr>\n",
    "        <addrtype>mailing address</addrtype>\n",
    "        <address>Mail Stop 306, West 6th Ave. &amp; Kipling St., DFC Bldg. 810</address>\n",
    "        <city>Lakewood</city>\n",
    "        <state>CO</state>\n",
    "        <postal>80225-0046</postal>\n",
    "        <country>US</country>\n",
    "      </cntaddr>\n",
    "      <cntvoice>123-456-7890</cntvoice>\n",
    "      <cntemail>jdoe@usgs.gov</cntemail>\n",
    "    </cntinfo>\n",
    "  </metc>\n",
    "  <metstdn>FGDC Content Standard for Digital Geospatial Metadata</metstdn>\n",
    "  <metstdv>FGDC-STD-001-1998</metstdv>\n",
    "</metainfo>\"\"\"\n",
    "\n",
    "new_metainfo = XMLNode(metainfo_str)\n",
    "\n",
    "original_md.metadata.clear_children('metainfo')\n",
    "original_md.metadata.add_child(new_metainfo)"
   ]
  },
  {
   "cell_type": "markdown",
   "metadata": {},
   "source": [
    "#### Once you're all done you can save back out to the original file or save as a new file"
   ]
  },
  {
   "cell_type": "code",
   "execution_count": 19,
   "metadata": {
    "collapsed": true
   },
   "outputs": [],
   "source": [
    "# original_md.save()  #this would overwrite the original file\n",
    "original_md.save(fname=r'c:\\temp\\mdwiz_example_final_md.xml')"
   ]
  }
 ],
 "metadata": {
  "kernelspec": {
   "display_name": "Python 3",
   "language": "python",
   "name": "python3"
  },
  "language_info": {
   "codemirror_mode": {
    "name": "ipython",
    "version": 3
   },
   "file_extension": ".py",
   "mimetype": "text/x-python",
   "name": "python",
   "nbconvert_exporter": "python",
   "pygments_lexer": "ipython3",
   "version": "3.5.3"
  }
 },
 "nbformat": 4,
 "nbformat_minor": 2
}
