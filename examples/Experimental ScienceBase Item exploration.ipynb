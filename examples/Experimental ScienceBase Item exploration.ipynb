{
 "cells": [
  {
   "cell_type": "code",
   "execution_count": 1,
   "metadata": {
    "collapsed": true
   },
   "outputs": [],
   "source": [
    "import pysb\n",
    "import getpass"
   ]
  },
  {
   "cell_type": "code",
   "execution_count": 2,
   "metadata": {},
   "outputs": [
    {
     "name": "stdout",
     "output_type": "stream",
     "text": [
      "········\n",
      "username:  talbertc@usgs.gov\n"
     ]
    }
   ],
   "source": [
    "username = '{}@usgs.gov'.format(getpass.getuser())\n",
    "password = getpass.getpass()\n",
    "\n",
    "print('username: ', username)"
   ]
  },
  {
   "cell_type": "code",
   "execution_count": 3,
   "metadata": {},
   "outputs": [
    {
     "data": {
      "text/plain": [
       "<pysb.SbSession.SbSession at 0xba13c88>"
      ]
     },
     "execution_count": 3,
     "metadata": {},
     "output_type": "execute_result"
    }
   ],
   "source": [
    "sb = pysb.SbSession()\n",
    "sb.login(username, password)"
   ]
  },
  {
   "cell_type": "code",
   "execution_count": 74,
   "metadata": {
    "collapsed": true
   },
   "outputs": [],
   "source": [
    "sb_num = '58bd9576e4b01a6517dc0cfd'"
   ]
  },
  {
   "cell_type": "markdown",
   "metadata": {},
   "source": [
    "## As pysb stands now:"
   ]
  },
  {
   "cell_type": "code",
   "execution_count": 75,
   "metadata": {
    "scrolled": false
   },
   "outputs": [
    {
     "name": "stdout",
     "output_type": "stream",
     "text": [
      "{'browseTypes': ['Downloadable', 'Map Service', 'OGC WMS Service', 'OGC WFS Layer', 'OGC WMS Layer'], 'webLinks': [{'type': 'webLink', 'hidden': False, 'title': \"Kansas Department of Agriculture's Division of Water Resources (DWR) Water Use Reporting webpage\", 'typeLabel': 'Web Link', 'uri': 'https://agriculture.ks.gov/divisions-programs/dwr/water-appropriation/water-use-reporting', 'rel': 'related'}, {'type': 'webLink', 'hidden': False, 'title': 'Kansas Water Office (KWO) reservoir accounting information webpage.', 'typeLabel': 'Web Link', 'uri': 'http://www.kwo.org/Reservoirs.html#Reservoir Accounting', 'rel': 'related'}, {'type': 'webLink', 'hidden': False, 'title': 'State of Kansas Regional Advisory webpage.', 'typeLabel': 'Web Link', 'uri': 'http://www.kwo.org/Regional-Advisory-Committees.html', 'rel': 'related'}, {'type': 'webapp', 'hidden': False, 'title': 'WIMAS is a web based application that allows users to query, analyze, and map Kansas water right data.', 'typeLabel': 'Web Application', 'uri': 'http://hercules.kgs.ku.edu/geohydro/wimas/index.cfm', 'rel': 'related'}], 'previewImage': {'alternateImages': [{'thumbnail': {'uri': 'https://www.sciencebase.gov/catalog/file/get/58bd9576e4b01a6517dc0cfd?f=__disk__42%2Fbe%2F1d%2F42be1dc4bc0f91a39d0272b4ce3d3abc364df918&width=150&height=100', 'width': 150, 'height': 100}, 'from': 'mapPreview', 'original': {'width': 360, 'height': 240, 'viewUri': 'https://www.sciencebase.gov/catalog/file/get/58bd9576e4b01a6517dc0cfd?f=__disk__42%2Fbe%2F1d%2F42be1dc4bc0f91a39d0272b4ce3d3abc364df918&width=360&height=240', 'viewUrl': 'https://www.sciencebase.gov/catalog/file/get/58bd9576e4b01a6517dc0cfd?f=__disk__42%2Fbe%2F1d%2F42be1dc4bc0f91a39d0272b4ce3d3abc364df918&width=360&height=240', 'uri': 'https://www.sciencebase.gov/catalog/file/get/58bd9576e4b01a6517dc0cfd?f=__disk__42%2Fbe%2F1d%2F42be1dc4bc0f91a39d0272b4ce3d3abc364df918', 'size': 139804}}], 'medium': {'uri': 'https://www.sciencebase.gov/catalog/file/get/58bd9576e4b01a6517dc0cfd?f=__disk__01%2Fd3%2F35%2F01d33592c1443c0d13b1ebd45a0404664823f84f&width=372&height=435', 'width': 372, 'height': 435}, 'from': 'attachedFile', 'small': {'uri': 'https://www.sciencebase.gov/catalog/file/get/58bd9576e4b01a6517dc0cfd?f=__disk__01%2Fd3%2F35%2F01d33592c1443c0d13b1ebd45a0404664823f84f&width=225&height=263', 'width': 225, 'height': 263}, 'thumbnail': {'uri': 'https://www.sciencebase.gov/catalog/file/get/58bd9576e4b01a6517dc0cfd?f=__disk__01%2Fd3%2F35%2F01d33592c1443c0d13b1ebd45a0404664823f84f&width=97&height=113', 'width': 97, 'height': 113}, 'original': {'width': 948, 'height': 1108, 'viewUri': 'https://www.sciencebase.gov/catalog/file/get/58bd9576e4b01a6517dc0cfd?f=__disk__01%2Fd3%2F35%2F01d33592c1443c0d13b1ebd45a0404664823f84f&width=948&height=1108', 'viewUrl': 'https://www.sciencebase.gov/catalog/file/get/58bd9576e4b01a6517dc0cfd?f=__disk__01%2Fd3%2F35%2F01d33592c1443c0d13b1ebd45a0404664823f84f&width=948&height=1108', 'uri': 'https://www.sciencebase.gov/catalog/file/get/58bd9576e4b01a6517dc0cfd?f=__disk__01%2Fd3%2F35%2F01d33592c1443c0d13b1ebd45a0404664823f84f', 'size': 1181730}, 'large': {'uri': 'https://www.sciencebase.gov/catalog/file/get/58bd9576e4b01a6517dc0cfd?f=__disk__01%2Fd3%2F35%2F01d33592c1443c0d13b1ebd45a0404664823f84f&width=642&height=750', 'width': 642, 'height': 750}}, 'body': \"This U.S. Geological Survey (USGS) Data Release provides derivative statistics of water used by Kansas public-supply systems in 2015. Gallons per capita per day is calculated using self-reported information in the “Part B: Monthly Water Use Summary” and “Part C: Population, Service Connections, and Water Rates” sections of the Kansas Department of Agriculture, Division of Water Resources' (DWR) annual municipal water use report (see appendixes at http://dx.doi.org/10.3133/ds964 for an example of a municipal water use report form.) Percent unaccounted for water is calculated using self-reported information in “Part B: Monthly Water Use Summary” of the DWR’s municipal water-use report. The published statistics from the previous 4 years (2011–2014) are also shown with the 2015 statistics and are used to calculate a 5-year average. Derivative statistics of 2011, 2012, 2013, 2014, 2015, and 5-year averages for gallons per capita per day (gpcd) are also provided by the Kansas Water Authority's 14 regional planning areas, and the DWR regions used for analysis of per capita water use in Kansas. An overall Kansas average (yearly and 5-year average) is also calculated. Kansas state average per capita municipal water use in 2015 was 105 gpcd.\", 'parentId': '504a3d00e4b02b6b9f7bdb6f', 'dates': [{'type': 'Publication', 'label': 'Publication Date', 'dateString': '2017-03-14'}, {'type': 'Start', 'label': '', 'dateString': '2015-01-01'}, {'type': 'End', 'label': '', 'dateString': '2015-12-31'}], 'title': 'Public-Supply Water Use in Kansas, 2015', 'maintenanceUpdateFrequency': 'Annually', 'purpose': 'This data release includes information useful to Kansas public-\\xadsupply systems in the preparation of their water conservation plans. Other benefits include peer comparison among public water-\\xadsupply systems. The information presented is also useful in directing State-\\xadfunded technical assistance to public water suppliers for leak detection, meter testing, and in the identification of high water\\xadloss systems.', 'provenance': {'lastUpdated': '2017-03-29T17:51:21Z', 'dateCreated': '2017-03-06T16:59:34Z', 'dataSource': 'Input directly'}, 'identifiers': [{'type': 'IPDS', 'scheme': 'https://www.sciencebase.gov/vocab/category/item/identifier', 'key': 'IP-084789'}, {'type': 'DOI', 'scheme': 'https://www.sciencebase.gov/vocab/category/item/identifier', 'key': 'doi:10.5066/F7F769SC'}], 'tags': [{'type': 'Theme', 'scheme': 'USGS water-use terminology', 'name': 'municipal water use'}, {'type': 'Theme', 'scheme': 'USGS water-use terminology', 'name': 'public-supply water use'}, {'type': 'Theme', 'scheme': 'USGS water-use terminology', 'name': 'water right'}, {'type': 'Theme', 'scheme': 'USGS water-use terminology', 'name': 'water-use reporting'}, {'type': 'Theme', 'scheme': 'USGS water-use terminology', 'name': 'gallons per capita per day (gpcd)'}, {'type': 'Theme', 'scheme': 'USGS water-use terminology', 'name': 'unaccounted for water (ufw)'}, {'type': 'Theme', 'scheme': 'USGS water-use terminology', 'name': 'water consumption'}, {'type': 'Theme', 'scheme': 'USGS water-use terminology', 'name': 'municipal water supply'}, {'type': 'Place', 'scheme': 'Geographic Names Information System (GNIS)', 'name': 'Kansas'}, {'type': 'Harvest Set', 'name': 'USGS Science Data Catalog (SDC)'}, {'type': 'USGS Scientific Topic Keyword', 'name': 'Water Resources'}], 'contacts': [{'type': 'Author', 'email': 'jlanning@usgs.gov', 'primaryLocation': {'officePhone': '785-832-3555', 'mailAddress': {'state': 'Kansas', 'zip': '66049', 'city': 'Lawrence', 'line1': '4821 Quail Crest Place', 'country': 'United States'}, 'streetAddress': {}}, 'name': 'Jennifer Lanning-Rush', 'contactType': 'person', 'organization': {'displayText': 'U.S. Geological Survey, Kansas Water Science Center'}}, {'type': 'Author', 'primaryLocation': {'mailAddress': {}, 'streetAddress': {}}, 'organization': {}, 'name': 'Diana Restrepo-Osorio'}, {'type': 'Publisher', 'primaryLocation': {'mailAddress': {}, 'streetAddress': {}}, 'organization': {}, 'name': 'U.S. Geological Survey'}, {'type': 'Distributor', 'email': 'sciencebase@usgs.gov', 'primaryLocation': {'officePhone': '1-888-275-8747', 'mailAddress': {'state': 'Colorado', 'zip': '80225', 'city': 'Denver', 'line1': 'Denver Federal Center, Building 810, Mail Stop 302', 'country': 'United States'}, 'streetAddress': {}}, 'name': 'U.S. Geological Survey - ScienceBase', 'contactType': 'person', 'organization': {'displayText': 'U.S. Geological Survey'}}, {'type': 'Cooperator/Partner', 'onlineResource': 'http://agriculture.ks.gov/divisions-programs/dwr', 'primaryLocation': {'mailAddress': {}, 'streetAddress': {}}, 'name': \"Kansas Department of Agriculture's Division of Water Resources\", 'aliases': ['KDA-DWR', 'DWR'], 'contactType': 'organization', 'organization': {}, 'highlighted': True}, {'type': 'Cooperator/Partner', 'onlineResource': 'http://www.kwo.org', 'name': 'Kansas Water Office', 'aliases': ['KWO'], 'contactType': 'organization', 'organization': {}, 'primaryLocation': {'mailAddress': {}, 'streetAddress': {}}}, {'type': 'Point of Contact', 'contactType': 'organization', 'active': True, 'onlineResource': 'http://ks.water.usgs.gov/', 'name': 'Kansas Water Science Center', 'description': 'Kansas Water Science Center', 'fbmsCodes': ['GGCSSE0000'], 'smallLogoUrl': 'http://my.usgs.gov/static-cache/images/dataOwner/v1/logosSmall/USGSLogo.gif', 'primaryLocation': {'buildingCode': 'KQD', 'mailAddress': {'state': 'KS', 'zip': '66049-3839', 'city': 'Lawrence', 'line1': '4821 Quail Crest Place', 'country': 'USA'}, 'streetAddress': {'state': 'KS', 'zip': '66049-3839', 'city': 'Lawrence', 'line1': '4821 Quail Crest Place', 'country': 'USA'}, 'name': 'Kansas District Office [KQD]'}, 'oldPartyId': 17343, 'logoUrl': 'http://my.usgs.gov/static-cache/images/dataOwner/v1/logosMed/USGSLogo.gif', 'aliases': ['{\"name\":\"KANSAS WATER SCI CNTR\"}', '{\"name\":\"KANSAS WATER SCI CTR\"}'], 'organization': {}}, {'type': 'USGS Mission Area', 'contactType': 'organization', 'organization': {'directoryId': '64247', 'displayText': 'Water'}, 'name': 'Water'}, {'type': 'SDC Data Owner', 'description': 'Kansas Water Science Center', 'active': True, 'onlineResource': 'http://ks.water.usgs.gov/', 'oldPartyId': 17343, 'aliases': ['KANSAS WATER SCI CNTR', 'KANSAS WATER SCI CTR'], 'contactType': 'organization', 'name': 'Kansas Water Science Center', 'primaryLocation': {'longitude': -95.304939, 'buildingCode': 'KQD', 'streetAddress': {'state': 'KS', 'zip': '66049-3839', 'city': 'Lawrence', 'line1': '4821 Quail Crest Place', 'country': 'USA'}, 'latitude': 38.959647, 'mailAddress': {'state': 'KS', 'zip': '66049-3839', 'city': 'Lawrence', 'line1': '4821 Quail Crest Place', 'country': 'USA'}, 'name': 'Kansas District Office [KQD]'}}], 'summary': \"This U.S. Geological Survey (USGS) Data Release provides derivative statistics of water used by Kansas public-supply systems in 2015. Gallons per capita per day is calculated using self-reported information in the “Part B: Monthly Water Use Summary” and “Part C: Population, Service Connections, and Water Rates” sections of the Kansas Department of Agriculture, Division of Water Resources' (DWR) annual municipal water use report (see appendixes at http://dx.doi.org/10.3133/ds964 for an example of a municipal water use report form.) Percent unaccounted for water is calculated using self-reported information in “Part B: Monthly Water Use Summary” of the DWR’s municipal water-use report. The published statistics from the previous 4 years [...]\", 'hasChildren': False, 'id': '58bd9576e4b01a6517dc0cfd', 'relatedItems': {'link': {'rel': 'related', 'url': 'https://www.sciencebase.gov/catalog/itemLinks?itemId=58bd9576e4b01a6517dc0cfd'}}, 'distributionLinks': [{'type': 'kml', 'title': 'KML Service', 'typeLabel': 'KML Download', 'name': '', 'uri': 'https://www.sciencebase.gov/catalogMaps/mapping/ows/58bd9576e4b01a6517dc0cfd?mode=download&request=kml&service=wms&layers=footprint', 'rel': 'alternate', 'files': ''}, {'type': 'serviceCapabilitiesUrl', 'title': 'ScienceBase WMS Service', 'typeLabel': 'OGC Service Capabilities URL', 'name': '', 'uri': 'https://www.sciencebase.gov/catalogMaps/mapping/ows/58bd9576e4b01a6517dc0cfd?service=wms&request=getcapabilities&version=1.3.0', 'rel': 'alternate', 'files': ''}, {'type': 'downloadLink', 'title': 'Download Attached Files', 'typeLabel': 'Download Link', 'name': 'Public_SupplyWa.zip', 'uri': 'https://www.sciencebase.gov/catalog/file/get/58bd9576e4b01a6517dc0cfd', 'rel': 'alternate', 'files': [{'contentType': 'text/csv', 'title': 'Statistics for regions used in the analysis of per capita water use in Kansas', 'name': 'GPCD_AVG_by_DWR_region.csv'}, {'contentType': 'text/csv', 'title': \"Statistics for the Kansas Water Authority's 14 regional planning areas\", 'name': 'GPCD_AVG_by_RPA.csv'}, {'contentType': 'text/csv', 'title': 'Statistics for individual Kansas public-supply systems', 'name': 'KS_PWS_wateruse_2015.csv'}, {'contentType': 'application/pdf', 'title': 'PDF of derivative statistics of water used by Kansas public supply systems, 2015', 'name': 'Public-Supply_Water_Use_in_Kansas_2015.pdf'}, {'contentType': 'application/vnd.ms-excel', 'title': 'Statistics of water used by Kansas public water supply systems in 2015', 'name': 'Public-Supply_Water_Use_in_Kansas_2015.xls'}, {'contentType': 'image/png', 'title': 'image of the regions', 'name': 'kansas_mapped_rpa_and_gpcd_regions.png'}, {'contentType': 'application/fgdc+xml', 'title': 'FGDC metadata file (click \"view\" button for formatted view)', 'name': 'Public_Supply_Water_Use_in_Kansas_2015.xml'}]}], 'link': {'rel': 'self', 'url': 'https://www.sciencebase.gov/catalog/item/58bd9576e4b01a6517dc0cfd'}, 'files': [{'pathOnDisk': '__disk__e6/6d/12/e66d12449ab0683173261adddabae36601a11f56', 'contentType': 'text/csv', 'size': 1168, 'name': 'GPCD_AVG_by_DWR_region.csv', 'imageWidth': None, 'originalMetadata': False, 'url': 'https://www.sciencebase.gov/catalog/file/get/58bd9576e4b01a6517dc0cfd?f=__disk__e6%2F6d%2F12%2Fe66d12449ab0683173261adddabae36601a11f56', 'processed': False, 'processToken': None, 'title': 'Statistics for regions used in the analysis of per capita water use in Kansas', 'imageHeight': None, 'contentEncoding': None, 'dateUploaded': '2017-03-14T14:58:23Z', 'checksum': {'type': 'MD5', 'value': '5a600ce1725ed2b7a700cd91a6b1dcdd'}, 'useForPreview': False, 's3Object': None}, {'pathOnDisk': '__disk__f3/04/ae/f304ae78ad60613e8a6c47ddf11d4ff6fef1ec57', 'contentType': 'text/csv', 'size': 836, 'name': 'GPCD_AVG_by_RPA.csv', 'imageWidth': None, 'originalMetadata': False, 'url': 'https://www.sciencebase.gov/catalog/file/get/58bd9576e4b01a6517dc0cfd?f=__disk__f3%2F04%2Fae%2Ff304ae78ad60613e8a6c47ddf11d4ff6fef1ec57', 'processed': False, 'processToken': None, 'title': \"Statistics for the Kansas Water Authority's 14 regional planning areas\", 'imageHeight': None, 'contentEncoding': None, 'dateUploaded': '2017-03-14T14:58:23Z', 'checksum': {'type': 'MD5', 'value': '83cff9a83d99df10dc2053968e4dea2f'}, 'useForPreview': False, 's3Object': None}, {'pathOnDisk': '__disk__cf/ce/ba/cfcebad556b205411adba29ba3f4cf848dce921a', 'contentType': 'text/csv', 'size': 66073, 'name': 'KS_PWS_wateruse_2015.csv', 'imageWidth': None, 'originalMetadata': False, 'url': 'https://www.sciencebase.gov/catalog/file/get/58bd9576e4b01a6517dc0cfd?f=__disk__cf%2Fce%2Fba%2Fcfcebad556b205411adba29ba3f4cf848dce921a', 'processed': False, 'processToken': None, 'title': 'Statistics for individual Kansas public-supply systems', 'imageHeight': None, 'contentEncoding': None, 'dateUploaded': '2017-03-14T14:58:23Z', 'checksum': {'type': 'MD5', 'value': 'a4f6b436e224c4f93b99fa6e802f21c3'}, 'useForPreview': False, 's3Object': None}, {'pathOnDisk': '__disk__b5/3d/2d/b53d2df0344dd7d99210d8ee7b5948dd5574e645', 'contentType': 'application/pdf', 'size': 1190112, 'name': 'Public-Supply_Water_Use_in_Kansas_2015.pdf', 'imageWidth': None, 'originalMetadata': False, 'url': 'https://www.sciencebase.gov/catalog/file/get/58bd9576e4b01a6517dc0cfd?f=__disk__b5%2F3d%2F2d%2Fb53d2df0344dd7d99210d8ee7b5948dd5574e645', 'processed': False, 'processToken': None, 'title': 'PDF of derivative statistics of water used by Kansas public supply systems, 2015', 'imageHeight': None, 'contentEncoding': None, 'dateUploaded': '2017-03-14T14:58:24Z', 'checksum': {'type': 'MD5', 'value': 'd691c951a258cd846f4f97a3c1fca719'}, 'useForPreview': False, 's3Object': None}, {'pathOnDisk': '__disk__dd/bf/0e/ddbf0e2f22bb4d477cdf67d0de0dc3b584cc3499', 'contentType': 'application/vnd.ms-excel', 'size': 435200, 'name': 'Public-Supply_Water_Use_in_Kansas_2015.xls', 'imageWidth': None, 'originalMetadata': False, 'url': 'https://www.sciencebase.gov/catalog/file/get/58bd9576e4b01a6517dc0cfd?f=__disk__dd%2Fbf%2F0e%2Fddbf0e2f22bb4d477cdf67d0de0dc3b584cc3499', 'processed': False, 'processToken': None, 'title': 'Statistics of water used by Kansas public water supply systems in 2015', 'imageHeight': None, 'contentEncoding': None, 'dateUploaded': '2017-03-14T14:58:23Z', 'checksum': {'type': 'MD5', 'value': '4a3b3b3908812e805905e7d9534ef7bf'}, 'useForPreview': False, 's3Object': None}, {'pathOnDisk': '__disk__01/d3/35/01d33592c1443c0d13b1ebd45a0404664823f84f', 'contentType': 'image/png', 'size': 1181730, 'name': 'kansas_mapped_rpa_and_gpcd_regions.png', 'imageWidth': 948, 'originalMetadata': False, 'url': 'https://www.sciencebase.gov/catalog/file/get/58bd9576e4b01a6517dc0cfd?f=__disk__01%2Fd3%2F35%2F01d33592c1443c0d13b1ebd45a0404664823f84f', 'processed': False, 'processToken': None, 'title': 'image of the regions', 'imageHeight': 1108, 'contentEncoding': None, 'dateUploaded': '2017-03-14T15:02:54Z', 'checksum': {'type': 'MD5', 'value': '304311d61cd0a0d5f6bc7f4405d1fed4'}, 'useForPreview': True, 's3Object': None}, {'pathOnDisk': '__disk__55/8a/ab/558aab6de5a0bf149367fb2a19dcc9436d55806a', 'contentType': 'application/fgdc+xml', 'size': 41288, 'name': 'Public_Supply_Water_Use_in_Kansas_2015.xml', 'imageWidth': None, 'originalMetadata': True, 'url': 'https://www.sciencebase.gov/catalog/file/get/58bd9576e4b01a6517dc0cfd?f=__disk__55%2F8a%2Fab%2F558aab6de5a0bf149367fb2a19dcc9436d55806a', 'processed': False, 'processToken': None, 'title': 'FGDC metadata file (click \"view\" button for formatted view)', 'imageHeight': None, 'contentEncoding': None, 'dateUploaded': '2017-03-14T16:18:02Z', 'checksum': {'type': 'MD5', 'value': 'f11584a8e48d8afa36dab7228e9a8cde'}, 'useForPreview': False, 's3Object': None}], 'extents': [47], 'spatial': {'representationalPoint': [-98.3208545, 38.4981231665], 'representationalPointIsDerived': True, 'boundingBox': {'maxY': 40.003164333, 'maxX': -94.589935667, 'minX': -102.051773333, 'minY': 36.993082}}, 'citation': 'Lanning-Rush, J.L., and Restrepo-Osorio, D.L, 2017, Public-Supply Water Use in Kansas, 2015: U.S. Geological Survey data release, https://doi.org/10.5066/F7F769SC.', 'browseCategories': ['Data'], 'systemTypes': ['Data Release']}\n"
     ]
    }
   ],
   "source": [
    "sb_item = sb.get_item(sb_num)\n",
    "print(sb_item)"
   ]
  },
  {
   "cell_type": "markdown",
   "metadata": {},
   "source": [
    "### get the csv and convert it to a dataframe\n",
    "\n",
    "It's not the end of the world, but it's not easy or intuitive\n",
    "\n",
    "Does sb.get_item_file_info take the id or the full json?\n",
    "I've got to write a list comprehension with an if, or worse a loop"
   ]
  },
  {
   "cell_type": "code",
   "execution_count": 84,
   "metadata": {},
   "outputs": [
    {
     "data": {
      "text/html": [
       "<div>\n",
       "<style>\n",
       "    .dataframe thead tr:only-child th {\n",
       "        text-align: right;\n",
       "    }\n",
       "\n",
       "    .dataframe thead th {\n",
       "        text-align: left;\n",
       "    }\n",
       "\n",
       "    .dataframe tbody tr th {\n",
       "        vertical-align: top;\n",
       "    }\n",
       "</style>\n",
       "<table border=\"1\" class=\"dataframe\">\n",
       "  <thead>\n",
       "    <tr style=\"text-align: right;\">\n",
       "      <th></th>\n",
       "      <th>GPCD Region</th>\n",
       "      <th>Average gpcd 2011</th>\n",
       "      <th>Average gpcd 2012</th>\n",
       "      <th>Average gpcd 2013</th>\n",
       "      <th>Average gpcd 2014</th>\n",
       "      <th>Average gpcd 2015</th>\n",
       "      <th>Average gpcd 201115</th>\n",
       "    </tr>\n",
       "  </thead>\n",
       "  <tbody>\n",
       "    <tr>\n",
       "      <th>0</th>\n",
       "      <td>1</td>\n",
       "      <td>282</td>\n",
       "      <td>316</td>\n",
       "      <td>280</td>\n",
       "      <td>264</td>\n",
       "      <td>236</td>\n",
       "      <td>276</td>\n",
       "    </tr>\n",
       "    <tr>\n",
       "      <th>1</th>\n",
       "      <td>2</td>\n",
       "      <td>237</td>\n",
       "      <td>261</td>\n",
       "      <td>227</td>\n",
       "      <td>218</td>\n",
       "      <td>199</td>\n",
       "      <td>228</td>\n",
       "    </tr>\n",
       "    <tr>\n",
       "      <th>2</th>\n",
       "      <td>3</td>\n",
       "      <td>229</td>\n",
       "      <td>256</td>\n",
       "      <td>217</td>\n",
       "      <td>210</td>\n",
       "      <td>200</td>\n",
       "      <td>222</td>\n",
       "    </tr>\n",
       "    <tr>\n",
       "      <th>3</th>\n",
       "      <td>4</td>\n",
       "      <td>196</td>\n",
       "      <td>199</td>\n",
       "      <td>175</td>\n",
       "      <td>154</td>\n",
       "      <td>147</td>\n",
       "      <td>174</td>\n",
       "    </tr>\n",
       "    <tr>\n",
       "      <th>4</th>\n",
       "      <td>5</td>\n",
       "      <td>149</td>\n",
       "      <td>149</td>\n",
       "      <td>126</td>\n",
       "      <td>116</td>\n",
       "      <td>114</td>\n",
       "      <td>131</td>\n",
       "    </tr>\n",
       "  </tbody>\n",
       "</table>\n",
       "</div>"
      ],
      "text/plain": [
       "  GPCD Region  Average gpcd 2011  Average gpcd 2012  Average gpcd 2013  \\\n",
       "0           1                282                316                280   \n",
       "1           2                237                261                227   \n",
       "2           3                229                256                217   \n",
       "3           4                196                199                175   \n",
       "4           5                149                149                126   \n",
       "\n",
       "   Average gpcd 2014  Average gpcd 2015  Average gpcd 201115   \n",
       "0                264                236                    276  \n",
       "1                218                199                    228  \n",
       "2                210                200                    222  \n",
       "3                154                147                    174  \n",
       "4                116                114                    131  "
      ]
     },
     "execution_count": 84,
     "metadata": {},
     "output_type": "execute_result"
    }
   ],
   "source": [
    "this_item_files = sb.get_item_file_info(sb_item)\n",
    "csvs = [file for file in this_item_files if file['name'].endswith('.csv')]\n",
    "url = csvs[0]['url']\n",
    "data = pd.read_csv(url, skiprows=7, encoding = \"ISO-8859-1\")\n",
    "data.head()"
   ]
  },
  {
   "cell_type": "code",
   "execution_count": 41,
   "metadata": {},
   "outputs": [
    {
     "data": {
      "text/plain": [
       "{'name': 'GermaineEtAlData.csv',\n",
       " 'size': 62351,\n",
       " 'url': 'https://www.sciencebase.gov/catalog/file/get/58b47029e4b01ccd54fca8a9?f=__disk__18%2F0a%2F9e%2F180a9e5046ee2257647a7e8082a5a5e8acb9454d'}"
      ]
     },
     "execution_count": 41,
     "metadata": {},
     "output_type": "execute_result"
    }
   ],
   "source": [
    "sb_item['title'] = '...'\n",
    "\n",
    "# sb.update_item(sb_item)"
   ]
  },
  {
   "cell_type": "markdown",
   "metadata": {},
   "source": [
    "## My suggestion"
   ]
  },
  {
   "cell_type": "code",
   "execution_count": 115,
   "metadata": {
    "collapsed": true
   },
   "outputs": [],
   "source": [
    "import pandas as pd\n",
    "\n",
    "class SBItem(object):\n",
    "    def __init__(self, item, recursive=False):\n",
    "        #add code so item could be 'json', 'sb hashtag', 'doi', or ???\n",
    "        #TODO: add recursive code to generate child objects on load of the parent\n",
    "        \n",
    "        if type(item) == dict:\n",
    "            self.json = item\n",
    "        else:\n",
    "            self.json = sb.get_item(item)\n",
    "        \n",
    "        #all of the keys in our json become methods on our object\n",
    "        for key in self.json.keys():\n",
    "            self.__dict__[key] = self.json[key]\n",
    "           \n",
    "        #this could be fleshed out a bit\n",
    "        if self.hasChildren:\n",
    "            self.children_ids = sb.get_child_ids(self.id)\n",
    "        else:\n",
    "            self.children_ids = []\n",
    "            \n",
    "        self._files_info = sb.get_item_file_info(self.json)\n",
    "        \n",
    "    def __str__(self):\n",
    "        \"\"\"\n",
    "        Craft a pretty representation of this item, this would be extended however makes sense\n",
    "        \"\"\"\n",
    "        s = \"<<  ScienceBase Item:  >>\\n\"\n",
    "        s += \"  Title: {}\\n\".format(self.title[:79])\n",
    "        s += \"  ID: {}\\n\".format(self.id)\n",
    "        s += \"  Number of child items: {}\\n\".format(len(self.children_ids))\n",
    "        s += \"  Number of files: {}\\n\".format(len(self._files_info))\n",
    "        for f in self._files_info:\n",
    "            s += '\\t' + f['name'] + '\\n'\n",
    "        return s\n",
    "    \n",
    "    def __repr__(self):\n",
    "        return self.__str__()\n",
    "    \n",
    "    def _repr_html_(self):\n",
    "        return \"\"\"\n",
    "        <!DOCTYPE html>\n",
    "<html>\n",
    "<head>\n",
    "<title></title>\n",
    "</head>\n",
    "<body>\n",
    "\n",
    "<h1>{}</h1>\n",
    "<p>This is a paragraph.</p>\n",
    "\n",
    "</body>\n",
    "</html>\n",
    "\"\"\".format(self.title)\n",
    "        \n",
    "    def get_files(self, extension=None, recursive=False):\n",
    "        #TODO:  add recursive function to get the files from child elements\n",
    "        if extension is not None:\n",
    "            return [i for i in item._files_info if i['name'].endswith(extension)]\n",
    "        else:\n",
    "            return itim._files_info\n",
    "        \n",
    "    def get_dataframe(self, which=0, **read_kwargs):\n",
    "        csvs = self.get_files('.csv')\n",
    "        \n",
    "        if len(csvs) == 0:\n",
    "            return None\n",
    "        else:\n",
    "            url = csvs[which]['url']\n",
    "            return pd.read_csv(url, **read_kwargs)\n",
    "        \n",
    "    def download_files(self, dname, recursive=False, aszip=False):\n",
    "        #TODO implement\n",
    "        pass\n",
    "    \n",
    "    def save_to_sb(self):\n",
    "        self.json['title'] = self.title\n",
    "        #TODO add code to update the json with this objects \n",
    "        # with the rest of contents of this object.\n",
    "        sb.update_item(self.json)\n",
    "        "
   ]
  },
  {
   "cell_type": "code",
   "execution_count": 120,
   "metadata": {},
   "outputs": [
    {
     "data": {
      "text/plain": [
       "dict_keys(['browseTypes', 'webLinks', 'previewImage', 'body', 'parentId', 'dates', 'title', 'maintenanceUpdateFrequency', 'purpose', 'provenance', 'identifiers', 'tags', 'contacts', 'summary', 'hasChildren', 'id', 'relatedItems', 'distributionLinks', 'link', 'files', 'extents', 'spatial', 'citation', 'browseCategories', 'systemTypes'])"
      ]
     },
     "execution_count": 120,
     "metadata": {},
     "output_type": "execute_result"
    }
   ],
   "source": [
    "sb_item.keys()"
   ]
  },
  {
   "cell_type": "markdown",
   "metadata": {},
   "source": [
    "### We're able to take a look at our item in a pleasant way"
   ]
  },
  {
   "cell_type": "code",
   "execution_count": 116,
   "metadata": {
    "scrolled": true
   },
   "outputs": [
    {
     "data": {
      "text/html": [
       "\n",
       "        <!DOCTYPE html>\n",
       "<html>\n",
       "<head>\n",
       "<title></title>\n",
       "</head>\n",
       "<body>\n",
       "\n",
       "<h1>Public-Supply Water Use in Kansas, 2015</h1>\n",
       "<p>This is a paragraph.</p>\n",
       "\n",
       "</body>\n",
       "</html>\n"
      ],
      "text/plain": [
       "<<  ScienceBase Item:  >>\n",
       "  Title: Public-Supply Water Use in Kansas, 2015\n",
       "  ID: 58bd9576e4b01a6517dc0cfd\n",
       "  Number of child items: 0\n",
       "  Number of files: 7\n",
       "\tGPCD_AVG_by_DWR_region.csv\n",
       "\tGPCD_AVG_by_RPA.csv\n",
       "\tKS_PWS_wateruse_2015.csv\n",
       "\tPublic-Supply_Water_Use_in_Kansas_2015.pdf\n",
       "\tPublic-Supply_Water_Use_in_Kansas_2015.xls\n",
       "\tkansas_mapped_rpa_and_gpcd_regions.png\n",
       "\tPublic_Supply_Water_Use_in_Kansas_2015.xml"
      ]
     },
     "execution_count": 116,
     "metadata": {},
     "output_type": "execute_result"
    }
   ],
   "source": [
    "obj_item = SBItem(sb_num)\n",
    "obj_item"
   ]
  },
  {
   "cell_type": "markdown",
   "metadata": {},
   "source": [
    "### We can easily access any bits of our item, \n",
    "\n",
    "### or use convenience functions to do certain tasks like get the data, get the files, or save back to SB"
   ]
  },
  {
   "cell_type": "code",
   "execution_count": 87,
   "metadata": {},
   "outputs": [
    {
     "name": "stdout",
     "output_type": "stream",
     "text": [
      "body\n",
      "browseCategories\n",
      "children_ids\n",
      "citation\n",
      "contacts\n",
      "dates\n",
      "distributionLinks\n",
      "download_files\n",
      "files\n",
      "get_dataframe\n",
      "get_files\n",
      "hasChildren\n",
      "id\n",
      "json\n",
      "link\n",
      "maintenanceUpdateFrequency\n",
      "parentId\n",
      "previewImage\n",
      "provenance\n",
      "purpose\n",
      "relatedItems\n",
      "save_to_sb\n",
      "spatial\n",
      "summary\n",
      "tags\n",
      "title\n"
     ]
    }
   ],
   "source": [
    "for method in dir(obj_item):\n",
    "    if not method.startswith('_'):\n",
    "        print(method)"
   ]
  },
  {
   "cell_type": "markdown",
   "metadata": {},
   "source": [
    "#### Getting the data is easy and intuitive"
   ]
  },
  {
   "cell_type": "code",
   "execution_count": 88,
   "metadata": {},
   "outputs": [
    {
     "data": {
      "text/html": [
       "<div>\n",
       "<style>\n",
       "    .dataframe thead tr:only-child th {\n",
       "        text-align: right;\n",
       "    }\n",
       "\n",
       "    .dataframe thead th {\n",
       "        text-align: left;\n",
       "    }\n",
       "\n",
       "    .dataframe tbody tr th {\n",
       "        vertical-align: top;\n",
       "    }\n",
       "</style>\n",
       "<table border=\"1\" class=\"dataframe\">\n",
       "  <thead>\n",
       "    <tr style=\"text-align: right;\">\n",
       "      <th></th>\n",
       "      <th>AtlRim</th>\n",
       "      <th>37</th>\n",
       "      <th>AtlRim37</th>\n",
       "      <th>2011</th>\n",
       "      <th>12</th>\n",
       "      <th>0</th>\n",
       "      <th>735033</th>\n",
       "      <th>4601669</th>\n",
       "      <th>0.1</th>\n",
       "      <th>0.2</th>\n",
       "      <th>...</th>\n",
       "      <th>0.16</th>\n",
       "      <th>33580</th>\n",
       "      <th>0.17</th>\n",
       "      <th>0.18</th>\n",
       "      <th>56104</th>\n",
       "      <th>7284</th>\n",
       "      <th>12400</th>\n",
       "      <th>0.19</th>\n",
       "      <th>0.20</th>\n",
       "      <th>1</th>\n",
       "    </tr>\n",
       "  </thead>\n",
       "  <tbody>\n",
       "    <tr>\n",
       "      <th>0</th>\n",
       "      <td>AtlRim</td>\n",
       "      <td>38</td>\n",
       "      <td>AtlRim38</td>\n",
       "      <td>2011</td>\n",
       "      <td>13</td>\n",
       "      <td>1</td>\n",
       "      <td>266088</td>\n",
       "      <td>4601964</td>\n",
       "      <td>4.000000</td>\n",
       "      <td>7.050000</td>\n",
       "      <td>...</td>\n",
       "      <td>0</td>\n",
       "      <td>65000</td>\n",
       "      <td>0</td>\n",
       "      <td>8404</td>\n",
       "      <td>28212</td>\n",
       "      <td>3642</td>\n",
       "      <td>43621</td>\n",
       "      <td>0</td>\n",
       "      <td>0</td>\n",
       "      <td>6</td>\n",
       "    </tr>\n",
       "    <tr>\n",
       "      <th>1</th>\n",
       "      <td>AtlRim</td>\n",
       "      <td>40</td>\n",
       "      <td>AtlRim40</td>\n",
       "      <td>2011</td>\n",
       "      <td>12</td>\n",
       "      <td>1</td>\n",
       "      <td>732975</td>\n",
       "      <td>4636343</td>\n",
       "      <td>10.000000</td>\n",
       "      <td>14.350000</td>\n",
       "      <td>...</td>\n",
       "      <td>0</td>\n",
       "      <td>17905</td>\n",
       "      <td>0</td>\n",
       "      <td>0</td>\n",
       "      <td>8262</td>\n",
       "      <td>12111</td>\n",
       "      <td>2106</td>\n",
       "      <td>0</td>\n",
       "      <td>0</td>\n",
       "      <td>1</td>\n",
       "    </tr>\n",
       "    <tr>\n",
       "      <th>2</th>\n",
       "      <td>AtlRim</td>\n",
       "      <td>42</td>\n",
       "      <td>AtlRim42</td>\n",
       "      <td>2011</td>\n",
       "      <td>13</td>\n",
       "      <td>1</td>\n",
       "      <td>275196</td>\n",
       "      <td>4611155</td>\n",
       "      <td>30.666667</td>\n",
       "      <td>61.466667</td>\n",
       "      <td>...</td>\n",
       "      <td>0</td>\n",
       "      <td>52120</td>\n",
       "      <td>0</td>\n",
       "      <td>0</td>\n",
       "      <td>45558</td>\n",
       "      <td>21172</td>\n",
       "      <td>32195</td>\n",
       "      <td>0</td>\n",
       "      <td>0</td>\n",
       "      <td>1</td>\n",
       "    </tr>\n",
       "    <tr>\n",
       "      <th>3</th>\n",
       "      <td>AtlRim</td>\n",
       "      <td>44</td>\n",
       "      <td>AtlRim44</td>\n",
       "      <td>2011</td>\n",
       "      <td>12</td>\n",
       "      <td>1</td>\n",
       "      <td>733306</td>\n",
       "      <td>4639839</td>\n",
       "      <td>0.000000</td>\n",
       "      <td>2.000000</td>\n",
       "      <td>...</td>\n",
       "      <td>0</td>\n",
       "      <td>35634</td>\n",
       "      <td>17358</td>\n",
       "      <td>0</td>\n",
       "      <td>17351</td>\n",
       "      <td>1461</td>\n",
       "      <td>31566</td>\n",
       "      <td>8244</td>\n",
       "      <td>0</td>\n",
       "      <td>3</td>\n",
       "    </tr>\n",
       "    <tr>\n",
       "      <th>4</th>\n",
       "      <td>AtlRim</td>\n",
       "      <td>47</td>\n",
       "      <td>AtlRim47</td>\n",
       "      <td>2011</td>\n",
       "      <td>13</td>\n",
       "      <td>1</td>\n",
       "      <td>272973</td>\n",
       "      <td>4633286</td>\n",
       "      <td>0.500000</td>\n",
       "      <td>1.150000</td>\n",
       "      <td>...</td>\n",
       "      <td>0</td>\n",
       "      <td>0</td>\n",
       "      <td>0</td>\n",
       "      <td>0</td>\n",
       "      <td>34283</td>\n",
       "      <td>14634</td>\n",
       "      <td>18799</td>\n",
       "      <td>0</td>\n",
       "      <td>0</td>\n",
       "      <td>0</td>\n",
       "    </tr>\n",
       "  </tbody>\n",
       "</table>\n",
       "<p>5 rows × 62 columns</p>\n",
       "</div>"
      ],
      "text/plain": [
       "   AtlRim  37  AtlRim37  2011  12  0  735033  4601669        0.1        0.2  \\\n",
       "0  AtlRim  38  AtlRim38  2011  13  1  266088  4601964   4.000000   7.050000   \n",
       "1  AtlRim  40  AtlRim40  2011  12  1  732975  4636343  10.000000  14.350000   \n",
       "2  AtlRim  42  AtlRim42  2011  13  1  275196  4611155  30.666667  61.466667   \n",
       "3  AtlRim  44  AtlRim44  2011  12  1  733306  4639839   0.000000   2.000000   \n",
       "4  AtlRim  47  AtlRim47  2011  13  1  272973  4633286   0.500000   1.150000   \n",
       "\n",
       "  ...  0.16  33580   0.17  0.18  56104   7284  12400  0.19  0.20  1  \n",
       "0 ...     0  65000      0  8404  28212   3642  43621     0     0  6  \n",
       "1 ...     0  17905      0     0   8262  12111   2106     0     0  1  \n",
       "2 ...     0  52120      0     0  45558  21172  32195     0     0  1  \n",
       "3 ...     0  35634  17358     0  17351   1461  31566  8244     0  3  \n",
       "4 ...     0      0      0     0  34283  14634  18799     0     0  0  \n",
       "\n",
       "[5 rows x 62 columns]"
      ]
     },
     "execution_count": 88,
     "metadata": {},
     "output_type": "execute_result"
    }
   ],
   "source": [
    "data = obj_item.get_dataframe(skiprows=7, encoding = \"ISO-8859-1\")\n",
    "data.head(5)"
   ]
  },
  {
   "cell_type": "markdown",
   "metadata": {},
   "source": [
    "### Below are some random visualizations of how someone might work with or visualize the data"
   ]
  },
  {
   "cell_type": "code",
   "execution_count": 31,
   "metadata": {},
   "outputs": [
    {
     "data": {
      "text/plain": [
       "<matplotlib.axes._subplots.AxesSubplot at 0xe7da278>"
      ]
     },
     "execution_count": 31,
     "metadata": {},
     "output_type": "execute_result"
    },
    {
     "data": {
      "image/png": "[encoded data removed]",
      "text/plain": [
       "<matplotlib.figure.Figure at 0xe7be358>"
      ]
     },
     "metadata": {},
     "output_type": "display_data"
    }
   ],
   "source": [
    "%matplotlib inline\n",
    "import matplotlib as mpl\n",
    "import matplotlib.pyplot as plt\n",
    "plt.style.use('bmh')\n",
    "data.plot.scatter('Pt_X', 'Pt_Y', c='NumBurrowIndex', cmap=mpl.cm.viridis, alpha=0.75)"
   ]
  },
  {
   "cell_type": "code",
   "execution_count": 43,
   "metadata": {},
   "outputs": [
    {
     "data": {
      "text/plain": [
       "<matplotlib.axes._subplots.AxesSubplot at 0xf84ee10>"
      ]
     },
     "execution_count": 43,
     "metadata": {},
     "output_type": "execute_result"
    },
    {
     "data": {
      "image/png": "[encoded data removed]",
      "text/plain": [
       "<matplotlib.figure.Figure at 0x11ac34a8>"
      ]
     },
     "metadata": {},
     "output_type": "display_data"
    }
   ],
   "source": [
    "data['SageCov_gt_10'].plot.hist(alpha=0.5)"
   ]
  },
  {
   "cell_type": "code",
   "execution_count": 86,
   "metadata": {
    "collapsed": true
   },
   "outputs": [],
   "source": [
    "\n",
    "cats = pd.cut(data.Disturb_M2, bins=3, labels=['low', \"medium\", 'high'])\n",
    "data_sub = data[['Disturb_M2', 'NumBurrowIndex', 'ShrbCov_gt13', 'SageCov_gt_10']]\n",
    "data_sub['Disturbance Category'] = cats"
   ]
  },
  {
   "cell_type": "code",
   "execution_count": 85,
   "metadata": {},
   "outputs": [
    {
     "data": {
      "image/png": "[encoded data removed]",
      "text/plain": [
       "<matplotlib.figure.Figure at 0x12707898>"
      ]
     },
     "metadata": {},
     "output_type": "display_data"
    }
   ],
   "source": [
    "%matplotlib inline\n",
    "\n",
    "import numpy as np\n",
    "import seaborn as sns\n",
    "sns.set(style=\"ticks\", palette=\"muted\", color_codes=True)\n",
    "\n",
    "\n",
    "# Plot the orbital period with horizontal boxes\n",
    "ax = sns.boxplot(x=\"distance\", y=\"method\", data=planets,\n",
    "                 whis=np.inf, color=\"c\")\n",
    "\n",
    "# Add in points to show each observation\n",
    "sns.stripplot(x=\"NumBurrowIndex\", y='Disturbance Category', data=data_sub,\n",
    "              jitter=True, size=3, color=\".3\", linewidth=0)\n",
    "\n",
    "\n",
    "# Make the quantitative axis logarithmic\n",
    "ax.set_xscale(\"log\")\n",
    "sns.despine(trim=True)"
   ]
  },
  {
   "cell_type": "code",
   "execution_count": null,
   "metadata": {
    "collapsed": true
   },
   "outputs": [],
   "source": []
  }
 ],
 "metadata": {
  "kernelspec": {
   "display_name": "Python 3",
   "language": "python",
   "name": "python3"
  },
  "language_info": {
   "codemirror_mode": {
    "name": "ipython",
    "version": 3
   },
   "file_extension": ".py",
   "mimetype": "text/x-python",
   "name": "python",
   "nbconvert_exporter": "python",
   "pygments_lexer": "ipython3",
   "version": "3.5.4"
  }
 },
 "nbformat": 4,
 "nbformat_minor": 2
}
