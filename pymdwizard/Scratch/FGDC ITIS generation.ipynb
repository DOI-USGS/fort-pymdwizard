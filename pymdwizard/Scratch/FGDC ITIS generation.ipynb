{
 "cells": [
  {
   "cell_type": "markdown",
   "metadata": {},
   "source": [
    "# How to make a FGDC taxonomy in python"
   ]
  },
  {
   "cell_type": "markdown",
   "metadata": {},
   "source": [
    "### Step 1 use ITIS to get a list of species identiviers (TSNs) \n",
    "pytaxize makes this easy"
   ]
  },
  {
   "cell_type": "code",
   "execution_count": 1,
   "metadata": {
    "collapsed": false
   },
   "outputs": [],
   "source": [
    "import pytaxize"
   ]
  },
  {
   "cell_type": "code",
   "execution_count": null,
   "metadata": {
    "collapsed": true
   },
   "outputs": [],
   "source": [
    "#species to include: Grizzly bear, bald eagle, ladybug, raccoon\n",
    "species = []"
   ]
  },
  {
   "cell_type": "markdown",
   "metadata": {},
   "source": [
    "## Start with a search of the common names to find the appropriate taxonomic serial numbers (tsns)"
   ]
  },
  {
   "cell_type": "code",
   "execution_count": 2,
   "metadata": {
    "collapsed": false
   },
   "outputs": [
    {
     "data": {
      "text/html": [
       "<div>\n",
       "<table border=\"1\" class=\"dataframe\">\n",
       "  <thead>\n",
       "    <tr style=\"text-align: right;\">\n",
       "      <th></th>\n",
       "      <th>tsn</th>\n",
       "      <th>language</th>\n",
       "      <th>commonname</th>\n",
       "    </tr>\n",
       "  </thead>\n",
       "  <tbody>\n",
       "    <tr>\n",
       "      <th>0</th>\n",
       "      <td>202385</td>\n",
       "      <td>English</td>\n",
       "      <td>grizzly bear</td>\n",
       "    </tr>\n",
       "    <tr>\n",
       "      <th>1</th>\n",
       "      <td>202384</td>\n",
       "      <td>English</td>\n",
       "      <td>Mexican grizzly bear</td>\n",
       "    </tr>\n",
       "    <tr>\n",
       "      <th>2</th>\n",
       "      <td>180543</td>\n",
       "      <td>English</td>\n",
       "      <td>Grizzly Bear</td>\n",
       "    </tr>\n",
       "  </tbody>\n",
       "</table>\n",
       "</div>"
      ],
      "text/plain": [
       "      tsn language            commonname\n",
       "0  202385  English          grizzly bear\n",
       "1  202384  English  Mexican grizzly bear\n",
       "2  180543  English          Grizzly Bear"
      ]
     },
     "execution_count": 2,
     "metadata": {},
     "output_type": "execute_result"
    }
   ],
   "source": [
    "pytaxize.itis.searchbycommonname('grizzly bear')"
   ]
  },
  {
   "cell_type": "code",
   "execution_count": 3,
   "metadata": {
    "collapsed": false
   },
   "outputs": [
    {
     "data": {
      "text/html": [
       "<div>\n",
       "<table border=\"1\" class=\"dataframe\">\n",
       "  <thead>\n",
       "    <tr style=\"text-align: right;\">\n",
       "      <th></th>\n",
       "      <th>tsn</th>\n",
       "      <th>language</th>\n",
       "      <th>commonname</th>\n",
       "    </tr>\n",
       "  </thead>\n",
       "  <tbody>\n",
       "    <tr>\n",
       "      <th>0</th>\n",
       "      <td>175420</td>\n",
       "      <td>English</td>\n",
       "      <td>Bald Eagle</td>\n",
       "    </tr>\n",
       "  </tbody>\n",
       "</table>\n",
       "</div>"
      ],
      "text/plain": [
       "      tsn language  commonname\n",
       "0  175420  English  Bald Eagle"
      ]
     },
     "execution_count": 3,
     "metadata": {},
     "output_type": "execute_result"
    }
   ],
   "source": [
    "pytaxize.itis.searchbycommonname('bald eagle')"
   ]
  },
  {
   "cell_type": "code",
   "execution_count": 7,
   "metadata": {
    "collapsed": false
   },
   "outputs": [
    {
     "data": {
      "text/html": [
       "<div>\n",
       "<table border=\"1\" class=\"dataframe\">\n",
       "  <thead>\n",
       "    <tr style=\"text-align: right;\">\n",
       "      <th></th>\n",
       "      <th>tsn</th>\n",
       "      <th>language</th>\n",
       "      <th>commonname</th>\n",
       "    </tr>\n",
       "  </thead>\n",
       "  <tbody>\n",
       "    <tr>\n",
       "      <th>0</th>\n",
       "      <td>114329</td>\n",
       "      <td>English</td>\n",
       "      <td>ladybird beetles</td>\n",
       "    </tr>\n",
       "  </tbody>\n",
       "</table>\n",
       "</div>"
      ],
      "text/plain": [
       "      tsn language        commonname\n",
       "0  114329  English  ladybird beetles"
      ]
     },
     "execution_count": 7,
     "metadata": {},
     "output_type": "execute_result"
    }
   ],
   "source": [
    "pytaxize.itis.searchbycommonname('ladybird')"
   ]
  },
  {
   "cell_type": "code",
   "execution_count": 8,
   "metadata": {
    "collapsed": false
   },
   "outputs": [
    {
     "data": {
      "text/html": [
       "<div>\n",
       "<table border=\"1\" class=\"dataframe\">\n",
       "  <thead>\n",
       "    <tr style=\"text-align: right;\">\n",
       "      <th></th>\n",
       "      <th>tsn</th>\n",
       "      <th>language</th>\n",
       "      <th>commonname</th>\n",
       "    </tr>\n",
       "  </thead>\n",
       "  <tbody>\n",
       "    <tr>\n",
       "      <th>0</th>\n",
       "      <td>621967</td>\n",
       "      <td>English</td>\n",
       "      <td>Crab-eating Raccoon</td>\n",
       "    </tr>\n",
       "    <tr>\n",
       "      <th>1</th>\n",
       "      <td>621969</td>\n",
       "      <td>English</td>\n",
       "      <td>Tres Marias raccoon</td>\n",
       "    </tr>\n",
       "    <tr>\n",
       "      <th>2</th>\n",
       "      <td>621968</td>\n",
       "      <td>English</td>\n",
       "      <td>Barbados raccoon</td>\n",
       "    </tr>\n",
       "    <tr>\n",
       "      <th>3</th>\n",
       "      <td>180574</td>\n",
       "      <td>English</td>\n",
       "      <td>raccoons</td>\n",
       "    </tr>\n",
       "    <tr>\n",
       "      <th>4</th>\n",
       "      <td>621970</td>\n",
       "      <td>English</td>\n",
       "      <td>Bahaman raccoon</td>\n",
       "    </tr>\n",
       "    <tr>\n",
       "      <th>5</th>\n",
       "      <td>77356</td>\n",
       "      <td>English</td>\n",
       "      <td>raccoon coil</td>\n",
       "    </tr>\n",
       "    <tr>\n",
       "      <th>6</th>\n",
       "      <td>180575</td>\n",
       "      <td>English</td>\n",
       "      <td>Raccoon</td>\n",
       "    </tr>\n",
       "    <tr>\n",
       "      <th>7</th>\n",
       "      <td>180575</td>\n",
       "      <td>English</td>\n",
       "      <td>northern raccoon</td>\n",
       "    </tr>\n",
       "    <tr>\n",
       "      <th>8</th>\n",
       "      <td>180575</td>\n",
       "      <td>English</td>\n",
       "      <td>common raccoon</td>\n",
       "    </tr>\n",
       "    <tr>\n",
       "      <th>9</th>\n",
       "      <td>183821</td>\n",
       "      <td>English</td>\n",
       "      <td>Raccoon dog</td>\n",
       "    </tr>\n",
       "    <tr>\n",
       "      <th>10</th>\n",
       "      <td>183821</td>\n",
       "      <td>English</td>\n",
       "      <td>Asiatic Raccoon</td>\n",
       "    </tr>\n",
       "    <tr>\n",
       "      <th>11</th>\n",
       "      <td>621972</td>\n",
       "      <td>English</td>\n",
       "      <td>Cozumel Raccoon</td>\n",
       "    </tr>\n",
       "    <tr>\n",
       "      <th>12</th>\n",
       "      <td>621971</td>\n",
       "      <td>English</td>\n",
       "      <td>Guadeloupe raccoon</td>\n",
       "    </tr>\n",
       "  </tbody>\n",
       "</table>\n",
       "</div>"
      ],
      "text/plain": [
       "       tsn language           commonname\n",
       "0   621967  English  Crab-eating Raccoon\n",
       "1   621969  English  Tres Marias raccoon\n",
       "2   621968  English     Barbados raccoon\n",
       "3   180574  English             raccoons\n",
       "4   621970  English      Bahaman raccoon\n",
       "5    77356  English         raccoon coil\n",
       "6   180575  English              Raccoon\n",
       "7   180575  English     northern raccoon\n",
       "8   180575  English       common raccoon\n",
       "9   183821  English          Raccoon dog\n",
       "10  183821  English      Asiatic Raccoon\n",
       "11  621972  English      Cozumel Raccoon\n",
       "12  621971  English   Guadeloupe raccoon"
      ]
     },
     "execution_count": 8,
     "metadata": {},
     "output_type": "execute_result"
    }
   ],
   "source": [
    "pytaxize.itis.searchbycommonname('raccoon')"
   ]
  },
  {
   "cell_type": "markdown",
   "metadata": {},
   "source": [
    "### Make a list of the final ones to include in our taxonomy"
   ]
  },
  {
   "cell_type": "code",
   "execution_count": 9,
   "metadata": {
    "collapsed": true
   },
   "outputs": [],
   "source": [
    "tsns = [180543, 175420, 114329, 180575]"
   ]
  },
  {
   "cell_type": "markdown",
   "metadata": {},
   "source": [
    "### for each of these we can query ITIS to get the full heirarchy  as a list of elements:"
   ]
  },
  {
   "cell_type": "code",
   "execution_count": 10,
   "metadata": {
    "collapsed": false
   },
   "outputs": [
    {
     "data": {
      "text/plain": [
       "[{'author': None,\n",
       "  'parentName': None,\n",
       "  'parentTsn': None,\n",
       "  'rankName': 'Kingdom',\n",
       "  'taxonName': 'Animalia',\n",
       "  'tsn': '202423'},\n",
       " {'author': None,\n",
       "  'parentName': 'Animalia',\n",
       "  'parentTsn': '202423',\n",
       "  'rankName': 'Subkingdom',\n",
       "  'taxonName': 'Bilateria',\n",
       "  'tsn': '914154'},\n",
       " {'author': None,\n",
       "  'parentName': 'Bilateria',\n",
       "  'parentTsn': '914154',\n",
       "  'rankName': 'Infrakingdom',\n",
       "  'taxonName': 'Deuterostomia',\n",
       "  'tsn': '914156'},\n",
       " {'author': None,\n",
       "  'parentName': 'Deuterostomia',\n",
       "  'parentTsn': '914156',\n",
       "  'rankName': 'Phylum',\n",
       "  'taxonName': 'Chordata',\n",
       "  'tsn': '158852'},\n",
       " {'author': None,\n",
       "  'parentName': 'Chordata',\n",
       "  'parentTsn': '158852',\n",
       "  'rankName': 'Subphylum',\n",
       "  'taxonName': 'Vertebrata',\n",
       "  'tsn': '331030'},\n",
       " {'author': None,\n",
       "  'parentName': 'Vertebrata',\n",
       "  'parentTsn': '331030',\n",
       "  'rankName': 'Infraphylum',\n",
       "  'taxonName': 'Gnathostomata',\n",
       "  'tsn': '914179'},\n",
       " {'author': None,\n",
       "  'parentName': 'Gnathostomata',\n",
       "  'parentTsn': '914179',\n",
       "  'rankName': 'Superclass',\n",
       "  'taxonName': 'Tetrapoda',\n",
       "  'tsn': '914181'},\n",
       " {'author': 'Linnaeus, 1758',\n",
       "  'parentName': 'Tetrapoda',\n",
       "  'parentTsn': '914181',\n",
       "  'rankName': 'Class',\n",
       "  'taxonName': 'Mammalia',\n",
       "  'tsn': '179913'},\n",
       " {'author': 'Parker and Haswell, 1897',\n",
       "  'parentName': 'Mammalia',\n",
       "  'parentTsn': '179913',\n",
       "  'rankName': 'Subclass',\n",
       "  'taxonName': 'Theria',\n",
       "  'tsn': '179916'},\n",
       " {'author': 'Gill, 1872',\n",
       "  'parentName': 'Theria',\n",
       "  'parentTsn': '179916',\n",
       "  'rankName': 'Infraclass',\n",
       "  'taxonName': 'Eutheria',\n",
       "  'tsn': '179925'},\n",
       " {'author': 'Bowdich, 1821',\n",
       "  'parentName': 'Eutheria',\n",
       "  'parentTsn': '179925',\n",
       "  'rankName': 'Order',\n",
       "  'taxonName': 'Carnivora',\n",
       "  'tsn': '180539'},\n",
       " {'author': 'Kretzoi, 1938',\n",
       "  'parentName': 'Carnivora',\n",
       "  'parentTsn': '180539',\n",
       "  'rankName': 'Suborder',\n",
       "  'taxonName': 'Caniformia',\n",
       "  'tsn': '552303'},\n",
       " {'author': 'Gray, 1825',\n",
       "  'parentName': 'Caniformia',\n",
       "  'parentTsn': '552303',\n",
       "  'rankName': 'Family',\n",
       "  'taxonName': 'Procyonidae',\n",
       "  'tsn': '180573'},\n",
       " {'author': 'Storr, 1780',\n",
       "  'parentName': 'Procyonidae',\n",
       "  'parentTsn': '180573',\n",
       "  'rankName': 'Genus',\n",
       "  'taxonName': 'Procyon',\n",
       "  'tsn': '180574'},\n",
       " {'author': '(Linnaeus, 1758)',\n",
       "  'parentName': 'Procyon',\n",
       "  'parentTsn': '180574',\n",
       "  'rankName': 'Species',\n",
       "  'taxonName': 'Procyon lotor',\n",
       "  'tsn': '180575'},\n",
       " {'author': 'Nelson, 1930',\n",
       "  'parentName': 'Procyon lotor',\n",
       "  'parentTsn': '180575',\n",
       "  'rankName': 'Subspecies',\n",
       "  'taxonName': 'Procyon lotor auspicatus',\n",
       "  'tsn': '727464'},\n",
       " {'author': 'Bangs, 1898',\n",
       "  'parentName': 'Procyon lotor',\n",
       "  'parentTsn': '180575',\n",
       "  'rankName': 'Subspecies',\n",
       "  'taxonName': 'Procyon lotor elucus',\n",
       "  'tsn': '727465'},\n",
       " {'author': 'Nelson and Goldman, 1930',\n",
       "  'parentName': 'Procyon lotor',\n",
       "  'parentTsn': '180575',\n",
       "  'rankName': 'Subspecies',\n",
       "  'taxonName': 'Procyon lotor excelsus',\n",
       "  'tsn': '727466'},\n",
       " {'author': 'Mearns, 1914',\n",
       "  'parentName': 'Procyon lotor',\n",
       "  'parentTsn': '180575',\n",
       "  'rankName': 'Subspecies',\n",
       "  'taxonName': 'Procyon lotor fuscipes',\n",
       "  'tsn': '727467'},\n",
       " {'author': 'Nelson and Goldman, 1930',\n",
       "  'parentName': 'Procyon lotor',\n",
       "  'parentTsn': '180575',\n",
       "  'rankName': 'Subspecies',\n",
       "  'taxonName': 'Procyon lotor gloveralleni',\n",
       "  'tsn': '727468'},\n",
       " {'author': 'Nelson and Goldman, 1930',\n",
       "  'parentName': 'Procyon lotor',\n",
       "  'parentTsn': '180575',\n",
       "  'rankName': 'Subspecies',\n",
       "  'taxonName': 'Procyon lotor grinnelli',\n",
       "  'tsn': '727469'},\n",
       " {'author': 'Wagler, 1831',\n",
       "  'parentName': 'Procyon lotor',\n",
       "  'parentTsn': '180575',\n",
       "  'rankName': 'Subspecies',\n",
       "  'taxonName': 'Procyon lotor hernandezii',\n",
       "  'tsn': '727470'},\n",
       " {'author': 'Nelson and Goldman, 1930',\n",
       "  'parentName': 'Procyon lotor',\n",
       "  'parentTsn': '180575',\n",
       "  'rankName': 'Subspecies',\n",
       "  'taxonName': 'Procyon lotor hirtus',\n",
       "  'tsn': '727471'},\n",
       " {'author': 'Nelson, 1930',\n",
       "  'parentName': 'Procyon lotor',\n",
       "  'parentTsn': '180575',\n",
       "  'rankName': 'Subspecies',\n",
       "  'taxonName': 'Procyon lotor incautus',\n",
       "  'tsn': '727472'},\n",
       " {'author': 'Nelson, 1930',\n",
       "  'parentName': 'Procyon lotor',\n",
       "  'parentTsn': '180575',\n",
       "  'rankName': 'Subspecies',\n",
       "  'taxonName': 'Procyon lotor inesperatus',\n",
       "  'tsn': '727473'},\n",
       " {'author': 'Merriam, 1898',\n",
       "  'parentName': 'Procyon lotor',\n",
       "  'parentTsn': '180575',\n",
       "  'rankName': 'Subspecies',\n",
       "  'taxonName': 'Procyon lotor insularis',\n",
       "  'tsn': '727474'},\n",
       " {'author': 'Nelson and Goldman, 1930',\n",
       "  'parentName': 'Procyon lotor',\n",
       "  'parentTsn': '180575',\n",
       "  'rankName': 'Subspecies',\n",
       "  'taxonName': 'Procyon lotor litoreus',\n",
       "  'tsn': '727475'},\n",
       " {'author': '(Linnaeus, 1758)',\n",
       "  'parentName': 'Procyon lotor',\n",
       "  'parentTsn': '180575',\n",
       "  'rankName': 'Subspecies',\n",
       "  'taxonName': 'Procyon lotor lotor',\n",
       "  'tsn': '727463'},\n",
       " {'author': 'Nelson, 1930',\n",
       "  'parentName': 'Procyon lotor',\n",
       "  'parentTsn': '180575',\n",
       "  'rankName': 'Subspecies',\n",
       "  'taxonName': 'Procyon lotor marinus',\n",
       "  'tsn': '727476'},\n",
       " {'author': 'Bangs, 1898',\n",
       "  'parentName': 'Procyon lotor',\n",
       "  'parentTsn': '180575',\n",
       "  'rankName': 'Subspecies',\n",
       "  'taxonName': 'Procyon lotor maynardi',\n",
       "  'tsn': '727477'},\n",
       " {'author': 'Lowery, 1943',\n",
       "  'parentName': 'Procyon lotor',\n",
       "  'parentTsn': '180575',\n",
       "  'rankName': 'Subspecies',\n",
       "  'taxonName': 'Procyon lotor megalodous',\n",
       "  'tsn': '727478'},\n",
       " {'author': 'Merriam, 1899',\n",
       "  'parentName': 'Procyon lotor',\n",
       "  'parentTsn': '180575',\n",
       "  'rankName': 'Subspecies',\n",
       "  'taxonName': 'Procyon lotor pacificus',\n",
       "  'tsn': '727479'},\n",
       " {'author': 'Merriam, 1900',\n",
       "  'parentName': 'Procyon lotor',\n",
       "  'parentTsn': '180575',\n",
       "  'rankName': 'Subspecies',\n",
       "  'taxonName': 'Procyon lotor pallidus',\n",
       "  'tsn': '727480'},\n",
       " {'author': 'Gray, 1842',\n",
       "  'parentName': 'Procyon lotor',\n",
       "  'parentTsn': '180575',\n",
       "  'rankName': 'Subspecies',\n",
       "  'taxonName': 'Procyon lotor psora',\n",
       "  'tsn': '727481'},\n",
       " {'author': 'Miller, 1911',\n",
       "  'parentName': 'Procyon lotor',\n",
       "  'parentTsn': '180575',\n",
       "  'rankName': 'Subspecies',\n",
       "  'taxonName': 'Procyon lotor pumilus',\n",
       "  'tsn': '727482'},\n",
       " {'author': 'Gidley, 1906',\n",
       "  'parentName': 'Procyon lotor',\n",
       "  'parentTsn': '180575',\n",
       "  'rankName': 'Subspecies',\n",
       "  'taxonName': 'Procyon lotor simus',\n",
       "  'tsn': '727483'},\n",
       " {'author': 'Nelson and Goldman, 1930',\n",
       "  'parentName': 'Procyon lotor',\n",
       "  'parentTsn': '180575',\n",
       "  'rankName': 'Subspecies',\n",
       "  'taxonName': 'Procyon lotor vancouverensis',\n",
       "  'tsn': '727484'}]"
      ]
     },
     "execution_count": 10,
     "metadata": {},
     "output_type": "execute_result"
    }
   ],
   "source": [
    "pytaxize.itis.getfullhierarchyfromtsn(180575)"
   ]
  },
  {
   "cell_type": "code",
   "execution_count": 12,
   "metadata": {
    "collapsed": true
   },
   "outputs": [],
   "source": [
    "results = []\n",
    "for tsn in tsns:\n",
    "    heirarchy = pytaxize.itis.getfullhierarchyfromtsn(tsn)\n",
    "    heirarchy = [r for r in heirarchy if r['parentTsn'] != str(tsn)]\n",
    "    results.append(heirarchy)"
   ]
  },
  {
   "cell_type": "markdown",
   "metadata": {},
   "source": [
    "## But to make these easier to work with for merging and traversing the heirarchy let's implement an object oriented abstraction of the data structure. (this prototype will get incorporated into a TBD package when finalized)"
   ]
  },
  {
   "cell_type": "code",
   "execution_count": 11,
   "metadata": {
    "collapsed": true
   },
   "outputs": [],
   "source": [
    "class taxon(object):\n",
    "    def __init__(self, rankname, taxonname, \n",
    "                 tsn, children=None, parent=None):\n",
    "        self.rankname = rankname\n",
    "        self.taxonname = taxonname\n",
    "        self.tsn = tsn\n",
    "        if children:\n",
    "            self.children = children\n",
    "        else:\n",
    "            self.children = []\n",
    "        self.parent = parent\n",
    "        self.indent = \"  \"*int(int(indent_lookup[rankname])/10)\n",
    "    \n",
    "    def __eq__(self, other):\n",
    "        return self.rankname == other.rankname and self.taxonname == other.taxonname and self.tsn == other.tsn\n",
    "    \n",
    "    def __repr__(self):\n",
    "        return self.__str__()\n",
    "        \n",
    "    def __str__(self):\n",
    "        string = self.indent+\"{}:{} (tsn={})\\n\".format(self.rankname, self.taxonname, self.tsn)\n",
    "        if self.children:\n",
    "            string += \"\".join([str(c) for c in self.children])\n",
    "        return string\n",
    "    \n",
    "    def add_child(self, child):\n",
    "        child.parent = self\n",
    "#         child.indent = \"  \"+self.indent\n",
    "        self.children.append(child)\n",
    "        \n",
    "    def find_child_by_tsn(self, tsn):\n",
    "        if self.tsn == tsn:\n",
    "            return self\n",
    "        else:\n",
    "            for child in self.children:\n",
    "                match = child.find_child_by_tsn(tsn)\n",
    "                if match:\n",
    "                    return match\n",
    "        return None\n",
    "                    \n",
    "    \n",
    "    \n",
    "        "
   ]
  },
  {
   "cell_type": "markdown",
   "metadata": {},
   "source": [
    "### Some more code for cycling through our list of species and merging them in a complete taxonomy tree"
   ]
  },
  {
   "cell_type": "code",
   "execution_count": 13,
   "metadata": {
    "collapsed": false
   },
   "outputs": [],
   "source": [
    "ranknames = pytaxize.itis.getranknames()\n",
    "del ranknames['kingdomname']\n",
    "ranknames.drop_duplicates(inplace=True)\n",
    "ranknames.set_index('rankname', inplace=True)\n",
    "\n",
    "indent_lookup = ranknames.to_dict()['rankid']\n",
    "indent_lookup['Life'] = 0\n",
    "\n",
    "life = taxon(rankname=\"Life\", taxonname='Life', tsn=None)\n",
    "for heirarchy in results:\n",
    "    for taxonomy in heirarchy:\n",
    "        #see if taxonomy is alreay there\n",
    "        existing_taxon = life.find_child_by_tsn(taxonomy['tsn'])\n",
    "        if not existing_taxon:\n",
    "            child_taxon = taxon(rankname=taxonomy['rankName'],\n",
    "                                taxonname=taxonomy['taxonName'],\n",
    "                                tsn=taxonomy['tsn'])\n",
    "\n",
    "            parent = life.find_child_by_tsn(taxonomy['parentTsn'])\n",
    "            parent.add_child(child_taxon)"
   ]
  },
  {
   "cell_type": "code",
   "execution_count": 19,
   "metadata": {
    "collapsed": false
   },
   "outputs": [
    {
     "name": "stdout",
     "output_type": "stream",
     "text": [
      "Life:Life (tsn=None)\n",
      "  Kingdom:Animalia (tsn=202423)\n",
      "    Subkingdom:Bilateria (tsn=914154)\n",
      "    Infrakingdom:Deuterostomia (tsn=914156)\n",
      "      Phylum:Chordata (tsn=158852)\n",
      "        Subphylum:Vertebrata (tsn=331030)\n",
      "        Infraphylum:Gnathostomata (tsn=914179)\n",
      "          Superclass:Tetrapoda (tsn=914181)\n",
      "            Class:Mammalia (tsn=179913)\n",
      "              Subclass:Theria (tsn=179916)\n",
      "                Infraclass:Eutheria (tsn=179925)\n",
      "                    Order:Carnivora (tsn=180539)\n",
      "                      Suborder:Caniformia (tsn=552303)\n",
      "                            Family:Ursidae (tsn=180540)\n",
      "                                    Genus:Ursus (tsn=180541)\n",
      "                                            Species:Ursus arctos (tsn=180543)\n",
      "                            Family:Procyonidae (tsn=180573)\n",
      "                                    Genus:Procyon (tsn=180574)\n",
      "                                            Species:Procyon lotor (tsn=180575)\n",
      "            Class:Aves (tsn=174371)\n",
      "                    Order:Accipitriformes (tsn=823961)\n",
      "                            Family:Accipitridae (tsn=175280)\n",
      "                                    Genus:Haliaeetus (tsn=175418)\n",
      "                                            Species:Haliaeetus leucocephalus (tsn=175420)\n",
      "    Infrakingdom:Protostomia (tsn=914155)\n",
      "    Superphylum:Ecdysozoa (tsn=914158)\n",
      "      Phylum:Arthropoda (tsn=82696)\n",
      "        Subphylum:Hexapoda (tsn=563886)\n",
      "            Class:Insecta (tsn=99208)\n",
      "              Subclass:Pterygota (tsn=100500)\n",
      "                Infraclass:Neoptera (tsn=563890)\n",
      "                  Superorder:Holometabola (tsn=914213)\n",
      "                    Order:Coleoptera (tsn=109216)\n",
      "                      Suborder:Polyphaga (tsn=112747)\n",
      "                        Infraorder:Cucujiformia (tsn=678305)\n",
      "                          Superfamily:Coccinelloidea (tsn=999551)\n",
      "                            Family:Coccinellidae (tsn=114329)\n",
      "\n"
     ]
    }
   ],
   "source": [
    "#notice the use of a __str__ and __repr__ method to provide a handy printout of our taxonomic tree!\n",
    "print(life)"
   ]
  },
  {
   "cell_type": "markdown",
   "metadata": {},
   "source": [
    "# Now we just need to convert this to fgdc xml "
   ]
  },
  {
   "cell_type": "code",
   "execution_count": 34,
   "metadata": {
    "collapsed": false
   },
   "outputs": [
    {
     "data": {
      "text/plain": [
       "'animals'"
      ]
     },
     "execution_count": 34,
     "metadata": {},
     "output_type": "execute_result"
    }
   ],
   "source": [
    "c.tsn\n",
    "df = pytaxize.itis.getcommonnamesfromtsn(c.tsn)\n",
    "df.query('lang ==\"English\"').comname.iloc[0]"
   ]
  },
  {
   "cell_type": "code",
   "execution_count": 35,
   "metadata": {
    "collapsed": true
   },
   "outputs": [],
   "source": [
    "from lxml import etree\n",
    "\n",
    "def gen_taxclass(taxon, include_common_names=False):\n",
    "    taxonomicclassification = etree.Element(\"taxoncl\")\n",
    "    taxrankname = etree.Element(\"taxonrn\")\n",
    "    taxrankname.text = taxon.rankname\n",
    "    taxonomicclassification.append(taxrankname)\n",
    "\n",
    "    taxrankvalue = etree.Element(\"taxonrv\")\n",
    "    taxrankvalue.text = taxon.taxonname\n",
    "    taxonomicclassification.append(taxrankvalue)\n",
    "    \n",
    "    if include_common_names and taxon.tsn:\n",
    "        df = pytaxize.itis.getcommonnamesfromtsn(taxon.tsn)\n",
    "        common_name = df.query('lang ==\"English\"').comname.iloc[0]\n",
    "        applicable_common_name = etree.Element(\"common\")\n",
    "        applicable_common_name.text = common_name\n",
    "        taxonomicclassification.append(applicable_common_name)\n",
    "        \n",
    "    for child in taxon.children:\n",
    "        child_node = gen_taxclass(child, include_common_names)\n",
    "        taxonomicclassification.append(child_node)\n",
    "        \n",
    "    return taxonomicclassification\n"
   ]
  },
  {
   "cell_type": "code",
   "execution_count": 37,
   "metadata": {
    "collapsed": false
   },
   "outputs": [],
   "source": [
    "taxonomic_taxclass = gen_taxclass(root)"
   ]
  },
  {
   "cell_type": "code",
   "execution_count": 43,
   "metadata": {
    "collapsed": false,
    "scrolled": false
   },
   "outputs": [
    {
     "name": "stdout",
     "output_type": "stream",
     "text": [
      "<taxoncl>\n",
      "  <taxonrn>Life</taxonrn>\n",
      "  <taxonrv>Life</taxonrv>\n",
      "  <taxoncl>\n",
      "    <taxonrn>Kingdom</taxonrn>\n",
      "    <taxonrv>Animalia</taxonrv>\n",
      "    <taxoncl>\n",
      "      <taxonrn>Subkingdom</taxonrn>\n",
      "      <taxonrv>Bilateria</taxonrv>\n",
      "      <taxoncl>\n",
      "        <taxonrn>Infrakingdom</taxonrn>\n",
      "        <taxonrv>Deuterostomia</taxonrv>\n",
      "        <taxoncl>\n",
      "          <taxonrn>Phylum</taxonrn>\n",
      "          <taxonrv>Chordata</taxonrv>\n",
      "          <taxoncl>\n",
      "            <taxonrn>Subphylum</taxonrn>\n",
      "            <taxonrv>Vertebrata</taxonrv>\n",
      "            <taxoncl>\n",
      "              <taxonrn>Infraphylum</taxonrn>\n",
      "              <taxonrv>Gnathostomata</taxonrv>\n",
      "              <taxoncl>\n",
      "                <taxonrn>Superclass</taxonrn>\n",
      "                <taxonrv>Tetrapoda</taxonrv>\n",
      "                <taxoncl>\n",
      "                  <taxonrn>Class</taxonrn>\n",
      "                  <taxonrv>Mammalia</taxonrv>\n",
      "                  <taxoncl>\n",
      "                    <taxonrn>Subclass</taxonrn>\n",
      "                    <taxonrv>Theria</taxonrv>\n",
      "                    <taxoncl>\n",
      "                      <taxonrn>Infraclass</taxonrn>\n",
      "                      <taxonrv>Eutheria</taxonrv>\n",
      "                      <taxoncl>\n",
      "                        <taxonrn>Order</taxonrn>\n",
      "                        <taxonrv>Carnivora</taxonrv>\n",
      "                        <taxoncl>\n",
      "                          <taxonrn>Suborder</taxonrn>\n",
      "                          <taxonrv>Caniformia</taxonrv>\n",
      "                          <taxoncl>\n",
      "                            <taxonrn>Family</taxonrn>\n",
      "                            <taxonrv>Ursidae</taxonrv>\n",
      "                            <taxoncl>\n",
      "                              <taxonrn>Genus</taxonrn>\n",
      "                              <taxonrv>Ursus</taxonrv>\n",
      "                              <taxoncl>\n",
      "                                <taxonrn>Species</taxonrn>\n",
      "                                <taxonrv>Ursus arctos</taxonrv>\n",
      "                              </taxoncl>\n",
      "                            </taxoncl>\n",
      "                          </taxoncl>\n",
      "                          <taxoncl>\n",
      "                            <taxonrn>Family</taxonrn>\n",
      "                            <taxonrv>Procyonidae</taxonrv>\n",
      "                            <taxoncl>\n",
      "                              <taxonrn>Genus</taxonrn>\n",
      "                              <taxonrv>Procyon</taxonrv>\n",
      "                              <taxoncl>\n",
      "                                <taxonrn>Species</taxonrn>\n",
      "                                <taxonrv>Procyon lotor</taxonrv>\n",
      "                              </taxoncl>\n",
      "                            </taxoncl>\n",
      "                          </taxoncl>\n",
      "                        </taxoncl>\n",
      "                      </taxoncl>\n",
      "                    </taxoncl>\n",
      "                  </taxoncl>\n",
      "                </taxoncl>\n",
      "                <taxoncl>\n",
      "                  <taxonrn>Class</taxonrn>\n",
      "                  <taxonrv>Aves</taxonrv>\n",
      "                  <taxoncl>\n",
      "                    <taxonrn>Order</taxonrn>\n",
      "                    <taxonrv>Accipitriformes</taxonrv>\n",
      "                    <taxoncl>\n",
      "                      <taxonrn>Family</taxonrn>\n",
      "                      <taxonrv>Accipitridae</taxonrv>\n",
      "                      <taxoncl>\n",
      "                        <taxonrn>Genus</taxonrn>\n",
      "                        <taxonrv>Haliaeetus</taxonrv>\n",
      "                        <taxoncl>\n",
      "                          <taxonrn>Species</taxonrn>\n",
      "                          <taxonrv>Haliaeetus leucocephalus</taxonrv>\n",
      "                        </taxoncl>\n",
      "                      </taxoncl>\n",
      "                    </taxoncl>\n",
      "                  </taxoncl>\n",
      "                </taxoncl>\n",
      "              </taxoncl>\n",
      "            </taxoncl>\n",
      "          </taxoncl>\n",
      "        </taxoncl>\n",
      "      </taxoncl>\n",
      "      <taxoncl>\n",
      "        <taxonrn>Infrakingdom</taxonrn>\n",
      "        <taxonrv>Protostomia</taxonrv>\n",
      "        <taxoncl>\n",
      "          <taxonrn>Superphylum</taxonrn>\n",
      "          <taxonrv>Ecdysozoa</taxonrv>\n",
      "          <taxoncl>\n",
      "            <taxonrn>Phylum</taxonrn>\n",
      "            <taxonrv>Arthropoda</taxonrv>\n",
      "            <taxoncl>\n",
      "              <taxonrn>Subphylum</taxonrn>\n",
      "              <taxonrv>Hexapoda</taxonrv>\n",
      "              <taxoncl>\n",
      "                <taxonrn>Class</taxonrn>\n",
      "                <taxonrv>Insecta</taxonrv>\n",
      "                <taxoncl>\n",
      "                  <taxonrn>Subclass</taxonrn>\n",
      "                  <taxonrv>Pterygota</taxonrv>\n",
      "                  <taxoncl>\n",
      "                    <taxonrn>Infraclass</taxonrn>\n",
      "                    <taxonrv>Neoptera</taxonrv>\n",
      "                    <taxoncl>\n",
      "                      <taxonrn>Superorder</taxonrn>\n",
      "                      <taxonrv>Holometabola</taxonrv>\n",
      "                      <taxoncl>\n",
      "                        <taxonrn>Order</taxonrn>\n",
      "                        <taxonrv>Coleoptera</taxonrv>\n",
      "                        <taxoncl>\n",
      "                          <taxonrn>Suborder</taxonrn>\n",
      "                          <taxonrv>Polyphaga</taxonrv>\n",
      "                          <taxoncl>\n",
      "                            <taxonrn>Infraorder</taxonrn>\n",
      "                            <taxonrv>Cucujiformia</taxonrv>\n",
      "                            <taxoncl>\n",
      "                              <taxonrn>Superfamily</taxonrn>\n",
      "                              <taxonrv>Coccinelloidea</taxonrv>\n",
      "                              <taxoncl>\n",
      "                                <taxonrn>Family</taxonrn>\n",
      "                                <taxonrv>Coccinellidae</taxonrv>\n",
      "                              </taxoncl>\n",
      "                            </taxoncl>\n",
      "                          </taxoncl>\n",
      "                        </taxoncl>\n",
      "                      </taxoncl>\n",
      "                    </taxoncl>\n",
      "                  </taxoncl>\n",
      "                </taxoncl>\n",
      "              </taxoncl>\n",
      "            </taxoncl>\n",
      "          </taxoncl>\n",
      "        </taxoncl>\n",
      "      </taxoncl>\n",
      "    </taxoncl>\n",
      "  </taxoncl>\n",
      "</taxoncl>\n",
      "\n"
     ]
    }
   ],
   "source": [
    "print(etree.tostring(taxonomic_taxclass, pretty_print=True).decode())"
   ]
  }
 ],
 "metadata": {
  "kernelspec": {
   "display_name": "Python 3",
   "language": "python",
   "name": "python3"
  },
  "language_info": {
   "codemirror_mode": {
    "name": "ipython",
    "version": 3
   },
   "file_extension": ".py",
   "mimetype": "text/x-python",
   "name": "python",
   "nbconvert_exporter": "python",
   "pygments_lexer": "ipython3",
   "version": "3.5.2"
  }
 },
 "nbformat": 4,
 "nbformat_minor": 1
}
