{
 "cells": [
  {
   "cell_type": "code",
   "execution_count": null,
   "id": "bdb16419",
   "metadata": {},
   "outputs": [],
   "source": [
    "!pip install --trusted-host pypi.org --trusted-host pypi.python.org --trusted-host files.pythonhosted.org laspy "
   ]
  },
  {
   "cell_type": "code",
   "execution_count": 13,
   "id": "5a287355-fb61-496b-8fe8-8dcab97a0738",
   "metadata": {},
   "outputs": [],
   "source": [
    "import laspy\n",
    "import numpy as np\n",
    "from osgeo import osr"
   ]
  },
  {
   "cell_type": "code",
   "execution_count": 9,
   "id": "4882183c-a5ee-4068-a1e0-323a760016f9",
   "metadata": {},
   "outputs": [],
   "source": [
    "fname = r\"C:\\Users\\talbertc\\OneDrive - DOI\\Projects\\MDWiz_lasExtension\\DemoData\\2023-05-05_Site7_Lidar_PointCloud.las\"\n",
    "# fname = \"/mnt/c/Users/talbertc/OneDrive - DOI/Projects/MDWiz_lasExtension/DemoData/2023-05-05_Site7_Lidar_PointCloud.las\""
   ]
  },
  {
   "cell_type": "code",
   "execution_count": 10,
   "id": "96daf837-0a8b-4491-b3b1-856a253a1f69",
   "metadata": {},
   "outputs": [
    {
     "name": "stdout",
     "output_type": "stream",
     "text": [
      "Points from Header: 2581316\n",
      "<LasData(1.2, point fmt: <PointFormat(3, 0 bytes of extra dims)>, 2581316 points, 3 vlrs)>\n",
      "Points from data: 2581316\n",
      "Ground Point Return Number distribution:\n",
      "    1:2571356\n"
     ]
    }
   ],
   "source": [
    "with laspy.open(fname) as fh:\n",
    "    print('Points from Header:', fh.header.point_count)\n",
    "    las = fh.read()\n",
    "    print(las)\n",
    "    print('Points from data:', len(las.points))\n",
    "    ground_pts = las.classification == 2\n",
    "    bins, counts = np.unique(las.return_number[ground_pts], return_counts=True)\n",
    "    print('Ground Point Return Number distribution:')\n",
    "    for r,c in zip(bins,counts):\n",
    "        print('    {}:{}'.format(r,c))"
   ]
  },
  {
   "cell_type": "code",
   "execution_count": 11,
   "id": "ad47ba76-f7bc-4244-a9ff-18d27a86b6c5",
   "metadata": {},
   "outputs": [],
   "source": [
    "crs = fh.header.parse_crs()"
   ]
  },
  {
   "cell_type": "code",
   "execution_count": 12,
   "id": "8aa03005-d106-4f2d-8315-706a1d28fa51",
   "metadata": {},
   "outputs": [
    {
     "data": {
      "text/plain": [
       "pyproj.crs.crs.CRS"
      ]
     },
     "execution_count": 12,
     "metadata": {},
     "output_type": "execute_result"
    }
   ],
   "source": [
    "type(crs)"
   ]
  },
  {
   "cell_type": "code",
   "execution_count": 18,
   "id": "3113e2eb-89ec-469d-b4e8-c04b5f27e351",
   "metadata": {},
   "outputs": [],
   "source": [
    "\n",
    "srs = osr.SpatialReference(wkt=crs.to_wkt())"
   ]
  },
  {
   "cell_type": "code",
   "execution_count": 15,
   "id": "f34ca6a2",
   "metadata": {},
   "outputs": [
    {
     "data": {
      "text/plain": [
       "array([6.383090e+05, 4.229943e+06, 1.786718e+03])"
      ]
     },
     "execution_count": 15,
     "metadata": {},
     "output_type": "execute_result"
    }
   ],
   "source": [
    "fh.header.maxs"
   ]
  },
  {
   "cell_type": "code",
   "execution_count": 16,
   "id": "22d816f6",
   "metadata": {},
   "outputs": [
    {
     "data": {
      "text/plain": [
       "4229943.0"
      ]
     },
     "execution_count": 16,
     "metadata": {},
     "output_type": "execute_result"
    }
   ],
   "source": [
    "fh.header.y_max"
   ]
  },
  {
   "cell_type": "code",
   "execution_count": 24,
   "id": "5aaadd18",
   "metadata": {},
   "outputs": [],
   "source": [
    "def _get_las_extent(fh):\n",
    "    header = fh.header\n",
    "    ulx = header.x_min\n",
    "    lrx = header.x_max\n",
    "    uly = header.y_max\n",
    "    lry = header.y_min\n",
    "    return ulx, lrx, lry, uly\n",
    "\n",
    "min_x, max_x, min_y, max_y = _get_las_extent(fh)"
   ]
  },
  {
   "cell_type": "code",
   "execution_count": 19,
   "id": "92c13c39",
   "metadata": {},
   "outputs": [],
   "source": [
    "target = osr.SpatialReference()\n",
    "target.ImportFromEPSG(4326)\n",
    "target.SetAxisMappingStrategy(osr.OAMS_TRADITIONAL_GIS_ORDER)"
   ]
  },
  {
   "cell_type": "code",
   "execution_count": 26,
   "id": "a5af89ed",
   "metadata": {},
   "outputs": [
    {
     "data": {
      "text/plain": [
       "(4229873.0, 4229943.0)"
      ]
     },
     "execution_count": 26,
     "metadata": {},
     "output_type": "execute_result"
    }
   ],
   "source": [
    "min_y, max_y"
   ]
  },
  {
   "cell_type": "code",
   "execution_count": 20,
   "id": "fdb2a180",
   "metadata": {},
   "outputs": [],
   "source": [
    "spatialRef = srs\n",
    "spatialRef.ExportToProj4()\n",
    "spatialRef.AutoIdentifyEPSG()\n",
    "spref = spatialRef.GetAuthorityCode(None)"
   ]
  },
  {
   "cell_type": "code",
   "execution_count": 22,
   "id": "43d3c21b",
   "metadata": {},
   "outputs": [],
   "source": [
    "def transform_point(xy, from_srs, to_srs):\n",
    "    \"\"\"\n",
    "    Transforms a point from one srs to another\n",
    "\n",
    "    Parameters\n",
    "    ----------\n",
    "    x : float\n",
    "    y : float\n",
    "    from_srs : ogr projection\n",
    "    to_srs : ogr projection\n",
    "\n",
    "    Returns\n",
    "    -------\n",
    "    (x, y) : (float, float)\n",
    "    \"\"\"\n",
    "    coord_xform = osr.CoordinateTransformation(from_srs, to_srs)\n",
    "    y_round = round(xy[1], 8)\n",
    "    x_round = round(xy[0], 8)\n",
    "\n",
    "    results = coord_xform.TransformPoint(x_round, y_round)\n",
    "    return results[0], results[1]"
   ]
  },
  {
   "cell_type": "code",
   "execution_count": 25,
   "id": "c1f0196a",
   "metadata": {},
   "outputs": [
    {
     "data": {
      "text/plain": [
       "(-109.42111471382677,\n",
       " -109.42027901584203,\n",
       " 38.20620953873869,\n",
       " 38.206829117899225)"
      ]
     },
     "execution_count": 25,
     "metadata": {},
     "output_type": "execute_result"
    }
   ],
   "source": [
    "# Basically just run transform_point until no inf values return (weird bug with transform_point)\n",
    "try_again = True\n",
    "while try_again:\n",
    "    west, south  = transform_point((min_x, min_y),from_srs=srs, to_srs=target)\n",
    "    east, north  = transform_point((max_x, max_y),from_srs=srs, to_srs=target)\n",
    "    if float(\"inf\") not in [south, west, north, east] and float(\"-inf\") not in [south, west, north, east]:\n",
    "        try_again = False\n",
    "west, east, south, north"
   ]
  },
  {
   "cell_type": "code",
   "execution_count": null,
   "id": "70f08765",
   "metadata": {},
   "outputs": [],
   "source": []
  }
 ],
 "metadata": {
  "kernelspec": {
   "display_name": "Python 3 (ipykernel)",
   "language": "python",
   "name": "python3"
  },
  "language_info": {
   "codemirror_mode": {
    "name": "ipython",
    "version": 3
   },
   "file_extension": ".py",
   "mimetype": "text/x-python",
   "name": "python",
   "nbconvert_exporter": "python",
   "pygments_lexer": "ipython3",
   "version": "3.11.5"
  }
 },
 "nbformat": 4,
 "nbformat_minor": 5
}
